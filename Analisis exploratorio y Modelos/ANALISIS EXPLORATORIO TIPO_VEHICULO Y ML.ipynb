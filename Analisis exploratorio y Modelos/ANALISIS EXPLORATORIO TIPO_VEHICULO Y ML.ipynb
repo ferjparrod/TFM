{
 "cells": [
  {
   "cell_type": "code",
   "execution_count": 296,
   "metadata": {},
   "outputs": [
    {
     "name": "stdout",
     "output_type": "stream",
     "text": [
      "Dimensiones del dataset de training: (159992, 37)\n",
      "Dimensiones del dataset de test: (39999, 37)\n"
     ]
    }
   ],
   "source": [
    "# Importamos las librerias necesarias\n",
    "import numpy as np\n",
    "import pandas as pd\n",
    "import seaborn as sns\n",
    "import matplotlib.pyplot as plt\n",
    "from matplotlib.colors import ListedColormap\n",
    "%matplotlib inline\n",
    "\n",
    "pd.set_option('display.max_columns', 100) # Con esto garantizo el ver todas las columnas.\n",
    "from sklearn.model_selection import train_test_split\n",
    "\n",
    "df_final = pd.read_csv('Accidentefinal.csv', sep=';', decimal='.')\n",
    "df_train, df_test = train_test_split(df_final, test_size=0.2, shuffle=True, random_state=0)\n",
    "\n",
    "print(f'Dimensiones del dataset de training: {df_train.shape}')\n",
    "print(f'Dimensiones del dataset de test: {df_test.shape}')\n",
    "\n",
    "# Guardamos\n",
    "df_train.to_csv('df_train.csv', sep=';', decimal='.', index=False)\n",
    "df_test.to_csv('df_test.csv', sep=';', decimal='.', index=False)"
   ]
  },
  {
   "cell_type": "code",
   "execution_count": 297,
   "metadata": {},
   "outputs": [],
   "source": [
    "# cargamos el dataframe de train y trabajamos con el\n",
    "df = pd.read_csv('df_train.csv', sep=';', decimal='.')"
   ]
  },
  {
   "cell_type": "code",
   "execution_count": 298,
   "metadata": {},
   "outputs": [
    {
     "data": {
      "text/html": [
       "<div>\n",
       "<style scoped>\n",
       "    .dataframe tbody tr th:only-of-type {\n",
       "        vertical-align: middle;\n",
       "    }\n",
       "\n",
       "    .dataframe tbody tr th {\n",
       "        vertical-align: top;\n",
       "    }\n",
       "\n",
       "    .dataframe thead th {\n",
       "        text-align: right;\n",
       "    }\n",
       "</style>\n",
       "<table border=\"1\" class=\"dataframe\">\n",
       "  <thead>\n",
       "    <tr style=\"text-align: right;\">\n",
       "      <th></th>\n",
       "      <th>Unnamed: 0</th>\n",
       "      <th>Lesividad</th>\n",
       "      <th>Rango_horario</th>\n",
       "      <th>Dia_semana</th>\n",
       "      <th>Distrito</th>\n",
       "      <th>Lugar_accidente</th>\n",
       "      <th>Parte</th>\n",
       "      <th>Granizo</th>\n",
       "      <th>Hielo</th>\n",
       "      <th>Hielo.1</th>\n",
       "      <th>Lluvia</th>\n",
       "      <th>Niebla</th>\n",
       "      <th>Seco</th>\n",
       "      <th>Nieve</th>\n",
       "      <th>Mojada</th>\n",
       "      <th>Aceite</th>\n",
       "      <th>Barro</th>\n",
       "      <th>Gravilla</th>\n",
       "      <th>Hielo.2</th>\n",
       "      <th>Hielo.3</th>\n",
       "      <th>Seca_limpia</th>\n",
       "      <th>Tipo_accidente</th>\n",
       "      <th>Tipo_vehiculo</th>\n",
       "      <th>Tipo_persona</th>\n",
       "      <th>Sexo</th>\n",
       "      <th>Tramo_edad</th>\n",
       "      <th>Latitud</th>\n",
       "      <th>Longitud</th>\n",
       "      <th>Distancia_ocio_km</th>\n",
       "      <th>Lejania_ocio</th>\n",
       "      <th>Distancia_radares_km</th>\n",
       "      <th>Lejania_radares</th>\n",
       "      <th>Fecha_formato</th>\n",
       "      <th>Year</th>\n",
       "      <th>Mes</th>\n",
       "      <th>Dia</th>\n",
       "      <th>Dia_habil</th>\n",
       "    </tr>\n",
       "  </thead>\n",
       "  <tbody>\n",
       "    <tr>\n",
       "      <th>0</th>\n",
       "      <td>148526</td>\n",
       "      <td>HL</td>\n",
       "      <td>DE 16:00 A 16:59</td>\n",
       "      <td>DOMINGO</td>\n",
       "      <td>VICALVARO</td>\n",
       "      <td>AVENIDA DEL MEDITERRANEO KM.</td>\n",
       "      <td>2011/8899</td>\n",
       "      <td>NO</td>\n",
       "      <td>NO</td>\n",
       "      <td>NO</td>\n",
       "      <td>NO</td>\n",
       "      <td>NO</td>\n",
       "      <td>SI</td>\n",
       "      <td>NO</td>\n",
       "      <td>NO</td>\n",
       "      <td>NO</td>\n",
       "      <td>NO</td>\n",
       "      <td>NO</td>\n",
       "      <td>NO</td>\n",
       "      <td>NO</td>\n",
       "      <td>SI</td>\n",
       "      <td>COLISIÓN DOBLE</td>\n",
       "      <td>TURISMO</td>\n",
       "      <td>VIAJERO</td>\n",
       "      <td>MUJER</td>\n",
       "      <td>DE 30 A 34 ANOS</td>\n",
       "      <td>40.258915</td>\n",
       "      <td>-3.910258</td>\n",
       "      <td>5.966126</td>\n",
       "      <td>muy lejos</td>\n",
       "      <td>20.034451</td>\n",
       "      <td>muy lejos</td>\n",
       "      <td>2011-02-10</td>\n",
       "      <td>2011</td>\n",
       "      <td>2</td>\n",
       "      <td>10</td>\n",
       "      <td>0</td>\n",
       "    </tr>\n",
       "    <tr>\n",
       "      <th>1</th>\n",
       "      <td>118444</td>\n",
       "      <td>HL</td>\n",
       "      <td>DE 17:00 A 17:59</td>\n",
       "      <td>MIERCOLES</td>\n",
       "      <td>CIUDAD LINEAL</td>\n",
       "      <td>CALLE DE LA VIRGEN DE AFRICA - CALLE DE LA VIR...</td>\n",
       "      <td>2015/5891</td>\n",
       "      <td>NO</td>\n",
       "      <td>NO</td>\n",
       "      <td>NO</td>\n",
       "      <td>NO</td>\n",
       "      <td>NO</td>\n",
       "      <td>SI</td>\n",
       "      <td>NO</td>\n",
       "      <td>NO</td>\n",
       "      <td>NO</td>\n",
       "      <td>NO</td>\n",
       "      <td>NO</td>\n",
       "      <td>NO</td>\n",
       "      <td>NO</td>\n",
       "      <td>SI</td>\n",
       "      <td>CHOQUE CON OBJETO FIJO</td>\n",
       "      <td>TURISMO</td>\n",
       "      <td>CONDUCTOR</td>\n",
       "      <td>HOMBRE</td>\n",
       "      <td>DE 30 A 34 ANOS</td>\n",
       "      <td>40.436970</td>\n",
       "      <td>-3.652941</td>\n",
       "      <td>0.795508</td>\n",
       "      <td>lejos</td>\n",
       "      <td>1.342058</td>\n",
       "      <td>muy lejos</td>\n",
       "      <td>2015-06-24</td>\n",
       "      <td>2015</td>\n",
       "      <td>6</td>\n",
       "      <td>24</td>\n",
       "      <td>1</td>\n",
       "    </tr>\n",
       "    <tr>\n",
       "      <th>2</th>\n",
       "      <td>180939</td>\n",
       "      <td>HL</td>\n",
       "      <td>DE 4:00 A 4:59</td>\n",
       "      <td>VIERNES</td>\n",
       "      <td>CIUDAD LINEAL</td>\n",
       "      <td>CALLE DE ASCAO - CALLE DE GUTIERRE DE CETINA</td>\n",
       "      <td>2012/7706</td>\n",
       "      <td>NO</td>\n",
       "      <td>NO</td>\n",
       "      <td>NO</td>\n",
       "      <td>NO</td>\n",
       "      <td>NO</td>\n",
       "      <td>SI</td>\n",
       "      <td>NO</td>\n",
       "      <td>NO</td>\n",
       "      <td>NO</td>\n",
       "      <td>NO</td>\n",
       "      <td>NO</td>\n",
       "      <td>NO</td>\n",
       "      <td>NO</td>\n",
       "      <td>SI</td>\n",
       "      <td>COLISIÓN DOBLE</td>\n",
       "      <td>TURISMO</td>\n",
       "      <td>CONDUCTOR</td>\n",
       "      <td>HOMBRE</td>\n",
       "      <td>DE 25 A 29 AÑOS</td>\n",
       "      <td>40.429899</td>\n",
       "      <td>-3.641188</td>\n",
       "      <td>1.809418</td>\n",
       "      <td>muy lejos</td>\n",
       "      <td>1.650425</td>\n",
       "      <td>muy lejos</td>\n",
       "      <td>2012-08-31</td>\n",
       "      <td>2012</td>\n",
       "      <td>8</td>\n",
       "      <td>31</td>\n",
       "      <td>1</td>\n",
       "    </tr>\n",
       "    <tr>\n",
       "      <th>3</th>\n",
       "      <td>53063</td>\n",
       "      <td>HL</td>\n",
       "      <td>DE 5:00 A 5:59</td>\n",
       "      <td>MARTES</td>\n",
       "      <td>ARGANZUELA</td>\n",
       "      <td>PLAZA DEL EMPERADOR CARLOS V - PASEO DE LA INF...</td>\n",
       "      <td>2013/887</td>\n",
       "      <td>NO</td>\n",
       "      <td>NO</td>\n",
       "      <td>NO</td>\n",
       "      <td>NO</td>\n",
       "      <td>NO</td>\n",
       "      <td>SI</td>\n",
       "      <td>NO</td>\n",
       "      <td>NO</td>\n",
       "      <td>NO</td>\n",
       "      <td>NO</td>\n",
       "      <td>NO</td>\n",
       "      <td>NO</td>\n",
       "      <td>NO</td>\n",
       "      <td>SI</td>\n",
       "      <td>ATROPELLO</td>\n",
       "      <td>NO ASIGNADO</td>\n",
       "      <td>PEATON</td>\n",
       "      <td>HOMBRE</td>\n",
       "      <td>DE 35 A 39 AÑOS</td>\n",
       "      <td>40.408140</td>\n",
       "      <td>-3.692851</td>\n",
       "      <td>0.178982</td>\n",
       "      <td>Muy cerca</td>\n",
       "      <td>1.714715</td>\n",
       "      <td>muy lejos</td>\n",
       "      <td>2013-01-29</td>\n",
       "      <td>2013</td>\n",
       "      <td>1</td>\n",
       "      <td>29</td>\n",
       "      <td>1</td>\n",
       "    </tr>\n",
       "    <tr>\n",
       "      <th>4</th>\n",
       "      <td>175510</td>\n",
       "      <td>HL</td>\n",
       "      <td>DE 14:00 A 14:59</td>\n",
       "      <td>SABADO</td>\n",
       "      <td>ARGANZUELA</td>\n",
       "      <td>CALLE DE RICARDO DAMAS - CALLE DE RICARDO GOIZ...</td>\n",
       "      <td>2014/5084</td>\n",
       "      <td>NO</td>\n",
       "      <td>NO</td>\n",
       "      <td>NO</td>\n",
       "      <td>NO</td>\n",
       "      <td>NO</td>\n",
       "      <td>SI</td>\n",
       "      <td>NO</td>\n",
       "      <td>NO</td>\n",
       "      <td>NO</td>\n",
       "      <td>NO</td>\n",
       "      <td>NO</td>\n",
       "      <td>NO</td>\n",
       "      <td>NO</td>\n",
       "      <td>SI</td>\n",
       "      <td>CAÍDA BICICLETA</td>\n",
       "      <td>BICICLETA</td>\n",
       "      <td>CONDUCTOR</td>\n",
       "      <td>MUJER</td>\n",
       "      <td>DE 35 A 39 AÑOS</td>\n",
       "      <td>40.386535</td>\n",
       "      <td>-3.694110</td>\n",
       "      <td>0.588265</td>\n",
       "      <td>lejos</td>\n",
       "      <td>0.080297</td>\n",
       "      <td>Muy cerca</td>\n",
       "      <td>2014-05-31</td>\n",
       "      <td>2014</td>\n",
       "      <td>5</td>\n",
       "      <td>31</td>\n",
       "      <td>0</td>\n",
       "    </tr>\n",
       "  </tbody>\n",
       "</table>\n",
       "</div>"
      ],
      "text/plain": [
       "   Unnamed: 0 Lesividad     Rango_horario Dia_semana  \\\n",
       "0      148526        HL  DE 16:00 A 16:59    DOMINGO   \n",
       "1      118444        HL  DE 17:00 A 17:59  MIERCOLES   \n",
       "2      180939        HL    DE 4:00 A 4:59    VIERNES   \n",
       "3       53063        HL    DE 5:00 A 5:59     MARTES   \n",
       "4      175510        HL  DE 14:00 A 14:59     SABADO   \n",
       "\n",
       "                         Distrito  \\\n",
       "0  VICALVARO                        \n",
       "1  CIUDAD LINEAL                    \n",
       "2  CIUDAD LINEAL                    \n",
       "3  ARGANZUELA                       \n",
       "4  ARGANZUELA                       \n",
       "\n",
       "                                     Lugar_accidente      Parte Granizo Hielo  \\\n",
       "0                       AVENIDA DEL MEDITERRANEO KM.  2011/8899      NO    NO   \n",
       "1  CALLE DE LA VIRGEN DE AFRICA - CALLE DE LA VIR...  2015/5891      NO    NO   \n",
       "2       CALLE DE ASCAO - CALLE DE GUTIERRE DE CETINA  2012/7706      NO    NO   \n",
       "3  PLAZA DEL EMPERADOR CARLOS V - PASEO DE LA INF...   2013/887      NO    NO   \n",
       "4  CALLE DE RICARDO DAMAS - CALLE DE RICARDO GOIZ...  2014/5084      NO    NO   \n",
       "\n",
       "  Hielo.1 Lluvia Niebla Seco Nieve Mojada Aceite Barro Gravilla Hielo.2  \\\n",
       "0      NO     NO     NO   SI    NO     NO     NO    NO       NO      NO   \n",
       "1      NO     NO     NO   SI    NO     NO     NO    NO       NO      NO   \n",
       "2      NO     NO     NO   SI    NO     NO     NO    NO       NO      NO   \n",
       "3      NO     NO     NO   SI    NO     NO     NO    NO       NO      NO   \n",
       "4      NO     NO     NO   SI    NO     NO     NO    NO       NO      NO   \n",
       "\n",
       "  Hielo.3 Seca_limpia          Tipo_accidente Tipo_vehiculo Tipo_persona  \\\n",
       "0      NO          SI          COLISIÓN DOBLE       TURISMO      VIAJERO   \n",
       "1      NO          SI  CHOQUE CON OBJETO FIJO       TURISMO    CONDUCTOR   \n",
       "2      NO          SI          COLISIÓN DOBLE       TURISMO    CONDUCTOR   \n",
       "3      NO          SI               ATROPELLO   NO ASIGNADO       PEATON   \n",
       "4      NO          SI         CAÍDA BICICLETA     BICICLETA    CONDUCTOR   \n",
       "\n",
       "     Sexo       Tramo_edad    Latitud  Longitud  Distancia_ocio_km  \\\n",
       "0   MUJER  DE 30 A 34 ANOS  40.258915 -3.910258           5.966126   \n",
       "1  HOMBRE  DE 30 A 34 ANOS  40.436970 -3.652941           0.795508   \n",
       "2  HOMBRE  DE 25 A 29 AÑOS  40.429899 -3.641188           1.809418   \n",
       "3  HOMBRE  DE 35 A 39 AÑOS  40.408140 -3.692851           0.178982   \n",
       "4   MUJER  DE 35 A 39 AÑOS  40.386535 -3.694110           0.588265   \n",
       "\n",
       "  Lejania_ocio  Distancia_radares_km Lejania_radares Fecha_formato  Year  Mes  \\\n",
       "0    muy lejos             20.034451       muy lejos    2011-02-10  2011    2   \n",
       "1        lejos              1.342058       muy lejos    2015-06-24  2015    6   \n",
       "2    muy lejos              1.650425       muy lejos    2012-08-31  2012    8   \n",
       "3    Muy cerca              1.714715       muy lejos    2013-01-29  2013    1   \n",
       "4        lejos              0.080297       Muy cerca    2014-05-31  2014    5   \n",
       "\n",
       "   Dia  Dia_habil  \n",
       "0   10          0  \n",
       "1   24          1  \n",
       "2   31          1  \n",
       "3   29          1  \n",
       "4   31          0  "
      ]
     },
     "execution_count": 298,
     "metadata": {},
     "output_type": "execute_result"
    }
   ],
   "source": [
    "df.head()"
   ]
  },
  {
   "cell_type": "code",
   "execution_count": 299,
   "metadata": {},
   "outputs": [
    {
     "data": {
      "text/plain": [
       "Unnamed: 0       0\n",
       "Lesividad        0\n",
       "Rango_horario    0\n",
       "Dia_semana       0\n",
       "Distrito         0\n",
       "                ..\n",
       "Fecha_formato    0\n",
       "Year             0\n",
       "Mes              0\n",
       "Dia              0\n",
       "Dia_habil        0\n",
       "Length: 37, dtype: int64"
      ]
     },
     "execution_count": 299,
     "metadata": {},
     "output_type": "execute_result"
    }
   ],
   "source": [
    "# comprobamos que no hay valores nulos\n",
    "df.isna().sum()"
   ]
  },
  {
   "cell_type": "code",
   "execution_count": 300,
   "metadata": {},
   "outputs": [],
   "source": [
    "# eliminamos la columna unnamed\n",
    "df=df.drop(['Unnamed: 0'], axis=1)"
   ]
  },
  {
   "cell_type": "code",
   "execution_count": 301,
   "metadata": {},
   "outputs": [
    {
     "data": {
      "text/plain": [
       "Index(['Lesividad', 'Rango_horario', 'Dia_semana', 'Distrito',\n",
       "       'Lugar_accidente', 'Parte', 'Granizo', 'Hielo', 'Hielo.1', 'Lluvia',\n",
       "       'Niebla', 'Seco', 'Nieve', 'Mojada', 'Aceite', 'Barro', 'Gravilla',\n",
       "       'Hielo.2', 'Hielo.3', 'Seca_limpia', 'Tipo_accidente', 'Tipo_vehiculo',\n",
       "       'Tipo_persona', 'Sexo', 'Tramo_edad', 'Latitud', 'Longitud',\n",
       "       'Distancia_ocio_km', 'Lejania_ocio', 'Distancia_radares_km',\n",
       "       'Lejania_radares', 'Fecha_formato', 'Year', 'Mes', 'Dia', 'Dia_habil'],\n",
       "      dtype='object')"
      ]
     },
     "execution_count": 301,
     "metadata": {},
     "output_type": "execute_result"
    }
   ],
   "source": [
    "df.columns"
   ]
  },
  {
   "cell_type": "markdown",
   "metadata": {},
   "source": [
    "### Analizamos Tipo_vehiculo que sera nuestra variable objetivo"
   ]
  },
  {
   "cell_type": "code",
   "execution_count": 302,
   "metadata": {},
   "outputs": [
    {
     "data": {
      "text/plain": [
       "TURISMO            93093\n",
       "MOTOCICLETA        24947\n",
       "NO ASIGNADO        11491\n",
       "FURGONETA           6835\n",
       "AUTO-TAXI           6177\n",
       "AUTOBUS-AUTOCAR     5267\n",
       "CICLOMOTOR          4690\n",
       "BICICLETA           4008\n",
       "CAMION              1679\n",
       "VARIOS              1401\n",
       "AMBULANCIA           370\n",
       "VEH.3 RUEDAS          34\n",
       "Name: Tipo_vehiculo, dtype: int64"
      ]
     },
     "execution_count": 302,
     "metadata": {},
     "output_type": "execute_result"
    }
   ],
   "source": [
    "df['Tipo_vehiculo'].value_counts()"
   ]
  },
  {
   "cell_type": "code",
   "execution_count": 303,
   "metadata": {},
   "outputs": [],
   "source": [
    "# eliminamos lo no asignado\n",
    "df = df.drop(df[df['Tipo_vehiculo']=='NO ASIGNADO'].index)\n",
    "df = df.drop(df[df['Tipo_vehiculo']=='VARIOS'].index)"
   ]
  },
  {
   "cell_type": "code",
   "execution_count": 304,
   "metadata": {},
   "outputs": [],
   "source": [
    "# Moto, Motocicleta y vehiculo de 3 ruedas lo remplazamos por moto\n",
    "df=df.replace({\"MOTOCICLETA\":\"MOTO\", \n",
    "            \"CICLOMOTOR\":\"MOTO\",\n",
    "            \"VEH.3 RUEDAS\":\"MOTO\"})"
   ]
  },
  {
   "cell_type": "code",
   "execution_count": 305,
   "metadata": {},
   "outputs": [
    {
     "data": {
      "text/plain": [
       "TURISMO            93093\n",
       "MOTO               29671\n",
       "FURGONETA           6835\n",
       "AUTO-TAXI           6177\n",
       "AUTOBUS-AUTOCAR     5267\n",
       "BICICLETA           4008\n",
       "CAMION              1679\n",
       "AMBULANCIA           370\n",
       "Name: Tipo_vehiculo, dtype: int64"
      ]
     },
     "execution_count": 305,
     "metadata": {},
     "output_type": "execute_result"
    }
   ],
   "source": [
    "df['Tipo_vehiculo'].value_counts()"
   ]
  },
  {
   "cell_type": "code",
   "execution_count": 306,
   "metadata": {},
   "outputs": [],
   "source": [
    "# vamos a darle valor numerico al tipo de vehiculo\n",
    "df=df.replace({\"TURISMO\": 0, \n",
    "            \"MOTO\": 1,\n",
    "            \"FURGONETA\": 2,\n",
    "            \"AUTO-TAXI\": 3,\n",
    "            \"AUTOBUS-AUTOCAR\": 4,\n",
    "            \"BICICLETA\": 5,\n",
    "            \"CAMION\": 6,\n",
    "            \"AMBULANCIA\": 7})"
   ]
  },
  {
   "cell_type": "code",
   "execution_count": 307,
   "metadata": {},
   "outputs": [],
   "source": [
    "# Nos llevamos nuestra variable objetivo, a la primera columna para facilitar luego el código.\n",
    "col_name=\"Tipo_vehiculo\"\n",
    "first_col = df.pop(col_name)\n",
    "df.insert(0, col_name, first_col)"
   ]
  },
  {
   "cell_type": "code",
   "execution_count": 308,
   "metadata": {},
   "outputs": [
    {
     "data": {
      "text/html": [
       "<div>\n",
       "<style scoped>\n",
       "    .dataframe tbody tr th:only-of-type {\n",
       "        vertical-align: middle;\n",
       "    }\n",
       "\n",
       "    .dataframe tbody tr th {\n",
       "        vertical-align: top;\n",
       "    }\n",
       "\n",
       "    .dataframe thead th {\n",
       "        text-align: right;\n",
       "    }\n",
       "</style>\n",
       "<table border=\"1\" class=\"dataframe\">\n",
       "  <thead>\n",
       "    <tr style=\"text-align: right;\">\n",
       "      <th></th>\n",
       "      <th>Tipo_vehiculo</th>\n",
       "      <th>Lesividad</th>\n",
       "      <th>Rango_horario</th>\n",
       "      <th>Dia_semana</th>\n",
       "      <th>Distrito</th>\n",
       "      <th>Lugar_accidente</th>\n",
       "      <th>Parte</th>\n",
       "      <th>Granizo</th>\n",
       "      <th>Hielo</th>\n",
       "      <th>Hielo.1</th>\n",
       "      <th>Lluvia</th>\n",
       "      <th>Niebla</th>\n",
       "      <th>Seco</th>\n",
       "      <th>Nieve</th>\n",
       "      <th>Mojada</th>\n",
       "      <th>Aceite</th>\n",
       "      <th>Barro</th>\n",
       "      <th>Gravilla</th>\n",
       "      <th>Hielo.2</th>\n",
       "      <th>Hielo.3</th>\n",
       "      <th>Seca_limpia</th>\n",
       "      <th>Tipo_accidente</th>\n",
       "      <th>Tipo_persona</th>\n",
       "      <th>Sexo</th>\n",
       "      <th>Tramo_edad</th>\n",
       "      <th>Latitud</th>\n",
       "      <th>Longitud</th>\n",
       "      <th>Distancia_ocio_km</th>\n",
       "      <th>Lejania_ocio</th>\n",
       "      <th>Distancia_radares_km</th>\n",
       "      <th>Lejania_radares</th>\n",
       "      <th>Fecha_formato</th>\n",
       "      <th>Year</th>\n",
       "      <th>Mes</th>\n",
       "      <th>Dia</th>\n",
       "      <th>Dia_habil</th>\n",
       "    </tr>\n",
       "  </thead>\n",
       "  <tbody>\n",
       "    <tr>\n",
       "      <th>0</th>\n",
       "      <td>0</td>\n",
       "      <td>HL</td>\n",
       "      <td>DE 16:00 A 16:59</td>\n",
       "      <td>DOMINGO</td>\n",
       "      <td>VICALVARO</td>\n",
       "      <td>AVENIDA DEL MEDITERRANEO KM.</td>\n",
       "      <td>2011/8899</td>\n",
       "      <td>NO</td>\n",
       "      <td>NO</td>\n",
       "      <td>NO</td>\n",
       "      <td>NO</td>\n",
       "      <td>NO</td>\n",
       "      <td>SI</td>\n",
       "      <td>NO</td>\n",
       "      <td>NO</td>\n",
       "      <td>NO</td>\n",
       "      <td>NO</td>\n",
       "      <td>NO</td>\n",
       "      <td>NO</td>\n",
       "      <td>NO</td>\n",
       "      <td>SI</td>\n",
       "      <td>COLISIÓN DOBLE</td>\n",
       "      <td>VIAJERO</td>\n",
       "      <td>MUJER</td>\n",
       "      <td>DE 30 A 34 ANOS</td>\n",
       "      <td>40.258915</td>\n",
       "      <td>-3.910258</td>\n",
       "      <td>5.966126</td>\n",
       "      <td>muy lejos</td>\n",
       "      <td>20.034451</td>\n",
       "      <td>muy lejos</td>\n",
       "      <td>2011-02-10</td>\n",
       "      <td>2011</td>\n",
       "      <td>2</td>\n",
       "      <td>10</td>\n",
       "      <td>0</td>\n",
       "    </tr>\n",
       "    <tr>\n",
       "      <th>1</th>\n",
       "      <td>0</td>\n",
       "      <td>HL</td>\n",
       "      <td>DE 17:00 A 17:59</td>\n",
       "      <td>MIERCOLES</td>\n",
       "      <td>CIUDAD LINEAL</td>\n",
       "      <td>CALLE DE LA VIRGEN DE AFRICA - CALLE DE LA VIR...</td>\n",
       "      <td>2015/5891</td>\n",
       "      <td>NO</td>\n",
       "      <td>NO</td>\n",
       "      <td>NO</td>\n",
       "      <td>NO</td>\n",
       "      <td>NO</td>\n",
       "      <td>SI</td>\n",
       "      <td>NO</td>\n",
       "      <td>NO</td>\n",
       "      <td>NO</td>\n",
       "      <td>NO</td>\n",
       "      <td>NO</td>\n",
       "      <td>NO</td>\n",
       "      <td>NO</td>\n",
       "      <td>SI</td>\n",
       "      <td>CHOQUE CON OBJETO FIJO</td>\n",
       "      <td>CONDUCTOR</td>\n",
       "      <td>HOMBRE</td>\n",
       "      <td>DE 30 A 34 ANOS</td>\n",
       "      <td>40.436970</td>\n",
       "      <td>-3.652941</td>\n",
       "      <td>0.795508</td>\n",
       "      <td>lejos</td>\n",
       "      <td>1.342058</td>\n",
       "      <td>muy lejos</td>\n",
       "      <td>2015-06-24</td>\n",
       "      <td>2015</td>\n",
       "      <td>6</td>\n",
       "      <td>24</td>\n",
       "      <td>1</td>\n",
       "    </tr>\n",
       "    <tr>\n",
       "      <th>2</th>\n",
       "      <td>0</td>\n",
       "      <td>HL</td>\n",
       "      <td>DE 4:00 A 4:59</td>\n",
       "      <td>VIERNES</td>\n",
       "      <td>CIUDAD LINEAL</td>\n",
       "      <td>CALLE DE ASCAO - CALLE DE GUTIERRE DE CETINA</td>\n",
       "      <td>2012/7706</td>\n",
       "      <td>NO</td>\n",
       "      <td>NO</td>\n",
       "      <td>NO</td>\n",
       "      <td>NO</td>\n",
       "      <td>NO</td>\n",
       "      <td>SI</td>\n",
       "      <td>NO</td>\n",
       "      <td>NO</td>\n",
       "      <td>NO</td>\n",
       "      <td>NO</td>\n",
       "      <td>NO</td>\n",
       "      <td>NO</td>\n",
       "      <td>NO</td>\n",
       "      <td>SI</td>\n",
       "      <td>COLISIÓN DOBLE</td>\n",
       "      <td>CONDUCTOR</td>\n",
       "      <td>HOMBRE</td>\n",
       "      <td>DE 25 A 29 AÑOS</td>\n",
       "      <td>40.429899</td>\n",
       "      <td>-3.641188</td>\n",
       "      <td>1.809418</td>\n",
       "      <td>muy lejos</td>\n",
       "      <td>1.650425</td>\n",
       "      <td>muy lejos</td>\n",
       "      <td>2012-08-31</td>\n",
       "      <td>2012</td>\n",
       "      <td>8</td>\n",
       "      <td>31</td>\n",
       "      <td>1</td>\n",
       "    </tr>\n",
       "    <tr>\n",
       "      <th>4</th>\n",
       "      <td>5</td>\n",
       "      <td>HL</td>\n",
       "      <td>DE 14:00 A 14:59</td>\n",
       "      <td>SABADO</td>\n",
       "      <td>ARGANZUELA</td>\n",
       "      <td>CALLE DE RICARDO DAMAS - CALLE DE RICARDO GOIZ...</td>\n",
       "      <td>2014/5084</td>\n",
       "      <td>NO</td>\n",
       "      <td>NO</td>\n",
       "      <td>NO</td>\n",
       "      <td>NO</td>\n",
       "      <td>NO</td>\n",
       "      <td>SI</td>\n",
       "      <td>NO</td>\n",
       "      <td>NO</td>\n",
       "      <td>NO</td>\n",
       "      <td>NO</td>\n",
       "      <td>NO</td>\n",
       "      <td>NO</td>\n",
       "      <td>NO</td>\n",
       "      <td>SI</td>\n",
       "      <td>CAÍDA BICICLETA</td>\n",
       "      <td>CONDUCTOR</td>\n",
       "      <td>MUJER</td>\n",
       "      <td>DE 35 A 39 AÑOS</td>\n",
       "      <td>40.386535</td>\n",
       "      <td>-3.694110</td>\n",
       "      <td>0.588265</td>\n",
       "      <td>lejos</td>\n",
       "      <td>0.080297</td>\n",
       "      <td>Muy cerca</td>\n",
       "      <td>2014-05-31</td>\n",
       "      <td>2014</td>\n",
       "      <td>5</td>\n",
       "      <td>31</td>\n",
       "      <td>0</td>\n",
       "    </tr>\n",
       "    <tr>\n",
       "      <th>5</th>\n",
       "      <td>0</td>\n",
       "      <td>IL</td>\n",
       "      <td>DE 13:00 A 13:59</td>\n",
       "      <td>SABADO</td>\n",
       "      <td>HORTALEZA</td>\n",
       "      <td>CALLE DE AGATHA CHRISTIE - CALLE DE SAN ENRIQU...</td>\n",
       "      <td>2017/3563</td>\n",
       "      <td>NO</td>\n",
       "      <td>NO</td>\n",
       "      <td>NO</td>\n",
       "      <td>NO</td>\n",
       "      <td>NO</td>\n",
       "      <td>SI</td>\n",
       "      <td>NO</td>\n",
       "      <td>NO</td>\n",
       "      <td>NO</td>\n",
       "      <td>NO</td>\n",
       "      <td>NO</td>\n",
       "      <td>NO</td>\n",
       "      <td>NO</td>\n",
       "      <td>SI</td>\n",
       "      <td>COLISIÓN DOBLE</td>\n",
       "      <td>CONDUCTOR</td>\n",
       "      <td>HOMBRE</td>\n",
       "      <td>DE 40 A 44 AÑOS</td>\n",
       "      <td>40.501679</td>\n",
       "      <td>-3.635118</td>\n",
       "      <td>4.895411</td>\n",
       "      <td>muy lejos</td>\n",
       "      <td>4.141752</td>\n",
       "      <td>muy lejos</td>\n",
       "      <td>2017-08-04</td>\n",
       "      <td>2017</td>\n",
       "      <td>8</td>\n",
       "      <td>4</td>\n",
       "      <td>0</td>\n",
       "    </tr>\n",
       "  </tbody>\n",
       "</table>\n",
       "</div>"
      ],
      "text/plain": [
       "   Tipo_vehiculo Lesividad     Rango_horario Dia_semana  \\\n",
       "0              0        HL  DE 16:00 A 16:59    DOMINGO   \n",
       "1              0        HL  DE 17:00 A 17:59  MIERCOLES   \n",
       "2              0        HL    DE 4:00 A 4:59    VIERNES   \n",
       "4              5        HL  DE 14:00 A 14:59     SABADO   \n",
       "5              0        IL  DE 13:00 A 13:59     SABADO   \n",
       "\n",
       "                         Distrito  \\\n",
       "0  VICALVARO                        \n",
       "1  CIUDAD LINEAL                    \n",
       "2  CIUDAD LINEAL                    \n",
       "4  ARGANZUELA                       \n",
       "5  HORTALEZA                        \n",
       "\n",
       "                                     Lugar_accidente      Parte Granizo Hielo  \\\n",
       "0                       AVENIDA DEL MEDITERRANEO KM.  2011/8899      NO    NO   \n",
       "1  CALLE DE LA VIRGEN DE AFRICA - CALLE DE LA VIR...  2015/5891      NO    NO   \n",
       "2       CALLE DE ASCAO - CALLE DE GUTIERRE DE CETINA  2012/7706      NO    NO   \n",
       "4  CALLE DE RICARDO DAMAS - CALLE DE RICARDO GOIZ...  2014/5084      NO    NO   \n",
       "5  CALLE DE AGATHA CHRISTIE - CALLE DE SAN ENRIQU...  2017/3563      NO    NO   \n",
       "\n",
       "  Hielo.1 Lluvia Niebla Seco Nieve Mojada Aceite Barro Gravilla Hielo.2  \\\n",
       "0      NO     NO     NO   SI    NO     NO     NO    NO       NO      NO   \n",
       "1      NO     NO     NO   SI    NO     NO     NO    NO       NO      NO   \n",
       "2      NO     NO     NO   SI    NO     NO     NO    NO       NO      NO   \n",
       "4      NO     NO     NO   SI    NO     NO     NO    NO       NO      NO   \n",
       "5      NO     NO     NO   SI    NO     NO     NO    NO       NO      NO   \n",
       "\n",
       "  Hielo.3 Seca_limpia          Tipo_accidente Tipo_persona    Sexo  \\\n",
       "0      NO          SI          COLISIÓN DOBLE      VIAJERO   MUJER   \n",
       "1      NO          SI  CHOQUE CON OBJETO FIJO    CONDUCTOR  HOMBRE   \n",
       "2      NO          SI          COLISIÓN DOBLE    CONDUCTOR  HOMBRE   \n",
       "4      NO          SI         CAÍDA BICICLETA    CONDUCTOR   MUJER   \n",
       "5      NO          SI          COLISIÓN DOBLE    CONDUCTOR  HOMBRE   \n",
       "\n",
       "        Tramo_edad    Latitud  Longitud  Distancia_ocio_km Lejania_ocio  \\\n",
       "0  DE 30 A 34 ANOS  40.258915 -3.910258           5.966126    muy lejos   \n",
       "1  DE 30 A 34 ANOS  40.436970 -3.652941           0.795508        lejos   \n",
       "2  DE 25 A 29 AÑOS  40.429899 -3.641188           1.809418    muy lejos   \n",
       "4  DE 35 A 39 AÑOS  40.386535 -3.694110           0.588265        lejos   \n",
       "5  DE 40 A 44 AÑOS  40.501679 -3.635118           4.895411    muy lejos   \n",
       "\n",
       "   Distancia_radares_km Lejania_radares Fecha_formato  Year  Mes  Dia  \\\n",
       "0             20.034451       muy lejos    2011-02-10  2011    2   10   \n",
       "1              1.342058       muy lejos    2015-06-24  2015    6   24   \n",
       "2              1.650425       muy lejos    2012-08-31  2012    8   31   \n",
       "4              0.080297       Muy cerca    2014-05-31  2014    5   31   \n",
       "5              4.141752       muy lejos    2017-08-04  2017    8    4   \n",
       "\n",
       "   Dia_habil  \n",
       "0          0  \n",
       "1          1  \n",
       "2          1  \n",
       "4          0  \n",
       "5          0  "
      ]
     },
     "execution_count": 308,
     "metadata": {},
     "output_type": "execute_result"
    }
   ],
   "source": [
    "df.head()"
   ]
  },
  {
   "cell_type": "markdown",
   "metadata": {},
   "source": [
    "### Analizamos Lesividad"
   ]
  },
  {
   "cell_type": "code",
   "execution_count": 309,
   "metadata": {},
   "outputs": [
    {
     "data": {
      "text/plain": [
       "IL    73770\n",
       "HL    68829\n",
       "HG     4404\n",
       "MT       97\n",
       "Name: Lesividad, dtype: int64"
      ]
     },
     "execution_count": 309,
     "metadata": {},
     "output_type": "execute_result"
    }
   ],
   "source": [
    "df['Lesividad'].value_counts()"
   ]
  },
  {
   "cell_type": "code",
   "execution_count": 310,
   "metadata": {},
   "outputs": [],
   "source": [
    "# damos valores numericos a lesividad y lo dejamos como esta\n",
    "df=df.replace({\"IL\":0, \n",
    "                \"HL\":1,\n",
    "                \"HG\":2,\n",
    "                \"MT\":3})"
   ]
  },
  {
   "cell_type": "markdown",
   "metadata": {},
   "source": [
    "### Analizamos Rango Horario"
   ]
  },
  {
   "cell_type": "code",
   "execution_count": 311,
   "metadata": {},
   "outputs": [
    {
     "data": {
      "text/plain": [
       "DE 14:00 A 14:59    10722\n",
       "DE 19:00 A 19:59    10283\n",
       "DE 20:00 A 20:59     9864\n",
       "DE 18:00 A 18:59     9513\n",
       "DE 13:00 A 13:59     9277\n",
       "                    ...  \n",
       "DE 1:00 A 1:59       2088\n",
       "DE 2:00 A 2:59       1540\n",
       "DE 3:00 A 3:59       1412\n",
       "DE 5:00 A 5:59       1236\n",
       "DE 4:00 A 4:59       1175\n",
       "Name: Rango_horario, Length: 24, dtype: int64"
      ]
     },
     "execution_count": 311,
     "metadata": {},
     "output_type": "execute_result"
    }
   ],
   "source": [
    "df['Rango_horario'].value_counts()"
   ]
  },
  {
   "cell_type": "code",
   "execution_count": 312,
   "metadata": {},
   "outputs": [],
   "source": [
    "# damos valores numericos y lo dejamos como esta\n",
    "df=df.replace({\"DE 00:00 A 00:59\": 0, \n",
    "            \"DE 1:00 A 1:59\": 1,\n",
    "            \"DE 2:00 A 2:59\": 2,\n",
    "            \"DE 3:00 A 3:59\": 3,\n",
    "            \"DE 4:00 A 4:59\": 4,\n",
    "            \"DE 5:00 A 5:59\": 5,\n",
    "            \"DE 6:00 A 6:59\": 6,\n",
    "            \"DE 7:00 A 7:59\": 7,\n",
    "            \"DE 8:00 A 8:59\": 8,\n",
    "            \"DE 9:00 A 9:59\": 9,\n",
    "            \"DE 10:00 A 10:59\": 10,\n",
    "            \"DE 11:00 A 11:59\": 11,\n",
    "            \"DE 12:00 A 12:59\": 12,\n",
    "            \"DE 13:00 A 13:59\": 13,\n",
    "            \"DE 14:00 A 14:59\": 14,\n",
    "            \"DE 15:00 A 15:59\": 15,\n",
    "            \"DE 16:00 A 16:59\": 16,\n",
    "            \"DE 17:00 A 17:59\": 17,\n",
    "            \"DE 18:00 A 18:59\": 18,\n",
    "            \"DE 19:00 A 19:59\": 19,\n",
    "            \"DE 20:00 A 20:59\": 20,\n",
    "            \"DE 21:00 A 21:59\": 21,\n",
    "            \"DE 22:00 A 22:59\": 22,\n",
    "            \"DE 23:00 A 23:59\": 23})\n"
   ]
  },
  {
   "cell_type": "markdown",
   "metadata": {},
   "source": [
    "### Analizamos Dia_semana"
   ]
  },
  {
   "cell_type": "code",
   "execution_count": 313,
   "metadata": {},
   "outputs": [
    {
     "data": {
      "text/plain": [
       "VIERNES      25100\n",
       "JUEVES       22524\n",
       "MIERCOLES    22407\n",
       "MARTES       22077\n",
       "LUNES        21149\n",
       "SABADO       17963\n",
       "DOMINGO      15880\n",
       "Name: Dia_semana, dtype: int64"
      ]
     },
     "execution_count": 313,
     "metadata": {},
     "output_type": "execute_result"
    }
   ],
   "source": [
    "# damos valores numericos y lo dejamos como esta\n",
    "df['Dia_semana'].value_counts()"
   ]
  },
  {
   "cell_type": "code",
   "execution_count": 314,
   "metadata": {},
   "outputs": [],
   "source": [
    "# damos valores numericos y lo dejamos como esta\n",
    "df=df.replace({\"LUNES\": 1, \n",
    "                \"MARTES\": 2,\n",
    "                \"MIERCOLES\": 3,\n",
    "                \"JUEVES\": 4,\n",
    "                \"VIERNES\": 5,\n",
    "                \"SABADO\": 6,\n",
    "                \"DOMINGO\": 7})"
   ]
  },
  {
   "cell_type": "markdown",
   "metadata": {},
   "source": [
    "### Analizamos Distrito"
   ]
  },
  {
   "cell_type": "code",
   "execution_count": 315,
   "metadata": {},
   "outputs": [
    {
     "data": {
      "text/plain": [
       "CHAMARTIN                         11379\n",
       "SALAMANCA                         11074\n",
       "CENTRO                            10115\n",
       "CIUDAD LINEAL                      9628\n",
       "PUENTE DE VALLECAS                 9237\n",
       "                                  ...  \n",
       "MORATALAZ                          3636\n",
       "VILLA DE VALLECAS                  2664\n",
       "VICALVARO                          1791\n",
       "BARAJAS                            1657\n",
       "VILLA DE VALLECAS                   300\n",
       "Name: Distrito, Length: 22, dtype: int64"
      ]
     },
     "execution_count": 315,
     "metadata": {},
     "output_type": "execute_result"
    }
   ],
   "source": [
    "# de momento lo dejamos como esta y luego la convertimos a numerica\n",
    "df['Distrito'].value_counts()"
   ]
  },
  {
   "cell_type": "markdown",
   "metadata": {},
   "source": [
    "### Analizamos Lugar_accidente"
   ]
  },
  {
   "cell_type": "code",
   "execution_count": 316,
   "metadata": {},
   "outputs": [
    {
     "data": {
      "text/plain": [
       "AUTOVIA M-30 CALZADA 1 KM.                                       5100\n",
       "AUTOVIA M-30 CALZADA 2 KM.                                       4211\n",
       "PASEO DE LA CASTELLANA                                           3201\n",
       "CALLE DE ALCALA                                                  2338\n",
       "CALLE DE BRAVO MURILLO                                            922\n",
       "                                                                 ... \n",
       "CALLE DE PERICLES - CALLE DE JAIME TERCERO                          1\n",
       "CAMINO DE LA ZARZUELA - CALLE DE BLANCA DE CASTILLA                 1\n",
       "CALLE DE AMANIEL - CALLE DE NOVICIADO                               1\n",
       "AVENIDA DEL CAMINO DE SANTIAGO - PASEO DE LA TIERRA DE MELIDE       1\n",
       "CALLE DE RICARDO BELLVER - CALLE DE PUEBLA DE MONTALBAN             1\n",
       "Name: Lugar_accidente, Length: 14593, dtype: int64"
      ]
     },
     "execution_count": 316,
     "metadata": {},
     "output_type": "execute_result"
    }
   ],
   "source": [
    "# de momento lo dejamos como esta y luego la convertimos a numerica\n",
    "df['Lugar_accidente'].value_counts()"
   ]
  },
  {
   "cell_type": "markdown",
   "metadata": {},
   "source": [
    "### Analizamos Parte"
   ]
  },
  {
   "cell_type": "code",
   "execution_count": 317,
   "metadata": {},
   "outputs": [
    {
     "data": {
      "text/plain": [
       "2012/11769    19\n",
       "2018/2669     19\n",
       "2017/5734     18\n",
       "2017/9166     16\n",
       "2018/7943     16\n",
       "              ..\n",
       "2014/9916      1\n",
       "2018/3340      1\n",
       "2014/1258      1\n",
       "2010/4983      1\n",
       "2010/1805      1\n",
       "Name: Parte, Length: 74970, dtype: int64"
      ]
     },
     "execution_count": 317,
     "metadata": {},
     "output_type": "execute_result"
    }
   ],
   "source": [
    "df['Parte'].value_counts()"
   ]
  },
  {
   "cell_type": "code",
   "execution_count": 318,
   "metadata": {},
   "outputs": [],
   "source": [
    "# eliminamos la columna parte ya que es el parte que crea la policia y no creo que sea relevante\n",
    "df=df.drop(['Parte'], axis=1)"
   ]
  },
  {
   "cell_type": "markdown",
   "metadata": {},
   "source": [
    "### Analizamos Granizo"
   ]
  },
  {
   "cell_type": "code",
   "execution_count": 319,
   "metadata": {},
   "outputs": [
    {
     "data": {
      "text/plain": [
       "NO    147082\n",
       "SI        18\n",
       "Name: Granizo, dtype: int64"
      ]
     },
     "execution_count": 319,
     "metadata": {},
     "output_type": "execute_result"
    }
   ],
   "source": [
    "df['Granizo'].value_counts()"
   ]
  },
  {
   "cell_type": "markdown",
   "metadata": {},
   "source": [
    "### Analizamos Hielo"
   ]
  },
  {
   "cell_type": "code",
   "execution_count": 320,
   "metadata": {},
   "outputs": [
    {
     "data": {
      "text/plain": [
       "NO    146976\n",
       "SI       124\n",
       "Name: Hielo, dtype: int64"
      ]
     },
     "execution_count": 320,
     "metadata": {},
     "output_type": "execute_result"
    }
   ],
   "source": [
    "df['Hielo'].value_counts()"
   ]
  },
  {
   "cell_type": "markdown",
   "metadata": {},
   "source": [
    "### Analizamos Hielo.1"
   ]
  },
  {
   "cell_type": "code",
   "execution_count": 321,
   "metadata": {},
   "outputs": [
    {
     "data": {
      "text/plain": [
       "NO    146891\n",
       "SI       209\n",
       "Name: Hielo.1, dtype: int64"
      ]
     },
     "execution_count": 321,
     "metadata": {},
     "output_type": "execute_result"
    }
   ],
   "source": [
    "df['Hielo.1'].value_counts()"
   ]
  },
  {
   "cell_type": "markdown",
   "metadata": {},
   "source": [
    "### Analizamos Lluvia"
   ]
  },
  {
   "cell_type": "code",
   "execution_count": 322,
   "metadata": {},
   "outputs": [
    {
     "data": {
      "text/plain": [
       "NO    130061\n",
       "SI     17039\n",
       "Name: Lluvia, dtype: int64"
      ]
     },
     "execution_count": 322,
     "metadata": {},
     "output_type": "execute_result"
    }
   ],
   "source": [
    "df['Lluvia'].value_counts()"
   ]
  },
  {
   "cell_type": "markdown",
   "metadata": {},
   "source": [
    "### Analizamos Niebla"
   ]
  },
  {
   "cell_type": "code",
   "execution_count": 323,
   "metadata": {},
   "outputs": [
    {
     "data": {
      "text/plain": [
       "NO    146751\n",
       "SI       349\n",
       "Name: Niebla, dtype: int64"
      ]
     },
     "execution_count": 323,
     "metadata": {},
     "output_type": "execute_result"
    }
   ],
   "source": [
    "df['Niebla'].value_counts()"
   ]
  },
  {
   "cell_type": "markdown",
   "metadata": {},
   "source": [
    "### Analizamos Seco"
   ]
  },
  {
   "cell_type": "code",
   "execution_count": 324,
   "metadata": {},
   "outputs": [
    {
     "data": {
      "text/plain": [
       "SI    129533\n",
       "NO     17567\n",
       "Name: Seco, dtype: int64"
      ]
     },
     "execution_count": 324,
     "metadata": {},
     "output_type": "execute_result"
    }
   ],
   "source": [
    "df['Seco'].value_counts()"
   ]
  },
  {
   "cell_type": "markdown",
   "metadata": {},
   "source": [
    "### Analizamos Nieve"
   ]
  },
  {
   "cell_type": "code",
   "execution_count": 325,
   "metadata": {},
   "outputs": [
    {
     "data": {
      "text/plain": [
       "NO    146880\n",
       "SI       220\n",
       "Name: Nieve, dtype: int64"
      ]
     },
     "execution_count": 325,
     "metadata": {},
     "output_type": "execute_result"
    }
   ],
   "source": [
    "df['Nieve'].value_counts()"
   ]
  },
  {
   "cell_type": "markdown",
   "metadata": {},
   "source": [
    "### Analizamos Mojada"
   ]
  },
  {
   "cell_type": "code",
   "execution_count": 326,
   "metadata": {},
   "outputs": [
    {
     "data": {
      "text/plain": [
       "NO    127685\n",
       "SI     19415\n",
       "Name: Mojada, dtype: int64"
      ]
     },
     "execution_count": 326,
     "metadata": {},
     "output_type": "execute_result"
    }
   ],
   "source": [
    "df['Mojada'].value_counts()"
   ]
  },
  {
   "cell_type": "markdown",
   "metadata": {},
   "source": [
    "### Analizamos Aceite"
   ]
  },
  {
   "cell_type": "code",
   "execution_count": 327,
   "metadata": {},
   "outputs": [
    {
     "data": {
      "text/plain": [
       "NO    146758\n",
       "SI       342\n",
       "Name: Aceite, dtype: int64"
      ]
     },
     "execution_count": 327,
     "metadata": {},
     "output_type": "execute_result"
    }
   ],
   "source": [
    "df['Aceite'].value_counts()"
   ]
  },
  {
   "cell_type": "markdown",
   "metadata": {},
   "source": [
    "### Analizamos Barro"
   ]
  },
  {
   "cell_type": "code",
   "execution_count": 328,
   "metadata": {},
   "outputs": [
    {
     "data": {
      "text/plain": [
       "NO    146983\n",
       "SI       117\n",
       "Name: Barro, dtype: int64"
      ]
     },
     "execution_count": 328,
     "metadata": {},
     "output_type": "execute_result"
    }
   ],
   "source": [
    "df['Barro'].value_counts()"
   ]
  },
  {
   "cell_type": "markdown",
   "metadata": {},
   "source": [
    "### Analizamos Gravilla"
   ]
  },
  {
   "cell_type": "code",
   "execution_count": 329,
   "metadata": {},
   "outputs": [
    {
     "data": {
      "text/plain": [
       "NO    146793\n",
       "SI       307\n",
       "Name: Gravilla, dtype: int64"
      ]
     },
     "execution_count": 329,
     "metadata": {},
     "output_type": "execute_result"
    }
   ],
   "source": [
    "df['Gravilla'].value_counts()"
   ]
  },
  {
   "cell_type": "markdown",
   "metadata": {},
   "source": [
    "### Analizamos Hielo.2"
   ]
  },
  {
   "cell_type": "code",
   "execution_count": 330,
   "metadata": {},
   "outputs": [
    {
     "data": {
      "text/plain": [
       "NO    146976\n",
       "SI       124\n",
       "Name: Hielo.2, dtype: int64"
      ]
     },
     "execution_count": 330,
     "metadata": {},
     "output_type": "execute_result"
    }
   ],
   "source": [
    "df['Hielo.2'].value_counts()"
   ]
  },
  {
   "cell_type": "code",
   "execution_count": 331,
   "metadata": {},
   "outputs": [],
   "source": [
    "# vemos que es la misma que hielo asi que la eliminamos\n",
    "df=df.drop(['Hielo.2'], axis=1)"
   ]
  },
  {
   "cell_type": "markdown",
   "metadata": {},
   "source": [
    "### Analizamos Hielo.3"
   ]
  },
  {
   "cell_type": "code",
   "execution_count": 332,
   "metadata": {},
   "outputs": [
    {
     "data": {
      "text/plain": [
       "NO    146891\n",
       "SI       209\n",
       "Name: Hielo.3, dtype: int64"
      ]
     },
     "execution_count": 332,
     "metadata": {},
     "output_type": "execute_result"
    }
   ],
   "source": [
    "df['Hielo.3'].value_counts()"
   ]
  },
  {
   "cell_type": "code",
   "execution_count": 333,
   "metadata": {},
   "outputs": [],
   "source": [
    "# vemos que es la misma que hielo1 asi que la eliminamos\n",
    "df=df.drop(['Hielo.3'], axis=1)"
   ]
  },
  {
   "cell_type": "markdown",
   "metadata": {},
   "source": [
    "### Analizamos Seca_limpia"
   ]
  },
  {
   "cell_type": "code",
   "execution_count": 334,
   "metadata": {},
   "outputs": [
    {
     "data": {
      "text/plain": [
       "SI    126421\n",
       "NO     20679\n",
       "Name: Seca_limpia, dtype: int64"
      ]
     },
     "execution_count": 334,
     "metadata": {},
     "output_type": "execute_result"
    }
   ],
   "source": [
    "df['Seca_limpia'].value_counts()"
   ]
  },
  {
   "cell_type": "markdown",
   "metadata": {},
   "source": [
    "### Creamos y analizamos Condiciones_adversas"
   ]
  },
  {
   "cell_type": "code",
   "execution_count": 335,
   "metadata": {},
   "outputs": [],
   "source": [
    "# Vamos a crear una columna con condiciones_adversas,\n",
    "# meter el estado de la calzada ya que por si solas no son relevantes\n",
    "df['Condiciones_adversas']=0"
   ]
  },
  {
   "cell_type": "code",
   "execution_count": 336,
   "metadata": {},
   "outputs": [
    {
     "data": {
      "text/plain": [
       "0    147100\n",
       "Name: Condiciones_adversas, dtype: int64"
      ]
     },
     "execution_count": 336,
     "metadata": {},
     "output_type": "execute_result"
    }
   ],
   "source": [
    "df['Condiciones_adversas'].value_counts()"
   ]
  },
  {
   "cell_type": "code",
   "execution_count": 337,
   "metadata": {},
   "outputs": [],
   "source": [
    "df['Granizo'] = df['Granizo'].map({'SI': 1, 'NO': 0})\n",
    "df['Hielo'] = df['Hielo'].map({'SI': 1, 'NO': 0})\n",
    "df['Hielo.1'] = df['Hielo.1'].map({'SI': 1, 'NO': 0})\n",
    "df['Lluvia'] = df['Lluvia'].map({'SI': 1, 'NO': 0})\n",
    "df['Niebla'] = df['Niebla'].map({'SI': 1, 'NO': 0})\n",
    "df['Seco'] = df['Seco'].map({'SI': 1, 'NO': 0})\n",
    "df['Nieve'] = df['Nieve'].map({'SI': 1, 'NO': 0})\n",
    "df['Mojada'] = df['Mojada'].map({'SI': 1, 'NO': 0})\n",
    "df['Aceite'] = df['Aceite'].map({'SI': 1, 'NO': 0})\n",
    "df['Barro'] = df['Barro'].map({'SI': 1, 'NO': 0})\n",
    "df['Gravilla'] = df['Gravilla'].map({'SI': 1, 'NO': 0})\n",
    "df['Seca_limpia'] = df['Seca_limpia'].map({'SI': 1, 'NO': 0})\n"
   ]
  },
  {
   "cell_type": "code",
   "execution_count": 338,
   "metadata": {},
   "outputs": [],
   "source": [
    "# Vamos a crear Condiciones_adversas, que será la suma de cualquier condición, ya sea climática o del mal estado de la carretera\n",
    "df['Condiciones_adversas'] = df['Granizo'] + df['Hielo'] + df['Hielo.1'] +df['Lluvia'] + df['Niebla'] + df['Nieve'] + df['Mojada'] + df['Aceite'] + df['Barro'] + df['Gravilla']\n",
    "df['Condiciones_adversas'] = (df['Condiciones_adversas'] > 0)*1 # Con esto hacemos que todo lo que sea superior a 1 lo codificamos como 1."
   ]
  },
  {
   "cell_type": "code",
   "execution_count": 339,
   "metadata": {},
   "outputs": [
    {
     "data": {
      "text/plain": [
       "0    126241\n",
       "1     20859\n",
       "Name: Condiciones_adversas, dtype: int64"
      ]
     },
     "execution_count": 339,
     "metadata": {},
     "output_type": "execute_result"
    }
   ],
   "source": [
    "df['Condiciones_adversas'].value_counts()"
   ]
  },
  {
   "cell_type": "code",
   "execution_count": 340,
   "metadata": {},
   "outputs": [],
   "source": [
    "# eliminamos el los estados de la calzada y nos quedamos con condiciones adversas\n",
    "df=df.drop(['Granizo','Hielo','Hielo.1','Lluvia','Niebla','Seco','Nieve','Mojada','Aceite','Barro','Gravilla','Seca_limpia'], axis=1)"
   ]
  },
  {
   "cell_type": "markdown",
   "metadata": {},
   "source": [
    "### Analizamos Tipo_accidente"
   ]
  },
  {
   "cell_type": "code",
   "execution_count": 341,
   "metadata": {},
   "outputs": [
    {
     "data": {
      "text/plain": [
       "COLISIÓN DOBLE             95569\n",
       "COLISIÓN MÚLTIPLE          20113\n",
       "ATROPELLO                  11216\n",
       "CAÍDA MOTOCICLETA           8420\n",
       "CHOQUE CON OBJETO FIJO      5822\n",
       "CAÍDA VIAJERO BUS           1795\n",
       "CAÍDA CICLOMOTOR            1576\n",
       "CAÍDA BICICLETA             1454\n",
       "VUELCO                       594\n",
       "OTRAS CAUSAS                 534\n",
       "CAÍDA VEHÍCULO 3 RUEDAS        7\n",
       "Name: Tipo_accidente, dtype: int64"
      ]
     },
     "execution_count": 341,
     "metadata": {},
     "output_type": "execute_result"
    }
   ],
   "source": [
    "# de momento lo dejamos como esta y luego la convertimos a numerica\n",
    "df['Tipo_accidente'].value_counts()"
   ]
  },
  {
   "cell_type": "markdown",
   "metadata": {},
   "source": [
    "### Analizamos Tipo_persona"
   ]
  },
  {
   "cell_type": "code",
   "execution_count": 342,
   "metadata": {},
   "outputs": [
    {
     "data": {
      "text/plain": [
       "CONDUCTOR    111469\n",
       "VIAJERO       35625\n",
       "PEATON            6\n",
       "Name: Tipo_persona, dtype: int64"
      ]
     },
     "execution_count": 342,
     "metadata": {},
     "output_type": "execute_result"
    }
   ],
   "source": [
    "df['Tipo_persona'].value_counts()"
   ]
  },
  {
   "cell_type": "code",
   "execution_count": 343,
   "metadata": {},
   "outputs": [],
   "source": [
    "# lo convertimos a numerico\n",
    "df=df.replace({\"CONDUCTOR\": 0,\n",
    "                \"VIAJERO\": 1,\n",
    "                \"PEATON\": 2})"
   ]
  },
  {
   "cell_type": "markdown",
   "metadata": {},
   "source": [
    "### Analizamos Sexo"
   ]
  },
  {
   "cell_type": "code",
   "execution_count": 344,
   "metadata": {},
   "outputs": [
    {
     "data": {
      "text/plain": [
       "HOMBRE         99052\n",
       "MUJER          47539\n",
       "NO ASIGNADO      509\n",
       "Name: Sexo, dtype: int64"
      ]
     },
     "execution_count": 344,
     "metadata": {},
     "output_type": "execute_result"
    }
   ],
   "source": [
    "df['Sexo'].value_counts()"
   ]
  },
  {
   "cell_type": "code",
   "execution_count": 345,
   "metadata": {},
   "outputs": [],
   "source": [
    "# eliminamos la no asignado\n",
    "df = df.drop(df[df['Sexo']=='NO ASIGNADO'].index)"
   ]
  },
  {
   "cell_type": "code",
   "execution_count": 346,
   "metadata": {},
   "outputs": [],
   "source": [
    "# lo convertimos a numerico\n",
    "df=df.replace({\"HOMBRE\": 0,\n",
    "                \"MUJER\": 1})"
   ]
  },
  {
   "cell_type": "markdown",
   "metadata": {},
   "source": [
    "### Analizamos Tramo_edad"
   ]
  },
  {
   "cell_type": "code",
   "execution_count": 347,
   "metadata": {},
   "outputs": [
    {
     "data": {
      "text/plain": [
       "DE 30 A 34 ANOS      19837\n",
       "DE 25 A 29 AÑOS      19396\n",
       "DE 35 A 39 AÑOS      19056\n",
       "DE 40 A 44 AÑOS      16432\n",
       "DE 45 A 49 AÑOS      13802\n",
       "DE 21 A 24 AÑOS      12662\n",
       "DE 50 A 54 AÑOS      11240\n",
       "DE 55 A 59 AÑOS       7623\n",
       "DE 18 A 20 AÑOS       5845\n",
       "DE 60 A 64 AÑOS       5026\n",
       "DE MAS DE 74 AÑOS     2844\n",
       "DE 65 A 69 AÑOS       2824\n",
       "DE 70 A 74 AÑOS       2029\n",
       "DESCONOCIDA           1929\n",
       "DE 0 A 5 AÑOS         1848\n",
       "DE 10 A 14 AÑOS       1504\n",
       "DE 15 A 17 AÑOS       1401\n",
       "DE 6 A 9 AÑOS         1293\n",
       "Name: Tramo_edad, dtype: int64"
      ]
     },
     "execution_count": 347,
     "metadata": {},
     "output_type": "execute_result"
    }
   ],
   "source": [
    "df['Tramo_edad'].value_counts()"
   ]
  },
  {
   "cell_type": "code",
   "execution_count": 348,
   "metadata": {},
   "outputs": [],
   "source": [
    "# eliminamos edad desconocida\n",
    "df = df.drop(df[df['Tramo_edad']=='DESCONOCIDA'].index)"
   ]
  },
  {
   "cell_type": "code",
   "execution_count": 349,
   "metadata": {},
   "outputs": [],
   "source": [
    "# convertimos a numerica\n",
    "df=df.replace({\"DE 0 A 5 AÑOS\": 2.5,\n",
    "            \"DE 6 A 9 AÑOS\": 7.5,\n",
    "            \"DE 10 A 14 AÑOS\": 12,\n",
    "            \"DE 15 A 17 AÑOS\": 16,\n",
    "            \"DE 18 A 20 AÑOS\": 19,\n",
    "            \"DE 21 A 24 AÑOS\": 22.5,\n",
    "            \"DE 25 A 29 AÑOS\": 27,\n",
    "            \"DE 30 A 34 ANOS\": 32,\n",
    "            \"DE 35 A 39 AÑOS\": 37,\n",
    "            \"DE 40 A 44 AÑOS\": 42,\n",
    "            \"DE 45 A 49 AÑOS\": 47,\n",
    "            \"DE 50 A 54 AÑOS\": 52,\n",
    "            \"DE 55 A 59 AÑOS\": 57,\n",
    "            \"DE 60 A 64 AÑOS\": 62,\n",
    "            \"DE 65 A 69 AÑOS\": 67,\n",
    "            \"DE 70 A 74 AÑOS\": 72,\n",
    "            \"DE MAS DE 74 AÑOS\": 80})"
   ]
  },
  {
   "cell_type": "markdown",
   "metadata": {},
   "source": [
    "### Analizamos Latitud"
   ]
  },
  {
   "cell_type": "code",
   "execution_count": 350,
   "metadata": {},
   "outputs": [
    {
     "data": {
      "text/plain": [
       "40.481326    1563\n",
       "40.406353    1492\n",
       "40.490213    1451\n",
       "40.396602    1217\n",
       "40.441420    1205\n",
       "             ... \n",
       "40.462812       1\n",
       "40.392483       1\n",
       "40.448429       1\n",
       "40.468377       1\n",
       "40.495501       1\n",
       "Name: Latitud, Length: 17027, dtype: int64"
      ]
     },
     "execution_count": 350,
     "metadata": {},
     "output_type": "execute_result"
    }
   ],
   "source": [
    "df['Latitud'].value_counts()"
   ]
  },
  {
   "cell_type": "code",
   "execution_count": 351,
   "metadata": {},
   "outputs": [],
   "source": [
    "# la vamos a eliminar ya que solo la necesitabamos para unir los dataset\n",
    "df=df.drop(['Latitud'], axis=1)"
   ]
  },
  {
   "cell_type": "markdown",
   "metadata": {},
   "source": [
    "### Analizamos Longitud"
   ]
  },
  {
   "cell_type": "code",
   "execution_count": 352,
   "metadata": {},
   "outputs": [
    {
     "data": {
      "text/plain": [
       "-3.673715    1563\n",
       "-3.666083    1492\n",
       "-3.698348    1451\n",
       "-3.703340    1217\n",
       "-3.691957    1205\n",
       "             ... \n",
       "-3.644010       1\n",
       "-3.699818       1\n",
       "-3.689514       1\n",
       "-3.702160       1\n",
       "-3.676164       1\n",
       "Name: Longitud, Length: 17042, dtype: int64"
      ]
     },
     "execution_count": 352,
     "metadata": {},
     "output_type": "execute_result"
    }
   ],
   "source": [
    "\n",
    "df['Longitud'].value_counts()"
   ]
  },
  {
   "cell_type": "code",
   "execution_count": 353,
   "metadata": {},
   "outputs": [],
   "source": [
    "# la vamos a eliminar ya que solo la necesitabamos para unir los dataset\n",
    "df=df.drop(['Longitud'], axis=1)"
   ]
  },
  {
   "cell_type": "markdown",
   "metadata": {},
   "source": [
    "### Analizamos Distancia_ocio_km"
   ]
  },
  {
   "cell_type": "code",
   "execution_count": 354,
   "metadata": {},
   "outputs": [
    {
     "data": {
      "text/plain": [
       "1.264343    1563\n",
       "0.554934    1492\n",
       "0.327146    1451\n",
       "0.140841    1217\n",
       "0.283663    1205\n",
       "            ... \n",
       "1.232039       1\n",
       "0.316703       1\n",
       "0.125492       1\n",
       "1.247527       1\n",
       "4.078123       1\n",
       "Name: Distancia_ocio_km, Length: 17151, dtype: int64"
      ]
     },
     "execution_count": 354,
     "metadata": {},
     "output_type": "execute_result"
    }
   ],
   "source": [
    "#la dejamos como esta\n",
    "df['Distancia_ocio_km'].value_counts()"
   ]
  },
  {
   "cell_type": "markdown",
   "metadata": {},
   "source": [
    "### Analizamos Lejania_ocio"
   ]
  },
  {
   "cell_type": "code",
   "execution_count": 355,
   "metadata": {},
   "outputs": [
    {
     "data": {
      "text/plain": [
       "muy lejos    58698\n",
       "Cerca        31819\n",
       "Muy cerca    28539\n",
       "lejos        25606\n",
       "Name: Lejania_ocio, dtype: int64"
      ]
     },
     "execution_count": 355,
     "metadata": {},
     "output_type": "execute_result"
    }
   ],
   "source": [
    "df['Lejania_ocio'].value_counts()"
   ]
  },
  {
   "cell_type": "code",
   "execution_count": 356,
   "metadata": {},
   "outputs": [],
   "source": [
    "# lo convertimos a numerico\n",
    "df=df.replace({\"Muy cerca\": 0,\n",
    "                \"Cerca\": 1,\n",
    "                \"lejos\": 2,\n",
    "                \"muy lejos\": 3})"
   ]
  },
  {
   "cell_type": "markdown",
   "metadata": {},
   "source": [
    "### Analizamos Distancia_radares_km"
   ]
  },
  {
   "cell_type": "code",
   "execution_count": 357,
   "metadata": {},
   "outputs": [
    {
     "data": {
      "text/plain": [
       "0.226065    1563\n",
       "1.055964    1492\n",
       "1.538157    1451\n",
       "0.186728    1217\n",
       "2.762511    1205\n",
       "            ... \n",
       "1.583101       1\n",
       "0.951510       1\n",
       "2.825449       1\n",
       "3.579825       1\n",
       "1.902687       1\n",
       "Name: Distancia_radares_km, Length: 17151, dtype: int64"
      ]
     },
     "execution_count": 357,
     "metadata": {},
     "output_type": "execute_result"
    }
   ],
   "source": [
    "# lo dejamos como esta\n",
    "df['Distancia_radares_km'].value_counts()"
   ]
  },
  {
   "cell_type": "markdown",
   "metadata": {},
   "source": [
    "### Analizamos Lejania_radares"
   ]
  },
  {
   "cell_type": "code",
   "execution_count": 358,
   "metadata": {},
   "outputs": [
    {
     "data": {
      "text/plain": [
       "3    112397\n",
       "2     21262\n",
       "1      7981\n",
       "0      3022\n",
       "Name: Lejania_radares, dtype: int64"
      ]
     },
     "execution_count": 358,
     "metadata": {},
     "output_type": "execute_result"
    }
   ],
   "source": [
    "# lo dejamos como esta\n",
    "df['Lejania_radares'].value_counts()"
   ]
  },
  {
   "cell_type": "markdown",
   "metadata": {},
   "source": [
    "### Analizamos Fecha_formato"
   ]
  },
  {
   "cell_type": "code",
   "execution_count": 359,
   "metadata": {},
   "outputs": [
    {
     "data": {
      "text/plain": [
       "2013-10-25    131\n",
       "2017-12-21    105\n",
       "2016-12-02    104\n",
       "2013-12-13    100\n",
       "2017-11-28     99\n",
       "             ... \n",
       "2010-12-09      8\n",
       "2015-02-08      7\n",
       "2013-03-25      7\n",
       "2013-08-18      4\n",
       "2011-04-23      4\n",
       "Name: Fecha_formato, Length: 3286, dtype: int64"
      ]
     },
     "execution_count": 359,
     "metadata": {},
     "output_type": "execute_result"
    }
   ],
   "source": [
    "df['Fecha_formato'].value_counts()"
   ]
  },
  {
   "cell_type": "code",
   "execution_count": 360,
   "metadata": {},
   "outputs": [],
   "source": [
    "# la eliminamos ya que hemos sacado año, mes, dia y festivo\n",
    "df=df.drop(['Fecha_formato'], axis=1)"
   ]
  },
  {
   "cell_type": "markdown",
   "metadata": {},
   "source": [
    "### Analizamos Year"
   ]
  },
  {
   "cell_type": "code",
   "execution_count": 361,
   "metadata": {},
   "outputs": [
    {
     "data": {
      "text/plain": [
       "2018    17440\n",
       "2017    17250\n",
       "2016    16758\n",
       "2015    16315\n",
       "2014    16257\n",
       "2012    15509\n",
       "2011    15278\n",
       "2013    15191\n",
       "2010    14664\n",
       "Name: Year, dtype: int64"
      ]
     },
     "execution_count": 361,
     "metadata": {},
     "output_type": "execute_result"
    }
   ],
   "source": [
    "# lo dejamos como esta\n",
    "df['Year'].value_counts()"
   ]
  },
  {
   "cell_type": "markdown",
   "metadata": {},
   "source": [
    "### Analizamos Mes"
   ]
  },
  {
   "cell_type": "code",
   "execution_count": 362,
   "metadata": {},
   "outputs": [
    {
     "data": {
      "text/plain": [
       "10    13316\n",
       "11    13299\n",
       "12    12917\n",
       "5     12826\n",
       "6     12644\n",
       "9     12431\n",
       "1     11959\n",
       "4     11887\n",
       "3     11604\n",
       "7     11580\n",
       "2     10985\n",
       "8      9214\n",
       "Name: Mes, dtype: int64"
      ]
     },
     "execution_count": 362,
     "metadata": {},
     "output_type": "execute_result"
    }
   ],
   "source": [
    "#lo dejamos como esta\n",
    "df['Mes'].value_counts()"
   ]
  },
  {
   "cell_type": "markdown",
   "metadata": {},
   "source": [
    "### Analizamos Dia"
   ]
  },
  {
   "cell_type": "code",
   "execution_count": 363,
   "metadata": {},
   "outputs": [
    {
     "data": {
      "text/plain": [
       "10    5484\n",
       "6     5337\n",
       "3     5116\n",
       "19    5042\n",
       "20    4987\n",
       "      ... \n",
       "30    4489\n",
       "4     4470\n",
       "1     3948\n",
       "8     3268\n",
       "31    2552\n",
       "Name: Dia, Length: 31, dtype: int64"
      ]
     },
     "execution_count": 363,
     "metadata": {},
     "output_type": "execute_result"
    }
   ],
   "source": [
    "# lo dejamos como esta\n",
    "df['Dia'].value_counts()"
   ]
  },
  {
   "cell_type": "markdown",
   "metadata": {},
   "source": [
    "### Analizamos Dia_habil"
   ]
  },
  {
   "cell_type": "code",
   "execution_count": 364,
   "metadata": {},
   "outputs": [
    {
     "data": {
      "text/plain": [
       "1    108754\n",
       "0     35908\n",
       "Name: Dia_habil, dtype: int64"
      ]
     },
     "execution_count": 364,
     "metadata": {},
     "output_type": "execute_result"
    }
   ],
   "source": [
    "# Lo dejamos como esta\n",
    "df['Dia_habil'].value_counts()"
   ]
  },
  {
   "cell_type": "code",
   "execution_count": 365,
   "metadata": {},
   "outputs": [
    {
     "data": {
      "text/html": [
       "<div>\n",
       "<style scoped>\n",
       "    .dataframe tbody tr th:only-of-type {\n",
       "        vertical-align: middle;\n",
       "    }\n",
       "\n",
       "    .dataframe tbody tr th {\n",
       "        vertical-align: top;\n",
       "    }\n",
       "\n",
       "    .dataframe thead th {\n",
       "        text-align: right;\n",
       "    }\n",
       "</style>\n",
       "<table border=\"1\" class=\"dataframe\">\n",
       "  <thead>\n",
       "    <tr style=\"text-align: right;\">\n",
       "      <th></th>\n",
       "      <th>0</th>\n",
       "      <th>1</th>\n",
       "      <th>2</th>\n",
       "      <th>4</th>\n",
       "      <th>5</th>\n",
       "    </tr>\n",
       "  </thead>\n",
       "  <tbody>\n",
       "    <tr>\n",
       "      <th>Tipo_vehiculo</th>\n",
       "      <td>0</td>\n",
       "      <td>0</td>\n",
       "      <td>0</td>\n",
       "      <td>5</td>\n",
       "      <td>0</td>\n",
       "    </tr>\n",
       "    <tr>\n",
       "      <th>Lesividad</th>\n",
       "      <td>1</td>\n",
       "      <td>1</td>\n",
       "      <td>1</td>\n",
       "      <td>1</td>\n",
       "      <td>0</td>\n",
       "    </tr>\n",
       "    <tr>\n",
       "      <th>Rango_horario</th>\n",
       "      <td>16</td>\n",
       "      <td>17</td>\n",
       "      <td>4</td>\n",
       "      <td>14</td>\n",
       "      <td>13</td>\n",
       "    </tr>\n",
       "    <tr>\n",
       "      <th>Dia_semana</th>\n",
       "      <td>7</td>\n",
       "      <td>3</td>\n",
       "      <td>5</td>\n",
       "      <td>6</td>\n",
       "      <td>6</td>\n",
       "    </tr>\n",
       "    <tr>\n",
       "      <th>Distrito</th>\n",
       "      <td>VICALVARO</td>\n",
       "      <td>CIUDAD LINEAL</td>\n",
       "      <td>CIUDAD LINEAL</td>\n",
       "      <td>ARGANZUELA</td>\n",
       "      <td>HORTALEZA</td>\n",
       "    </tr>\n",
       "    <tr>\n",
       "      <th>Lugar_accidente</th>\n",
       "      <td>AVENIDA DEL MEDITERRANEO KM.</td>\n",
       "      <td>CALLE DE LA VIRGEN DE AFRICA - CALLE DE LA VIR...</td>\n",
       "      <td>CALLE DE ASCAO - CALLE DE GUTIERRE DE CETINA</td>\n",
       "      <td>CALLE DE RICARDO DAMAS - CALLE DE RICARDO GOIZ...</td>\n",
       "      <td>CALLE DE AGATHA CHRISTIE - CALLE DE SAN ENRIQU...</td>\n",
       "    </tr>\n",
       "    <tr>\n",
       "      <th>Tipo_accidente</th>\n",
       "      <td>COLISIÓN DOBLE</td>\n",
       "      <td>CHOQUE CON OBJETO FIJO</td>\n",
       "      <td>COLISIÓN DOBLE</td>\n",
       "      <td>CAÍDA BICICLETA</td>\n",
       "      <td>COLISIÓN DOBLE</td>\n",
       "    </tr>\n",
       "    <tr>\n",
       "      <th>Tipo_persona</th>\n",
       "      <td>1</td>\n",
       "      <td>0</td>\n",
       "      <td>0</td>\n",
       "      <td>0</td>\n",
       "      <td>0</td>\n",
       "    </tr>\n",
       "    <tr>\n",
       "      <th>Sexo</th>\n",
       "      <td>1</td>\n",
       "      <td>0</td>\n",
       "      <td>0</td>\n",
       "      <td>1</td>\n",
       "      <td>0</td>\n",
       "    </tr>\n",
       "    <tr>\n",
       "      <th>Tramo_edad</th>\n",
       "      <td>32</td>\n",
       "      <td>32</td>\n",
       "      <td>27</td>\n",
       "      <td>37</td>\n",
       "      <td>42</td>\n",
       "    </tr>\n",
       "    <tr>\n",
       "      <th>Distancia_ocio_km</th>\n",
       "      <td>5.96613</td>\n",
       "      <td>0.795508</td>\n",
       "      <td>1.80942</td>\n",
       "      <td>0.588265</td>\n",
       "      <td>4.89541</td>\n",
       "    </tr>\n",
       "    <tr>\n",
       "      <th>Lejania_ocio</th>\n",
       "      <td>3</td>\n",
       "      <td>2</td>\n",
       "      <td>3</td>\n",
       "      <td>2</td>\n",
       "      <td>3</td>\n",
       "    </tr>\n",
       "    <tr>\n",
       "      <th>Distancia_radares_km</th>\n",
       "      <td>20.0345</td>\n",
       "      <td>1.34206</td>\n",
       "      <td>1.65043</td>\n",
       "      <td>0.0802965</td>\n",
       "      <td>4.14175</td>\n",
       "    </tr>\n",
       "    <tr>\n",
       "      <th>Lejania_radares</th>\n",
       "      <td>3</td>\n",
       "      <td>3</td>\n",
       "      <td>3</td>\n",
       "      <td>0</td>\n",
       "      <td>3</td>\n",
       "    </tr>\n",
       "    <tr>\n",
       "      <th>Year</th>\n",
       "      <td>2011</td>\n",
       "      <td>2015</td>\n",
       "      <td>2012</td>\n",
       "      <td>2014</td>\n",
       "      <td>2017</td>\n",
       "    </tr>\n",
       "    <tr>\n",
       "      <th>Mes</th>\n",
       "      <td>2</td>\n",
       "      <td>6</td>\n",
       "      <td>8</td>\n",
       "      <td>5</td>\n",
       "      <td>8</td>\n",
       "    </tr>\n",
       "    <tr>\n",
       "      <th>Dia</th>\n",
       "      <td>10</td>\n",
       "      <td>24</td>\n",
       "      <td>31</td>\n",
       "      <td>31</td>\n",
       "      <td>4</td>\n",
       "    </tr>\n",
       "    <tr>\n",
       "      <th>Dia_habil</th>\n",
       "      <td>0</td>\n",
       "      <td>1</td>\n",
       "      <td>1</td>\n",
       "      <td>0</td>\n",
       "      <td>0</td>\n",
       "    </tr>\n",
       "    <tr>\n",
       "      <th>Condiciones_adversas</th>\n",
       "      <td>0</td>\n",
       "      <td>0</td>\n",
       "      <td>0</td>\n",
       "      <td>0</td>\n",
       "      <td>0</td>\n",
       "    </tr>\n",
       "  </tbody>\n",
       "</table>\n",
       "</div>"
      ],
      "text/plain": [
       "                                                   0  \\\n",
       "Tipo_vehiculo                                      0   \n",
       "Lesividad                                          1   \n",
       "Rango_horario                                     16   \n",
       "Dia_semana                                         7   \n",
       "Distrito              VICALVARO                        \n",
       "Lugar_accidente         AVENIDA DEL MEDITERRANEO KM.   \n",
       "Tipo_accidente                        COLISIÓN DOBLE   \n",
       "Tipo_persona                                       1   \n",
       "Sexo                                               1   \n",
       "Tramo_edad                                        32   \n",
       "Distancia_ocio_km                            5.96613   \n",
       "Lejania_ocio                                       3   \n",
       "Distancia_radares_km                         20.0345   \n",
       "Lejania_radares                                    3   \n",
       "Year                                            2011   \n",
       "Mes                                                2   \n",
       "Dia                                               10   \n",
       "Dia_habil                                          0   \n",
       "Condiciones_adversas                               0   \n",
       "\n",
       "                                                                      1  \\\n",
       "Tipo_vehiculo                                                         0   \n",
       "Lesividad                                                             1   \n",
       "Rango_horario                                                        17   \n",
       "Dia_semana                                                            3   \n",
       "Distrito                                 CIUDAD LINEAL                    \n",
       "Lugar_accidente       CALLE DE LA VIRGEN DE AFRICA - CALLE DE LA VIR...   \n",
       "Tipo_accidente                                   CHOQUE CON OBJETO FIJO   \n",
       "Tipo_persona                                                          0   \n",
       "Sexo                                                                  0   \n",
       "Tramo_edad                                                           32   \n",
       "Distancia_ocio_km                                              0.795508   \n",
       "Lejania_ocio                                                          2   \n",
       "Distancia_radares_km                                            1.34206   \n",
       "Lejania_radares                                                       3   \n",
       "Year                                                               2015   \n",
       "Mes                                                                   6   \n",
       "Dia                                                                  24   \n",
       "Dia_habil                                                             1   \n",
       "Condiciones_adversas                                                  0   \n",
       "\n",
       "                                                                 2  \\\n",
       "Tipo_vehiculo                                                    0   \n",
       "Lesividad                                                        1   \n",
       "Rango_horario                                                    4   \n",
       "Dia_semana                                                       5   \n",
       "Distrito                            CIUDAD LINEAL                    \n",
       "Lugar_accidente       CALLE DE ASCAO - CALLE DE GUTIERRE DE CETINA   \n",
       "Tipo_accidente                                      COLISIÓN DOBLE   \n",
       "Tipo_persona                                                     0   \n",
       "Sexo                                                             0   \n",
       "Tramo_edad                                                      27   \n",
       "Distancia_ocio_km                                          1.80942   \n",
       "Lejania_ocio                                                     3   \n",
       "Distancia_radares_km                                       1.65043   \n",
       "Lejania_radares                                                  3   \n",
       "Year                                                          2012   \n",
       "Mes                                                              8   \n",
       "Dia                                                             31   \n",
       "Dia_habil                                                        1   \n",
       "Condiciones_adversas                                             0   \n",
       "\n",
       "                                                                      4  \\\n",
       "Tipo_vehiculo                                                         5   \n",
       "Lesividad                                                             1   \n",
       "Rango_horario                                                        14   \n",
       "Dia_semana                                                            6   \n",
       "Distrito                                 ARGANZUELA                       \n",
       "Lugar_accidente       CALLE DE RICARDO DAMAS - CALLE DE RICARDO GOIZ...   \n",
       "Tipo_accidente                                          CAÍDA BICICLETA   \n",
       "Tipo_persona                                                          0   \n",
       "Sexo                                                                  1   \n",
       "Tramo_edad                                                           37   \n",
       "Distancia_ocio_km                                              0.588265   \n",
       "Lejania_ocio                                                          2   \n",
       "Distancia_radares_km                                          0.0802965   \n",
       "Lejania_radares                                                       0   \n",
       "Year                                                               2014   \n",
       "Mes                                                                   5   \n",
       "Dia                                                                  31   \n",
       "Dia_habil                                                             0   \n",
       "Condiciones_adversas                                                  0   \n",
       "\n",
       "                                                                      5  \n",
       "Tipo_vehiculo                                                         0  \n",
       "Lesividad                                                             0  \n",
       "Rango_horario                                                        13  \n",
       "Dia_semana                                                            6  \n",
       "Distrito                                 HORTALEZA                       \n",
       "Lugar_accidente       CALLE DE AGATHA CHRISTIE - CALLE DE SAN ENRIQU...  \n",
       "Tipo_accidente                                           COLISIÓN DOBLE  \n",
       "Tipo_persona                                                          0  \n",
       "Sexo                                                                  0  \n",
       "Tramo_edad                                                           42  \n",
       "Distancia_ocio_km                                               4.89541  \n",
       "Lejania_ocio                                                          3  \n",
       "Distancia_radares_km                                            4.14175  \n",
       "Lejania_radares                                                       3  \n",
       "Year                                                               2017  \n",
       "Mes                                                                   8  \n",
       "Dia                                                                   4  \n",
       "Dia_habil                                                             0  \n",
       "Condiciones_adversas                                                  0  "
      ]
     },
     "execution_count": 365,
     "metadata": {},
     "output_type": "execute_result"
    }
   ],
   "source": [
    "df.head().T"
   ]
  },
  {
   "cell_type": "code",
   "execution_count": 366,
   "metadata": {},
   "outputs": [],
   "source": [
    "categorical = ['Distrito', 'Lugar_accidente', 'Tipo_accidente']\n",
    "# En train creamos un dict para usarlo después en test\n",
    "mean_map = {}\n",
    "for c in categorical:\n",
    "    mean = df.groupby(c)['Tipo_vehiculo'].mean()\n",
    "    df[c] = df[c].map(mean)    \n",
    "    mean_map[c] = mean"
   ]
  },
  {
   "cell_type": "code",
   "execution_count": 367,
   "metadata": {},
   "outputs": [
    {
     "data": {
      "text/plain": [
       "Tipo_vehiculo             int64\n",
       "Lesividad                 int64\n",
       "Rango_horario             int64\n",
       "Dia_semana                int64\n",
       "Distrito                float64\n",
       "Lugar_accidente         float64\n",
       "Tipo_accidente          float64\n",
       "Tipo_persona              int64\n",
       "Sexo                      int64\n",
       "Tramo_edad              float64\n",
       "Distancia_ocio_km       float64\n",
       "Lejania_ocio              int64\n",
       "Distancia_radares_km    float64\n",
       "Lejania_radares           int64\n",
       "Year                      int64\n",
       "Mes                       int64\n",
       "Dia                       int64\n",
       "Dia_habil                 int64\n",
       "Condiciones_adversas      int32\n",
       "dtype: object"
      ]
     },
     "execution_count": 367,
     "metadata": {},
     "output_type": "execute_result"
    }
   ],
   "source": [
    "df.dtypes"
   ]
  },
  {
   "cell_type": "code",
   "execution_count": 368,
   "metadata": {},
   "outputs": [
    {
     "data": {
      "text/html": [
       "<div>\n",
       "<style scoped>\n",
       "    .dataframe tbody tr th:only-of-type {\n",
       "        vertical-align: middle;\n",
       "    }\n",
       "\n",
       "    .dataframe tbody tr th {\n",
       "        vertical-align: top;\n",
       "    }\n",
       "\n",
       "    .dataframe thead th {\n",
       "        text-align: right;\n",
       "    }\n",
       "</style>\n",
       "<table border=\"1\" class=\"dataframe\">\n",
       "  <thead>\n",
       "    <tr style=\"text-align: right;\">\n",
       "      <th></th>\n",
       "      <th>count</th>\n",
       "      <th>mean</th>\n",
       "      <th>std</th>\n",
       "      <th>min</th>\n",
       "      <th>25%</th>\n",
       "      <th>50%</th>\n",
       "      <th>75%</th>\n",
       "      <th>max</th>\n",
       "    </tr>\n",
       "  </thead>\n",
       "  <tbody>\n",
       "    <tr>\n",
       "      <th>Tipo_vehiculo</th>\n",
       "      <td>144662.0</td>\n",
       "      <td>0.784028</td>\n",
       "      <td>1.386699</td>\n",
       "      <td>0.000000</td>\n",
       "      <td>0.000000</td>\n",
       "      <td>0.000000</td>\n",
       "      <td>1.000000</td>\n",
       "      <td>7.000000</td>\n",
       "    </tr>\n",
       "    <tr>\n",
       "      <th>Lesividad</th>\n",
       "      <td>144662.0</td>\n",
       "      <td>0.537930</td>\n",
       "      <td>0.559875</td>\n",
       "      <td>0.000000</td>\n",
       "      <td>0.000000</td>\n",
       "      <td>1.000000</td>\n",
       "      <td>1.000000</td>\n",
       "      <td>3.000000</td>\n",
       "    </tr>\n",
       "    <tr>\n",
       "      <th>Rango_horario</th>\n",
       "      <td>144662.0</td>\n",
       "      <td>14.125168</td>\n",
       "      <td>5.547385</td>\n",
       "      <td>0.000000</td>\n",
       "      <td>10.000000</td>\n",
       "      <td>14.000000</td>\n",
       "      <td>19.000000</td>\n",
       "      <td>23.000000</td>\n",
       "    </tr>\n",
       "    <tr>\n",
       "      <th>Dia_semana</th>\n",
       "      <td>144662.0</td>\n",
       "      <td>3.854240</td>\n",
       "      <td>1.912067</td>\n",
       "      <td>1.000000</td>\n",
       "      <td>2.000000</td>\n",
       "      <td>4.000000</td>\n",
       "      <td>5.000000</td>\n",
       "      <td>7.000000</td>\n",
       "    </tr>\n",
       "    <tr>\n",
       "      <th>Distrito</th>\n",
       "      <td>144662.0</td>\n",
       "      <td>0.784028</td>\n",
       "      <td>0.161784</td>\n",
       "      <td>0.610358</td>\n",
       "      <td>0.649949</td>\n",
       "      <td>0.749454</td>\n",
       "      <td>0.938661</td>\n",
       "      <td>1.165140</td>\n",
       "    </tr>\n",
       "    <tr>\n",
       "      <th>Lugar_accidente</th>\n",
       "      <td>144662.0</td>\n",
       "      <td>0.784028</td>\n",
       "      <td>0.603389</td>\n",
       "      <td>0.000000</td>\n",
       "      <td>0.434624</td>\n",
       "      <td>0.725000</td>\n",
       "      <td>1.000000</td>\n",
       "      <td>7.000000</td>\n",
       "    </tr>\n",
       "    <tr>\n",
       "      <th>Tipo_accidente</th>\n",
       "      <td>144662.0</td>\n",
       "      <td>0.784028</td>\n",
       "      <td>0.530269</td>\n",
       "      <td>0.435076</td>\n",
       "      <td>0.738715</td>\n",
       "      <td>0.738715</td>\n",
       "      <td>0.738715</td>\n",
       "      <td>4.611456</td>\n",
       "    </tr>\n",
       "    <tr>\n",
       "      <th>Tipo_persona</th>\n",
       "      <td>144662.0</td>\n",
       "      <td>0.236482</td>\n",
       "      <td>0.425021</td>\n",
       "      <td>0.000000</td>\n",
       "      <td>0.000000</td>\n",
       "      <td>0.000000</td>\n",
       "      <td>0.000000</td>\n",
       "      <td>2.000000</td>\n",
       "    </tr>\n",
       "    <tr>\n",
       "      <th>Sexo</th>\n",
       "      <td>144662.0</td>\n",
       "      <td>0.323361</td>\n",
       "      <td>0.467761</td>\n",
       "      <td>0.000000</td>\n",
       "      <td>0.000000</td>\n",
       "      <td>0.000000</td>\n",
       "      <td>1.000000</td>\n",
       "      <td>1.000000</td>\n",
       "    </tr>\n",
       "    <tr>\n",
       "      <th>Tramo_edad</th>\n",
       "      <td>144662.0</td>\n",
       "      <td>38.341351</td>\n",
       "      <td>14.968000</td>\n",
       "      <td>2.500000</td>\n",
       "      <td>27.000000</td>\n",
       "      <td>37.000000</td>\n",
       "      <td>47.000000</td>\n",
       "      <td>80.000000</td>\n",
       "    </tr>\n",
       "    <tr>\n",
       "      <th>Distancia_ocio_km</th>\n",
       "      <td>144662.0</td>\n",
       "      <td>2.178478</td>\n",
       "      <td>63.205316</td>\n",
       "      <td>0.000000</td>\n",
       "      <td>0.254258</td>\n",
       "      <td>0.665121</td>\n",
       "      <td>1.704204</td>\n",
       "      <td>8742.642818</td>\n",
       "    </tr>\n",
       "    <tr>\n",
       "      <th>Lejania_ocio</th>\n",
       "      <td>144662.0</td>\n",
       "      <td>1.791244</td>\n",
       "      <td>1.171011</td>\n",
       "      <td>0.000000</td>\n",
       "      <td>1.000000</td>\n",
       "      <td>2.000000</td>\n",
       "      <td>3.000000</td>\n",
       "      <td>3.000000</td>\n",
       "    </tr>\n",
       "    <tr>\n",
       "      <th>Distancia_radares_km</th>\n",
       "      <td>144662.0</td>\n",
       "      <td>3.331191</td>\n",
       "      <td>63.403614</td>\n",
       "      <td>0.008182</td>\n",
       "      <td>1.057934</td>\n",
       "      <td>1.876849</td>\n",
       "      <td>2.727785</td>\n",
       "      <td>8759.490110</td>\n",
       "    </tr>\n",
       "    <tr>\n",
       "      <th>Lejania_radares</th>\n",
       "      <td>144662.0</td>\n",
       "      <td>2.680013</td>\n",
       "      <td>0.673260</td>\n",
       "      <td>0.000000</td>\n",
       "      <td>3.000000</td>\n",
       "      <td>3.000000</td>\n",
       "      <td>3.000000</td>\n",
       "      <td>3.000000</td>\n",
       "    </tr>\n",
       "    <tr>\n",
       "      <th>Year</th>\n",
       "      <td>144662.0</td>\n",
       "      <td>2014.142691</td>\n",
       "      <td>2.581504</td>\n",
       "      <td>2010.000000</td>\n",
       "      <td>2012.000000</td>\n",
       "      <td>2014.000000</td>\n",
       "      <td>2016.000000</td>\n",
       "      <td>2018.000000</td>\n",
       "    </tr>\n",
       "    <tr>\n",
       "      <th>Mes</th>\n",
       "      <td>144662.0</td>\n",
       "      <td>6.618096</td>\n",
       "      <td>3.483210</td>\n",
       "      <td>1.000000</td>\n",
       "      <td>4.000000</td>\n",
       "      <td>7.000000</td>\n",
       "      <td>10.000000</td>\n",
       "      <td>12.000000</td>\n",
       "    </tr>\n",
       "    <tr>\n",
       "      <th>Dia</th>\n",
       "      <td>144662.0</td>\n",
       "      <td>15.765930</td>\n",
       "      <td>8.746296</td>\n",
       "      <td>1.000000</td>\n",
       "      <td>8.000000</td>\n",
       "      <td>16.000000</td>\n",
       "      <td>23.000000</td>\n",
       "      <td>31.000000</td>\n",
       "    </tr>\n",
       "    <tr>\n",
       "      <th>Dia_habil</th>\n",
       "      <td>144662.0</td>\n",
       "      <td>0.751780</td>\n",
       "      <td>0.431982</td>\n",
       "      <td>0.000000</td>\n",
       "      <td>1.000000</td>\n",
       "      <td>1.000000</td>\n",
       "      <td>1.000000</td>\n",
       "      <td>1.000000</td>\n",
       "    </tr>\n",
       "    <tr>\n",
       "      <th>Condiciones_adversas</th>\n",
       "      <td>144662.0</td>\n",
       "      <td>0.141917</td>\n",
       "      <td>0.348966</td>\n",
       "      <td>0.000000</td>\n",
       "      <td>0.000000</td>\n",
       "      <td>0.000000</td>\n",
       "      <td>0.000000</td>\n",
       "      <td>1.000000</td>\n",
       "    </tr>\n",
       "  </tbody>\n",
       "</table>\n",
       "</div>"
      ],
      "text/plain": [
       "                         count         mean        std          min  \\\n",
       "Tipo_vehiculo         144662.0     0.784028   1.386699     0.000000   \n",
       "Lesividad             144662.0     0.537930   0.559875     0.000000   \n",
       "Rango_horario         144662.0    14.125168   5.547385     0.000000   \n",
       "Dia_semana            144662.0     3.854240   1.912067     1.000000   \n",
       "Distrito              144662.0     0.784028   0.161784     0.610358   \n",
       "Lugar_accidente       144662.0     0.784028   0.603389     0.000000   \n",
       "Tipo_accidente        144662.0     0.784028   0.530269     0.435076   \n",
       "Tipo_persona          144662.0     0.236482   0.425021     0.000000   \n",
       "Sexo                  144662.0     0.323361   0.467761     0.000000   \n",
       "Tramo_edad            144662.0    38.341351  14.968000     2.500000   \n",
       "Distancia_ocio_km     144662.0     2.178478  63.205316     0.000000   \n",
       "Lejania_ocio          144662.0     1.791244   1.171011     0.000000   \n",
       "Distancia_radares_km  144662.0     3.331191  63.403614     0.008182   \n",
       "Lejania_radares       144662.0     2.680013   0.673260     0.000000   \n",
       "Year                  144662.0  2014.142691   2.581504  2010.000000   \n",
       "Mes                   144662.0     6.618096   3.483210     1.000000   \n",
       "Dia                   144662.0    15.765930   8.746296     1.000000   \n",
       "Dia_habil             144662.0     0.751780   0.431982     0.000000   \n",
       "Condiciones_adversas  144662.0     0.141917   0.348966     0.000000   \n",
       "\n",
       "                              25%          50%          75%          max  \n",
       "Tipo_vehiculo            0.000000     0.000000     1.000000     7.000000  \n",
       "Lesividad                0.000000     1.000000     1.000000     3.000000  \n",
       "Rango_horario           10.000000    14.000000    19.000000    23.000000  \n",
       "Dia_semana               2.000000     4.000000     5.000000     7.000000  \n",
       "Distrito                 0.649949     0.749454     0.938661     1.165140  \n",
       "Lugar_accidente          0.434624     0.725000     1.000000     7.000000  \n",
       "Tipo_accidente           0.738715     0.738715     0.738715     4.611456  \n",
       "Tipo_persona             0.000000     0.000000     0.000000     2.000000  \n",
       "Sexo                     0.000000     0.000000     1.000000     1.000000  \n",
       "Tramo_edad              27.000000    37.000000    47.000000    80.000000  \n",
       "Distancia_ocio_km        0.254258     0.665121     1.704204  8742.642818  \n",
       "Lejania_ocio             1.000000     2.000000     3.000000     3.000000  \n",
       "Distancia_radares_km     1.057934     1.876849     2.727785  8759.490110  \n",
       "Lejania_radares          3.000000     3.000000     3.000000     3.000000  \n",
       "Year                  2012.000000  2014.000000  2016.000000  2018.000000  \n",
       "Mes                      4.000000     7.000000    10.000000    12.000000  \n",
       "Dia                      8.000000    16.000000    23.000000    31.000000  \n",
       "Dia_habil                1.000000     1.000000     1.000000     1.000000  \n",
       "Condiciones_adversas     0.000000     0.000000     0.000000     1.000000  "
      ]
     },
     "execution_count": 368,
     "metadata": {},
     "output_type": "execute_result"
    }
   ],
   "source": [
    "df.describe().T"
   ]
  },
  {
   "cell_type": "markdown",
   "metadata": {},
   "source": [
    "A primera vista podemos observar como existen outliers, por ejemplo, Distancia_ocio_km y Distancia_radares_km"
   ]
  },
  {
   "cell_type": "code",
   "execution_count": 369,
   "metadata": {},
   "outputs": [
    {
     "data": {
      "image/png": "[encoded data removed]",
      "text/plain": [
       "<Figure size 1296x504 with 2 Axes>"
      ]
     },
     "metadata": {
      "needs_background": "light"
     },
     "output_type": "display_data"
    }
   ],
   "source": [
    "plt.figure(figsize=(18, 7))\n",
    "\n",
    "plt.subplot(1,2,1)\n",
    "df['Distancia_radares_km'].plot.hist(alpha=0.5, bins=10000, grid = True, xlim=(0,5))\n",
    "plt.xlabel('Distancia_radares_km')\n",
    "\n",
    "plt.subplot(1,2,2)\n",
    "df['Distancia_ocio_km'].plot.hist(alpha=0.5, bins=10000, grid = True, xlim=(0,5))\n",
    "plt.xlabel('Distancia_ocio_km')\n",
    "\n",
    "plt.show()"
   ]
  },
  {
   "cell_type": "code",
   "execution_count": 370,
   "metadata": {},
   "outputs": [],
   "source": [
    "# vamos observar las distancias\n",
    "df.sort_values(by=['Distancia_radares_km'],inplace=True,ascending=False)"
   ]
  },
  {
   "cell_type": "code",
   "execution_count": 371,
   "metadata": {},
   "outputs": [
    {
     "data": {
      "text/plain": [
       "140463    8759.490110\n",
       "74281     8555.893536\n",
       "99268     8555.893536\n",
       "110716    8555.893536\n",
       "72240     8555.893536\n",
       "             ...     \n",
       "8588         0.009104\n",
       "101695       0.009104\n",
       "48919        0.009104\n",
       "140160       0.009104\n",
       "37267        0.008182\n",
       "Name: Distancia_radares_km, Length: 144662, dtype: float64"
      ]
     },
     "execution_count": 371,
     "metadata": {},
     "output_type": "execute_result"
    }
   ],
   "source": [
    "df['Distancia_radares_km']"
   ]
  },
  {
   "cell_type": "code",
   "execution_count": 372,
   "metadata": {},
   "outputs": [],
   "source": [
    "# vamos observar las distancias\n",
    "df.sort_values(by=['Distancia_ocio_km'],inplace=True,ascending=False)"
   ]
  },
  {
   "cell_type": "code",
   "execution_count": 373,
   "metadata": {},
   "outputs": [
    {
     "data": {
      "text/plain": [
       "140463    8742.642818\n",
       "99268     8542.427391\n",
       "110716    8542.427391\n",
       "72240     8542.427391\n",
       "74281     8542.427391\n",
       "             ...     \n",
       "16795        0.000000\n",
       "115488       0.000000\n",
       "63293        0.000000\n",
       "92131        0.000000\n",
       "78700        0.000000\n",
       "Name: Distancia_ocio_km, Length: 144662, dtype: float64"
      ]
     },
     "execution_count": 373,
     "metadata": {},
     "output_type": "execute_result"
    }
   ],
   "source": [
    "df['Distancia_ocio_km']"
   ]
  },
  {
   "cell_type": "code",
   "execution_count": 374,
   "metadata": {},
   "outputs": [
    {
     "data": {
      "image/png": "[encoded data removed]",
      "text/plain": [
       "<Figure size 432x288 with 1 Axes>"
      ]
     },
     "metadata": {
      "needs_background": "light"
     },
     "output_type": "display_data"
    },
    {
     "data": {
      "image/png": "[encoded data removed]",
      "text/plain": [
       "<Figure size 432x288 with 1 Axes>"
      ]
     },
     "metadata": {
      "needs_background": "light"
     },
     "output_type": "display_data"
    }
   ],
   "source": [
    "df.plot(kind = 'scatter',x='Distancia_radares_km',y = 'Distancia_radares_km')\n",
    "plt.xlabel('KM')\n",
    "plt.ylabel('KM')\n",
    "plt.show() \n",
    "\n",
    "df.plot(kind = 'scatter',x='Distancia_ocio_km',y = 'Distancia_ocio_km')\n",
    "plt.xlabel('KM')\n",
    "plt.ylabel('KM')\n",
    "plt.show() "
   ]
  },
  {
   "cell_type": "code",
   "execution_count": 375,
   "metadata": {},
   "outputs": [],
   "source": [
    "# vamos a filtrar las distancias a 100 kilometros\n",
    "my_filter_ocio = df['Distancia_ocio_km'] <= 100\n",
    "my_filter_radares = df['Distancia_radares_km'] <= 100\n",
    "\n",
    "df= df[my_filter_ocio & my_filter_radares]"
   ]
  },
  {
   "cell_type": "code",
   "execution_count": 376,
   "metadata": {},
   "outputs": [
    {
     "data": {
      "text/html": [
       "<div>\n",
       "<style scoped>\n",
       "    .dataframe tbody tr th:only-of-type {\n",
       "        vertical-align: middle;\n",
       "    }\n",
       "\n",
       "    .dataframe tbody tr th {\n",
       "        vertical-align: top;\n",
       "    }\n",
       "\n",
       "    .dataframe thead th {\n",
       "        text-align: right;\n",
       "    }\n",
       "</style>\n",
       "<table border=\"1\" class=\"dataframe\">\n",
       "  <thead>\n",
       "    <tr style=\"text-align: right;\">\n",
       "      <th></th>\n",
       "      <th>Tipo_vehiculo</th>\n",
       "      <th>Lesividad</th>\n",
       "      <th>Rango_horario</th>\n",
       "      <th>Dia_semana</th>\n",
       "      <th>Distrito</th>\n",
       "      <th>Lugar_accidente</th>\n",
       "      <th>Tipo_accidente</th>\n",
       "      <th>Tipo_persona</th>\n",
       "      <th>Sexo</th>\n",
       "      <th>Tramo_edad</th>\n",
       "      <th>Distancia_ocio_km</th>\n",
       "      <th>Lejania_ocio</th>\n",
       "      <th>Distancia_radares_km</th>\n",
       "      <th>Lejania_radares</th>\n",
       "      <th>Year</th>\n",
       "      <th>Mes</th>\n",
       "      <th>Dia</th>\n",
       "      <th>Dia_habil</th>\n",
       "      <th>Condiciones_adversas</th>\n",
       "    </tr>\n",
       "  </thead>\n",
       "  <tbody>\n",
       "    <tr>\n",
       "      <th>10594</th>\n",
       "      <td>0</td>\n",
       "      <td>0</td>\n",
       "      <td>12</td>\n",
       "      <td>7</td>\n",
       "      <td>0.645228</td>\n",
       "      <td>0.000000</td>\n",
       "      <td>0.824450</td>\n",
       "      <td>1</td>\n",
       "      <td>1</td>\n",
       "      <td>2.5</td>\n",
       "      <td>56.212069</td>\n",
       "      <td>3</td>\n",
       "      <td>56.635021</td>\n",
       "      <td>3</td>\n",
       "      <td>2016</td>\n",
       "      <td>9</td>\n",
       "      <td>10</td>\n",
       "      <td>0</td>\n",
       "      <td>0</td>\n",
       "    </tr>\n",
       "    <tr>\n",
       "      <th>61726</th>\n",
       "      <td>6</td>\n",
       "      <td>0</td>\n",
       "      <td>8</td>\n",
       "      <td>1</td>\n",
       "      <td>1.165140</td>\n",
       "      <td>2.833333</td>\n",
       "      <td>0.476132</td>\n",
       "      <td>0</td>\n",
       "      <td>0</td>\n",
       "      <td>47.0</td>\n",
       "      <td>55.317827</td>\n",
       "      <td>3</td>\n",
       "      <td>59.928188</td>\n",
       "      <td>3</td>\n",
       "      <td>2012</td>\n",
       "      <td>3</td>\n",
       "      <td>12</td>\n",
       "      <td>1</td>\n",
       "      <td>0</td>\n",
       "    </tr>\n",
       "    <tr>\n",
       "      <th>35257</th>\n",
       "      <td>1</td>\n",
       "      <td>1</td>\n",
       "      <td>21</td>\n",
       "      <td>6</td>\n",
       "      <td>1.165140</td>\n",
       "      <td>2.833333</td>\n",
       "      <td>0.928340</td>\n",
       "      <td>1</td>\n",
       "      <td>1</td>\n",
       "      <td>19.0</td>\n",
       "      <td>55.317827</td>\n",
       "      <td>3</td>\n",
       "      <td>59.928188</td>\n",
       "      <td>3</td>\n",
       "      <td>2014</td>\n",
       "      <td>11</td>\n",
       "      <td>15</td>\n",
       "      <td>0</td>\n",
       "      <td>1</td>\n",
       "    </tr>\n",
       "    <tr>\n",
       "      <th>65400</th>\n",
       "      <td>1</td>\n",
       "      <td>1</td>\n",
       "      <td>15</td>\n",
       "      <td>4</td>\n",
       "      <td>1.165140</td>\n",
       "      <td>2.833333</td>\n",
       "      <td>0.944551</td>\n",
       "      <td>0</td>\n",
       "      <td>0</td>\n",
       "      <td>22.5</td>\n",
       "      <td>55.317827</td>\n",
       "      <td>3</td>\n",
       "      <td>59.928188</td>\n",
       "      <td>3</td>\n",
       "      <td>2015</td>\n",
       "      <td>3</td>\n",
       "      <td>19</td>\n",
       "      <td>1</td>\n",
       "      <td>1</td>\n",
       "    </tr>\n",
       "    <tr>\n",
       "      <th>110170</th>\n",
       "      <td>3</td>\n",
       "      <td>0</td>\n",
       "      <td>8</td>\n",
       "      <td>1</td>\n",
       "      <td>1.165140</td>\n",
       "      <td>2.833333</td>\n",
       "      <td>0.476132</td>\n",
       "      <td>0</td>\n",
       "      <td>0</td>\n",
       "      <td>47.0</td>\n",
       "      <td>55.317827</td>\n",
       "      <td>3</td>\n",
       "      <td>59.928188</td>\n",
       "      <td>3</td>\n",
       "      <td>2012</td>\n",
       "      <td>3</td>\n",
       "      <td>12</td>\n",
       "      <td>1</td>\n",
       "      <td>0</td>\n",
       "    </tr>\n",
       "  </tbody>\n",
       "</table>\n",
       "</div>"
      ],
      "text/plain": [
       "        Tipo_vehiculo  Lesividad  Rango_horario  Dia_semana  Distrito  \\\n",
       "10594               0          0             12           7  0.645228   \n",
       "61726               6          0              8           1  1.165140   \n",
       "35257               1          1             21           6  1.165140   \n",
       "65400               1          1             15           4  1.165140   \n",
       "110170              3          0              8           1  1.165140   \n",
       "\n",
       "        Lugar_accidente  Tipo_accidente  Tipo_persona  Sexo  Tramo_edad  \\\n",
       "10594          0.000000        0.824450             1     1         2.5   \n",
       "61726          2.833333        0.476132             0     0        47.0   \n",
       "35257          2.833333        0.928340             1     1        19.0   \n",
       "65400          2.833333        0.944551             0     0        22.5   \n",
       "110170         2.833333        0.476132             0     0        47.0   \n",
       "\n",
       "        Distancia_ocio_km  Lejania_ocio  Distancia_radares_km  \\\n",
       "10594           56.212069             3             56.635021   \n",
       "61726           55.317827             3             59.928188   \n",
       "35257           55.317827             3             59.928188   \n",
       "65400           55.317827             3             59.928188   \n",
       "110170          55.317827             3             59.928188   \n",
       "\n",
       "        Lejania_radares  Year  Mes  Dia  Dia_habil  Condiciones_adversas  \n",
       "10594                 3  2016    9   10          0                     0  \n",
       "61726                 3  2012    3   12          1                     0  \n",
       "35257                 3  2014   11   15          0                     1  \n",
       "65400                 3  2015    3   19          1                     1  \n",
       "110170                3  2012    3   12          1                     0  "
      ]
     },
     "execution_count": 376,
     "metadata": {},
     "output_type": "execute_result"
    }
   ],
   "source": [
    "df.head()"
   ]
  },
  {
   "cell_type": "code",
   "execution_count": 377,
   "metadata": {},
   "outputs": [
    {
     "data": {
      "text/plain": [
       "Tipo_vehiculo           0\n",
       "Lesividad               0\n",
       "Rango_horario           0\n",
       "Dia_semana              0\n",
       "Distrito                0\n",
       "Lugar_accidente         0\n",
       "Tipo_accidente          0\n",
       "Tipo_persona            0\n",
       "Sexo                    0\n",
       "Tramo_edad              0\n",
       "Distancia_ocio_km       0\n",
       "Lejania_ocio            0\n",
       "Distancia_radares_km    0\n",
       "Lejania_radares         0\n",
       "Year                    0\n",
       "Mes                     0\n",
       "Dia                     0\n",
       "Dia_habil               0\n",
       "Condiciones_adversas    0\n",
       "dtype: int64"
      ]
     },
     "execution_count": 377,
     "metadata": {},
     "output_type": "execute_result"
    }
   ],
   "source": [
    "dato =df.isna().sum ()\n",
    "pd.set_option('max_rows', len(dato)) # Para ver todos\n",
    "dato"
   ]
  },
  {
   "cell_type": "markdown",
   "metadata": {},
   "source": [
    "### Ahora hacemos los mismos cambios para test"
   ]
  },
  {
   "cell_type": "code",
   "execution_count": 379,
   "metadata": {},
   "outputs": [],
   "source": [
    "# cargamos el dataframe de test y trabajamos con el\n",
    "df_test = pd.read_csv('df_test.csv', sep=';', decimal='.')"
   ]
  },
  {
   "cell_type": "code",
   "execution_count": 380,
   "metadata": {},
   "outputs": [],
   "source": [
    "# eliminamos la columna unnamed\n",
    "df_test=df_test.drop(['Unnamed: 0'], axis=1)"
   ]
  },
  {
   "cell_type": "code",
   "execution_count": 381,
   "metadata": {},
   "outputs": [],
   "source": [
    "# eliminamos lo no asignado\n",
    "df_test = df_test.drop(df_test[df_test['Tipo_vehiculo']=='NO ASIGNADO'].index)\n",
    "df_test = df_test.drop(df_test[df_test['Tipo_vehiculo']=='VARIOS'].index)"
   ]
  },
  {
   "cell_type": "code",
   "execution_count": 382,
   "metadata": {},
   "outputs": [],
   "source": [
    "# Moto, Motocicleta y vehiculo de 3 ruedas lo remplazamos por moto\n",
    "df_test=df_test.replace({\"MOTOCICLETA\":\"MOTO\", \n",
    "            \"CICLOMOTOR\":\"MOTO\",\n",
    "            \"VEH.3 RUEDAS\":\"MOTO\"})"
   ]
  },
  {
   "cell_type": "code",
   "execution_count": 383,
   "metadata": {},
   "outputs": [],
   "source": [
    "# vamos a darle valor numerico al tipo de vehiculo\n",
    "df_test=df_test.replace({\"TURISMO\": 0, \n",
    "            \"MOTO\": 1,\n",
    "            \"FURGONETA\": 2,\n",
    "            \"AUTO-TAXI\": 3,\n",
    "            \"AUTOBUS-AUTOCAR\": 4,\n",
    "            \"BICICLETA\": 5,\n",
    "            \"CAMION\": 6,\n",
    "            \"AMBULANCIA\": 7})"
   ]
  },
  {
   "cell_type": "code",
   "execution_count": 384,
   "metadata": {},
   "outputs": [],
   "source": [
    "# Nos llevamos nuestra variable objetivo, a la primera columna para facilitar luego el código.\n",
    "col_name=\"Tipo_vehiculo\"\n",
    "first_col = df_test.pop(col_name)\n",
    "df_test.insert(0, col_name, first_col)"
   ]
  },
  {
   "cell_type": "code",
   "execution_count": 385,
   "metadata": {},
   "outputs": [],
   "source": [
    "# damos valores numericos a lesividad y lo dejamos como esta\n",
    "df_test=df_test.replace({\"IL\":0, \n",
    "                \"HL\":1,\n",
    "                \"HG\":2,\n",
    "                \"MT\":3})"
   ]
  },
  {
   "cell_type": "code",
   "execution_count": 386,
   "metadata": {},
   "outputs": [],
   "source": [
    "# damos valores numericos y lo dejamos como esta\n",
    "df_test=df_test.replace({\"DE 00:00 A 00:59\": 0, \n",
    "            \"DE 1:00 A 1:59\": 1,\n",
    "            \"DE 2:00 A 2:59\": 2,\n",
    "            \"DE 3:00 A 3:59\": 3,\n",
    "            \"DE 4:00 A 4:59\": 4,\n",
    "            \"DE 5:00 A 5:59\": 5,\n",
    "            \"DE 6:00 A 6:59\": 6,\n",
    "            \"DE 7:00 A 7:59\": 7,\n",
    "            \"DE 8:00 A 8:59\": 8,\n",
    "            \"DE 9:00 A 9:59\": 9,\n",
    "            \"DE 10:00 A 10:59\": 10,\n",
    "            \"DE 11:00 A 11:59\": 11,\n",
    "            \"DE 12:00 A 12:59\": 12,\n",
    "            \"DE 13:00 A 13:59\": 13,\n",
    "            \"DE 14:00 A 14:59\": 14,\n",
    "            \"DE 15:00 A 15:59\": 15,\n",
    "            \"DE 16:00 A 16:59\": 16,\n",
    "            \"DE 17:00 A 17:59\": 17,\n",
    "            \"DE 18:00 A 18:59\": 18,\n",
    "            \"DE 19:00 A 19:59\": 19,\n",
    "            \"DE 20:00 A 20:59\": 20,\n",
    "            \"DE 21:00 A 21:59\": 21,\n",
    "            \"DE 22:00 A 22:59\": 22,\n",
    "            \"DE 23:00 A 23:59\": 23})\n"
   ]
  },
  {
   "cell_type": "code",
   "execution_count": 387,
   "metadata": {},
   "outputs": [],
   "source": [
    "# damos valores numericos y lo dejamos como esta\n",
    "df_test=df_test.replace({\"LUNES\": 1, \n",
    "                \"MARTES\": 2,\n",
    "                \"MIERCOLES\": 3,\n",
    "                \"JUEVES\": 4,\n",
    "                \"VIERNES\": 5,\n",
    "                \"SABADO\": 6,\n",
    "                \"DOMINGO\": 7})"
   ]
  },
  {
   "cell_type": "code",
   "execution_count": 388,
   "metadata": {},
   "outputs": [],
   "source": [
    "# eliminamos la columna parte ya que es el parte que crea la policia y no creo que sea relevante\n",
    "df_test=df_test.drop(['Parte'], axis=1)"
   ]
  },
  {
   "cell_type": "code",
   "execution_count": 389,
   "metadata": {},
   "outputs": [],
   "source": [
    "# vemos que es la misma que hielo asi que la eliminamos\n",
    "df_test=df_test.drop(['Hielo.2'], axis=1)"
   ]
  },
  {
   "cell_type": "code",
   "execution_count": 390,
   "metadata": {},
   "outputs": [],
   "source": [
    "# vemos que es la misma que hielo asi que la eliminamos\n",
    "df_test=df_test.drop(['Hielo.3'], axis=1)"
   ]
  },
  {
   "cell_type": "code",
   "execution_count": 391,
   "metadata": {},
   "outputs": [],
   "source": [
    "# Vamos a crear una columna con condiciones_adversas,\n",
    "# meter el estado de la calzada ya que por si solas no son relevantes\n",
    "df_test['Condiciones_adversas']=0"
   ]
  },
  {
   "cell_type": "code",
   "execution_count": 392,
   "metadata": {},
   "outputs": [],
   "source": [
    "df_test['Granizo'] = df_test['Granizo'].map({'SI': 1, 'NO': 0})\n",
    "df_test['Hielo'] = df_test['Hielo'].map({'SI': 1, 'NO': 0})\n",
    "df_test['Hielo.1'] = df_test['Hielo.1'].map({'SI': 1, 'NO': 0})\n",
    "df_test['Lluvia'] = df_test['Lluvia'].map({'SI': 1, 'NO': 0})\n",
    "df_test['Niebla'] = df_test['Niebla'].map({'SI': 1, 'NO': 0})\n",
    "df_test['Seco'] = df_test['Seco'].map({'SI': 1, 'NO': 0})\n",
    "df_test['Nieve'] = df_test['Nieve'].map({'SI': 1, 'NO': 0})\n",
    "df_test['Mojada'] = df_test['Mojada'].map({'SI': 1, 'NO': 0})\n",
    "df_test['Aceite'] = df_test['Aceite'].map({'SI': 1, 'NO': 0})\n",
    "df_test['Barro'] = df_test['Barro'].map({'SI': 1, 'NO': 0})\n",
    "df_test['Gravilla'] = df_test['Gravilla'].map({'SI': 1, 'NO': 0})\n",
    "df_test['Seca_limpia'] = df_test['Seca_limpia'].map({'SI': 1, 'NO': 0})"
   ]
  },
  {
   "cell_type": "code",
   "execution_count": 393,
   "metadata": {},
   "outputs": [],
   "source": [
    "# Vamos a crear Condiciones_adversas, que será la suma de cualquier condición, ya sea climática o del mal estado de la carretera\n",
    "df_test['Condiciones_adversas'] = df_test['Granizo'] + df_test['Hielo'] + df_test['Hielo.1'] +df_test['Lluvia'] + df_test['Niebla'] + df_test['Nieve'] + df_test['Mojada'] + df_test['Aceite'] + df_test['Barro'] + df_test['Gravilla']\n",
    "df_test['Condiciones_adversas'] = (df_test['Condiciones_adversas'] > 0)*1 # Con esto hacemos que todo lo que sea superior a 1 lo codificamos como 1."
   ]
  },
  {
   "cell_type": "code",
   "execution_count": 394,
   "metadata": {},
   "outputs": [],
   "source": [
    "# eliminamos el los estados de la calzada y nos quedamos con condiciones adversas\n",
    "df_test=df_test.drop(['Granizo','Hielo','Hielo.1','Lluvia','Niebla','Seco','Nieve','Mojada','Aceite','Barro','Gravilla','Seca_limpia'], axis=1)"
   ]
  },
  {
   "cell_type": "code",
   "execution_count": 395,
   "metadata": {},
   "outputs": [],
   "source": [
    "# lo convertimos a numerico\n",
    "df_test=df_test.replace({\"CONDUCTOR\": 0,\n",
    "                \"VIAJERO\": 1,\n",
    "                \"PEATON\": 2})"
   ]
  },
  {
   "cell_type": "code",
   "execution_count": 396,
   "metadata": {},
   "outputs": [],
   "source": [
    "# eliminamos la no asignado\n",
    "df_test = df_test.drop(df_test[df_test['Sexo']=='NO ASIGNADO'].index)"
   ]
  },
  {
   "cell_type": "code",
   "execution_count": 397,
   "metadata": {},
   "outputs": [],
   "source": [
    "# lo convertimos a numerico\n",
    "df_test=df_test.replace({\"HOMBRE\": 0,\n",
    "                \"MUJER\": 1})"
   ]
  },
  {
   "cell_type": "code",
   "execution_count": 398,
   "metadata": {},
   "outputs": [],
   "source": [
    "# eliminamos edad desconocida\n",
    "df_test = df_test.drop(df_test[df_test['Tramo_edad']=='DESCONOCIDA'].index)"
   ]
  },
  {
   "cell_type": "code",
   "execution_count": 399,
   "metadata": {},
   "outputs": [],
   "source": [
    "# convertimos a numerica\n",
    "df_test=df_test.replace({\"DE 0 A 5 AÑOS\": 2.5,\n",
    "            \"DE 6 A 9 AÑOS\": 7.5,\n",
    "            \"DE 10 A 14 AÑOS\": 12,\n",
    "            \"DE 15 A 17 AÑOS\": 16,\n",
    "            \"DE 18 A 20 AÑOS\": 19,\n",
    "            \"DE 21 A 24 AÑOS\": 22.5,\n",
    "            \"DE 25 A 29 AÑOS\": 27,\n",
    "            \"DE 30 A 34 ANOS\": 32,\n",
    "            \"DE 35 A 39 AÑOS\": 37,\n",
    "            \"DE 40 A 44 AÑOS\": 42,\n",
    "            \"DE 45 A 49 AÑOS\": 47,\n",
    "            \"DE 50 A 54 AÑOS\": 52,\n",
    "            \"DE 55 A 59 AÑOS\": 57,\n",
    "            \"DE 60 A 64 AÑOS\": 62,\n",
    "            \"DE 65 A 69 AÑOS\": 67,\n",
    "            \"DE 70 A 74 AÑOS\": 72,\n",
    "            \"DE MAS DE 74 AÑOS\": 80})"
   ]
  },
  {
   "cell_type": "code",
   "execution_count": 400,
   "metadata": {},
   "outputs": [],
   "source": [
    "# la vamos a eliminar ya que solo la necesitabamos para unir los dataset\n",
    "df_test=df_test.drop(['Latitud'], axis=1)"
   ]
  },
  {
   "cell_type": "code",
   "execution_count": 401,
   "metadata": {},
   "outputs": [],
   "source": [
    "# la vamos a eliminar ya que solo la necesitabamos para unir los dataset\n",
    "df_test=df_test.drop(['Longitud'], axis=1)"
   ]
  },
  {
   "cell_type": "code",
   "execution_count": 402,
   "metadata": {},
   "outputs": [],
   "source": [
    "# lo convertimos a numerico tanto lejania ocio como lejania radares\n",
    "df_test=df_test.replace({\"Muy cerca\": 0,\n",
    "                \"Cerca\": 1,\n",
    "                \"lejos\": 2,\n",
    "                \"muy lejos\": 3})"
   ]
  },
  {
   "cell_type": "code",
   "execution_count": 403,
   "metadata": {},
   "outputs": [],
   "source": [
    "# la eliminamos ya que hemos sacado año, mes, dia y festivo\n",
    "df_test=df_test.drop(['Fecha_formato'], axis=1)"
   ]
  },
  {
   "cell_type": "code",
   "execution_count": 404,
   "metadata": {},
   "outputs": [],
   "source": [
    "for c in categorical:\n",
    "    df_test[c] = df_test[c].map(mean_map[c])"
   ]
  },
  {
   "cell_type": "code",
   "execution_count": 405,
   "metadata": {},
   "outputs": [
    {
     "data": {
      "text/plain": [
       "Tipo_vehiculo             int64\n",
       "Lesividad                 int64\n",
       "Rango_horario             int64\n",
       "Dia_semana                int64\n",
       "Distrito                float64\n",
       "Lugar_accidente         float64\n",
       "Tipo_accidente          float64\n",
       "Tipo_persona              int64\n",
       "Sexo                      int64\n",
       "Tramo_edad              float64\n",
       "Distancia_ocio_km       float64\n",
       "Lejania_ocio              int64\n",
       "Distancia_radares_km    float64\n",
       "Lejania_radares           int64\n",
       "Year                      int64\n",
       "Mes                       int64\n",
       "Dia                       int64\n",
       "Dia_habil                 int64\n",
       "Condiciones_adversas      int32\n",
       "dtype: object"
      ]
     },
     "execution_count": 405,
     "metadata": {},
     "output_type": "execute_result"
    }
   ],
   "source": [
    "df_test.dtypes"
   ]
  },
  {
   "cell_type": "code",
   "execution_count": 406,
   "metadata": {},
   "outputs": [],
   "source": [
    "# vamos a filtrar las distancias a 100 kilometros\n",
    "my_filter_ocio = df_test['Distancia_ocio_km'] <= 100\n",
    "my_filter_radares = df_test['Distancia_radares_km'] <= 100\n",
    "\n",
    "df_test= df_test[my_filter_ocio & my_filter_radares]"
   ]
  },
  {
   "cell_type": "code",
   "execution_count": 407,
   "metadata": {},
   "outputs": [
    {
     "data": {
      "text/html": [
       "<div>\n",
       "<style scoped>\n",
       "    .dataframe tbody tr th:only-of-type {\n",
       "        vertical-align: middle;\n",
       "    }\n",
       "\n",
       "    .dataframe tbody tr th {\n",
       "        vertical-align: top;\n",
       "    }\n",
       "\n",
       "    .dataframe thead th {\n",
       "        text-align: right;\n",
       "    }\n",
       "</style>\n",
       "<table border=\"1\" class=\"dataframe\">\n",
       "  <thead>\n",
       "    <tr style=\"text-align: right;\">\n",
       "      <th></th>\n",
       "      <th>Tipo_vehiculo</th>\n",
       "      <th>Lesividad</th>\n",
       "      <th>Rango_horario</th>\n",
       "      <th>Dia_semana</th>\n",
       "      <th>Distrito</th>\n",
       "      <th>Lugar_accidente</th>\n",
       "      <th>Tipo_accidente</th>\n",
       "      <th>Tipo_persona</th>\n",
       "      <th>Sexo</th>\n",
       "      <th>Tramo_edad</th>\n",
       "      <th>Distancia_ocio_km</th>\n",
       "      <th>Lejania_ocio</th>\n",
       "      <th>Distancia_radares_km</th>\n",
       "      <th>Lejania_radares</th>\n",
       "      <th>Year</th>\n",
       "      <th>Mes</th>\n",
       "      <th>Dia</th>\n",
       "      <th>Dia_habil</th>\n",
       "      <th>Condiciones_adversas</th>\n",
       "    </tr>\n",
       "  </thead>\n",
       "  <tbody>\n",
       "    <tr>\n",
       "      <th>0</th>\n",
       "      <td>1</td>\n",
       "      <td>1</td>\n",
       "      <td>9</td>\n",
       "      <td>6</td>\n",
       "      <td>0.658089</td>\n",
       "      <td>0.787265</td>\n",
       "      <td>0.928340</td>\n",
       "      <td>0</td>\n",
       "      <td>0</td>\n",
       "      <td>37.0</td>\n",
       "      <td>0.837619</td>\n",
       "      <td>2</td>\n",
       "      <td>0.946964</td>\n",
       "      <td>2</td>\n",
       "      <td>2010</td>\n",
       "      <td>2</td>\n",
       "      <td>10</td>\n",
       "      <td>0</td>\n",
       "      <td>0</td>\n",
       "    </tr>\n",
       "    <tr>\n",
       "      <th>1</th>\n",
       "      <td>0</td>\n",
       "      <td>0</td>\n",
       "      <td>18</td>\n",
       "      <td>5</td>\n",
       "      <td>0.990083</td>\n",
       "      <td>0.000000</td>\n",
       "      <td>0.738715</td>\n",
       "      <td>0</td>\n",
       "      <td>0</td>\n",
       "      <td>42.0</td>\n",
       "      <td>0.051679</td>\n",
       "      <td>0</td>\n",
       "      <td>2.541680</td>\n",
       "      <td>3</td>\n",
       "      <td>2012</td>\n",
       "      <td>6</td>\n",
       "      <td>4</td>\n",
       "      <td>1</td>\n",
       "      <td>0</td>\n",
       "    </tr>\n",
       "    <tr>\n",
       "      <th>2</th>\n",
       "      <td>1</td>\n",
       "      <td>1</td>\n",
       "      <td>19</td>\n",
       "      <td>4</td>\n",
       "      <td>0.649949</td>\n",
       "      <td>0.000000</td>\n",
       "      <td>0.738715</td>\n",
       "      <td>0</td>\n",
       "      <td>0</td>\n",
       "      <td>37.0</td>\n",
       "      <td>0.650374</td>\n",
       "      <td>2</td>\n",
       "      <td>4.205781</td>\n",
       "      <td>3</td>\n",
       "      <td>2010</td>\n",
       "      <td>9</td>\n",
       "      <td>23</td>\n",
       "      <td>1</td>\n",
       "      <td>0</td>\n",
       "    </tr>\n",
       "    <tr>\n",
       "      <th>3</th>\n",
       "      <td>0</td>\n",
       "      <td>0</td>\n",
       "      <td>20</td>\n",
       "      <td>6</td>\n",
       "      <td>0.613941</td>\n",
       "      <td>0.200000</td>\n",
       "      <td>0.738715</td>\n",
       "      <td>1</td>\n",
       "      <td>1</td>\n",
       "      <td>37.0</td>\n",
       "      <td>1.709451</td>\n",
       "      <td>3</td>\n",
       "      <td>2.933448</td>\n",
       "      <td>3</td>\n",
       "      <td>2012</td>\n",
       "      <td>2</td>\n",
       "      <td>25</td>\n",
       "      <td>0</td>\n",
       "      <td>0</td>\n",
       "    </tr>\n",
       "    <tr>\n",
       "      <th>4</th>\n",
       "      <td>0</td>\n",
       "      <td>0</td>\n",
       "      <td>9</td>\n",
       "      <td>3</td>\n",
       "      <td>0.613941</td>\n",
       "      <td>0.944444</td>\n",
       "      <td>0.738715</td>\n",
       "      <td>0</td>\n",
       "      <td>1</td>\n",
       "      <td>32.0</td>\n",
       "      <td>4.149600</td>\n",
       "      <td>3</td>\n",
       "      <td>4.180054</td>\n",
       "      <td>3</td>\n",
       "      <td>2010</td>\n",
       "      <td>6</td>\n",
       "      <td>23</td>\n",
       "      <td>1</td>\n",
       "      <td>0</td>\n",
       "    </tr>\n",
       "  </tbody>\n",
       "</table>\n",
       "</div>"
      ],
      "text/plain": [
       "   Tipo_vehiculo  Lesividad  Rango_horario  Dia_semana  Distrito  \\\n",
       "0              1          1              9           6  0.658089   \n",
       "1              0          0             18           5  0.990083   \n",
       "2              1          1             19           4  0.649949   \n",
       "3              0          0             20           6  0.613941   \n",
       "4              0          0              9           3  0.613941   \n",
       "\n",
       "   Lugar_accidente  Tipo_accidente  Tipo_persona  Sexo  Tramo_edad  \\\n",
       "0         0.787265        0.928340             0     0        37.0   \n",
       "1         0.000000        0.738715             0     0        42.0   \n",
       "2         0.000000        0.738715             0     0        37.0   \n",
       "3         0.200000        0.738715             1     1        37.0   \n",
       "4         0.944444        0.738715             0     1        32.0   \n",
       "\n",
       "   Distancia_ocio_km  Lejania_ocio  Distancia_radares_km  Lejania_radares  \\\n",
       "0           0.837619             2              0.946964                2   \n",
       "1           0.051679             0              2.541680                3   \n",
       "2           0.650374             2              4.205781                3   \n",
       "3           1.709451             3              2.933448                3   \n",
       "4           4.149600             3              4.180054                3   \n",
       "\n",
       "   Year  Mes  Dia  Dia_habil  Condiciones_adversas  \n",
       "0  2010    2   10          0                     0  \n",
       "1  2012    6    4          1                     0  \n",
       "2  2010    9   23          1                     0  \n",
       "3  2012    2   25          0                     0  \n",
       "4  2010    6   23          1                     0  "
      ]
     },
     "execution_count": 407,
     "metadata": {},
     "output_type": "execute_result"
    }
   ],
   "source": [
    "df_test.head()"
   ]
  },
  {
   "cell_type": "code",
   "execution_count": 408,
   "metadata": {},
   "outputs": [
    {
     "data": {
      "text/plain": [
       "Tipo_vehiculo             0\n",
       "Lesividad                 0\n",
       "Rango_horario             0\n",
       "Dia_semana                0\n",
       "Distrito                  0\n",
       "Lugar_accidente         848\n",
       "Tipo_accidente            0\n",
       "Tipo_persona              0\n",
       "Sexo                      0\n",
       "Tramo_edad                0\n",
       "Distancia_ocio_km         0\n",
       "Lejania_ocio              0\n",
       "Distancia_radares_km      0\n",
       "Lejania_radares           0\n",
       "Year                      0\n",
       "Mes                       0\n",
       "Dia                       0\n",
       "Dia_habil                 0\n",
       "Condiciones_adversas      0\n",
       "dtype: int64"
      ]
     },
     "execution_count": 408,
     "metadata": {},
     "output_type": "execute_result"
    }
   ],
   "source": [
    "dato =df_test.isna().sum ()\n",
    "pd.set_option('max_rows', len(dato)) # Para ver todos\n",
    "dato"
   ]
  },
  {
   "cell_type": "code",
   "execution_count": 409,
   "metadata": {},
   "outputs": [],
   "source": [
    "# quitamos los valores nulos\n",
    "df_test['Lugar_accidente'].fillna(df_test['Lugar_accidente'].mean(), inplace=True)"
   ]
  },
  {
   "cell_type": "code",
   "execution_count": 410,
   "metadata": {},
   "outputs": [
    {
     "data": {
      "text/plain": [
       "Tipo_vehiculo           0\n",
       "Lesividad               0\n",
       "Rango_horario           0\n",
       "Dia_semana              0\n",
       "Distrito                0\n",
       "Lugar_accidente         0\n",
       "Tipo_accidente          0\n",
       "Tipo_persona            0\n",
       "Sexo                    0\n",
       "Tramo_edad              0\n",
       "Distancia_ocio_km       0\n",
       "Lejania_ocio            0\n",
       "Distancia_radares_km    0\n",
       "Lejania_radares         0\n",
       "Year                    0\n",
       "Mes                     0\n",
       "Dia                     0\n",
       "Dia_habil               0\n",
       "Condiciones_adversas    0\n",
       "dtype: int64"
      ]
     },
     "execution_count": 410,
     "metadata": {},
     "output_type": "execute_result"
    }
   ],
   "source": [
    "dato =df_test.isna().sum ()\n",
    "pd.set_option('max_rows', len(dato)) # Para ver todos\n",
    "dato"
   ]
  },
  {
   "cell_type": "markdown",
   "metadata": {},
   "source": [
    "### Lo hemos dejado preparado para hacer el modelo"
   ]
  },
  {
   "cell_type": "code",
   "execution_count": 411,
   "metadata": {},
   "outputs": [],
   "source": [
    "from sklearn import preprocessing\n",
    "data = df.values\n",
    "y_train = data[:,0:1]     # nos quedamos con la 1ª columna, Tipo vehiculo\n",
    "X_train = data[:,1:]      # nos quedamos con el resto\n",
    "feature_names = df.columns[1:]\n",
    "# Escalamos (con los datos de train)\n",
    "scaler = preprocessing.StandardScaler().fit(X_train)\n",
    "XtrainScaled = scaler.transform(X_train)"
   ]
  },
  {
   "cell_type": "code",
   "execution_count": 412,
   "metadata": {},
   "outputs": [],
   "source": [
    "# Lo preparamos para realizar las pruebas\n",
    "data_test = df_test.values\n",
    "y_test = data_test[:,0:1]     # nos quedamos con la 1ª columna, Tipo vehiculo\n",
    "X_test = data_test[:,1:]      # nos quedamos con el resto\n",
    "feature_names_test = df_test.columns[1:]\n",
    "\n",
    "# recordad que esta normalización/escalado la realizo con el scaler anterior, basado en los datos de training!\n",
    "XtestScaled = scaler.transform(X_test) "
   ]
  },
  {
   "cell_type": "markdown",
   "metadata": {},
   "source": [
    "### Lasso"
   ]
  },
  {
   "cell_type": "code",
   "execution_count": 413,
   "metadata": {},
   "outputs": [
    {
     "name": "stdout",
     "output_type": "stream",
     "text": [
      "best mean cross-validation score: -1.348\n",
      "best parameters: {'alpha': 0.0016681005372000592}\n"
     ]
    },
    {
     "data": {
      "image/png": "[encoded data removed]",
      "text/plain": [
       "<Figure size 432x288 with 1 Axes>"
      ]
     },
     "metadata": {
      "needs_background": "light"
     },
     "output_type": "display_data"
    }
   ],
   "source": [
    "from sklearn.model_selection import GridSearchCV\n",
    "from sklearn.linear_model import Lasso\n",
    "\n",
    "alpha_vector = np.logspace(-5,5,10)\n",
    "param_grid = {'alpha': alpha_vector }\n",
    "grid = GridSearchCV(Lasso(), scoring= 'neg_mean_squared_error', param_grid=param_grid, cv = 10)\n",
    "grid.fit(XtrainScaled, y_train)\n",
    "print(\"best mean cross-validation score: {:.3f}\".format(grid.best_score_))\n",
    "print(\"best parameters: {}\".format(grid.best_params_))\n",
    "\n",
    "#-1 porque es negado\n",
    "scores = -1*np.array(grid.cv_results_['mean_test_score'])\n",
    "plt.semilogx(alpha_vector,scores,'-o')\n",
    "plt.xlabel('alpha',fontsize=16)\n",
    "plt.ylabel('5-Fold MSE')\n",
    "plt.show()"
   ]
  },
  {
   "cell_type": "code",
   "execution_count": 414,
   "metadata": {},
   "outputs": [
    {
     "name": "stdout",
     "output_type": "stream",
     "text": [
      "MSE Modelo Lasso (train): 1.35\n",
      "MSE Modelo Lasso (test) : 1.63\n",
      "RMSE Modelo Lasso (train): 1.16\n",
      "RMSE Modelo Lasso (test) : 1.28\n",
      "Lesividad 0.12409481510761391\n",
      "Rango_horario -0.023164666475484225\n",
      "Dia_semana -0.0013258067231120116\n",
      "Distrito 0.0\n",
      "Lugar_accidente 0.4737807750380238\n",
      "Tipo_accidente 0.38610666158492485\n",
      "Tipo_persona 0.0022581789794591522\n",
      "Sexo -0.15577043494314238\n",
      "Tramo_edad 0.04601805876235847\n",
      "Distancia_ocio_km -0.0\n",
      "Lejania_ocio -0.0\n",
      "Distancia_radares_km -0.0\n",
      "Lejania_radares -0.0\n",
      "Year 0.0\n",
      "Mes -0.0\n",
      "Dia -0.0\n",
      "Dia_habil 0.025185386101377643\n",
      "Condiciones_adversas -0.008859958033328279\n"
     ]
    }
   ],
   "source": [
    "from sklearn.metrics import mean_squared_error\n",
    "\n",
    "alpha_optimo = grid.best_params_['alpha']*10\n",
    "lasso = Lasso(alpha = alpha_optimo).fit(XtrainScaled,y_train)\n",
    "\n",
    "ytrainLasso = lasso.predict(XtrainScaled)\n",
    "ytestLasso  = lasso.predict(XtestScaled)\n",
    "mseTrainModelLasso = mean_squared_error(y_train,ytrainLasso)\n",
    "mseTestModelLasso = mean_squared_error(y_test,ytestLasso)\n",
    "\n",
    "print('MSE Modelo Lasso (train): %0.3g' % mseTrainModelLasso)\n",
    "print('MSE Modelo Lasso (test) : %0.3g' % mseTestModelLasso)\n",
    "\n",
    "print('RMSE Modelo Lasso (train): %0.3g' % np.sqrt(mseTrainModelLasso))\n",
    "print('RMSE Modelo Lasso (test) : %0.3g' % np.sqrt(mseTestModelLasso))\n",
    "\n",
    "w = lasso.coef_\n",
    "for f,wi in zip(feature_names,w):\n",
    "    print(f,wi)"
   ]
  },
  {
   "cell_type": "code",
   "execution_count": 415,
   "metadata": {},
   "outputs": [
    {
     "name": "stdout",
     "output_type": "stream",
     "text": [
      "2.9170849845589544\n",
      "0.783853878499502\n"
     ]
    }
   ],
   "source": [
    "y_predict_Lasso=lasso.predict(X_test)\n",
    "print(y_predict_Lasso.mean())\n",
    "print(df['Tipo_vehiculo'].mean()) \n",
    "# Vemos que las medias del precio salen muy diferentes por lo que con este método no estamos prediciendo nada bien."
   ]
  },
  {
   "cell_type": "markdown",
   "metadata": {},
   "source": [
    "### Arbol de decisión"
   ]
  },
  {
   "cell_type": "code",
   "execution_count": 416,
   "metadata": {},
   "outputs": [
    {
     "name": "stdout",
     "output_type": "stream",
     "text": [
      "best mean cross-validation score: 0.320\n",
      "best parameters: {'max_depth': 9}\n"
     ]
    },
    {
     "data": {
      "image/png": "[encoded data removed]",
      "text/plain": [
       "<Figure size 432x288 with 1 Axes>"
      ]
     },
     "metadata": {
      "needs_background": "light"
     },
     "output_type": "display_data"
    }
   ],
   "source": [
    "from sklearn.tree import DecisionTreeRegressor\n",
    "\n",
    "# Vemos con un arbol de decisión\n",
    "maxDepth = range(1,10)\n",
    "param_grid = {'max_depth': maxDepth }\n",
    "grid = GridSearchCV(DecisionTreeRegressor(random_state=0), param_grid=param_grid, cv = 10)\n",
    "grid.fit(X_train, y_train)\n",
    "print(\"best mean cross-validation score: {:.3f}\".format(grid.best_score_))\n",
    "print(\"best parameters: {}\".format(grid.best_params_))\n",
    "\n",
    "scores = np.array(grid.cv_results_['mean_test_score'])\n",
    "plt.plot(maxDepth,scores,'-o')\n",
    "plt.xlabel('max_depth',fontsize=16)\n",
    "plt.ylabel('10-Fold MSE')\n",
    "plt.show()"
   ]
  },
  {
   "cell_type": "code",
   "execution_count": 418,
   "metadata": {},
   "outputs": [
    {
     "name": "stdout",
     "output_type": "stream",
     "text": [
      "Train:  0.3647275008462043\n",
      "Test:  0.19356951869686112\n"
     ]
    }
   ],
   "source": [
    "maxDepthOptimo = grid.best_params_['max_depth']\n",
    "treeModel = DecisionTreeRegressor(max_depth=maxDepthOptimo).fit(X_train,y_train)\n",
    "\n",
    "print(\"Train: \",treeModel.score(X_train,y_train))\n",
    "print(\"Test: \",treeModel.score(X_test,y_test))"
   ]
  },
  {
   "cell_type": "code",
   "execution_count": 419,
   "metadata": {},
   "outputs": [
    {
     "name": "stdout",
     "output_type": "stream",
     "text": [
      "0.7813728968336231\n",
      "0.783853878499502\n"
     ]
    }
   ],
   "source": [
    "y_predict_decisionTree=grid.predict(X_test)\n",
    "print(y_predict_decisionTree.mean())\n",
    "print(df['Tipo_vehiculo'].mean()) \n",
    "# Vemos que las medias del precio salen muy parecidas, estaríamos prediciendo bien."
   ]
  },
  {
   "cell_type": "markdown",
   "metadata": {},
   "source": [
    "### Random forest"
   ]
  },
  {
   "cell_type": "code",
   "execution_count": 420,
   "metadata": {},
   "outputs": [
    {
     "name": "stdout",
     "output_type": "stream",
     "text": [
      "best mean cross-validation score: 0.346\n",
      "best parameters: {'max_depth': 14}\n"
     ]
    },
    {
     "data": {
      "image/png": "[encoded data removed]",
      "text/plain": [
       "<Figure size 432x288 with 1 Axes>"
      ]
     },
     "metadata": {
      "needs_background": "light"
     },
     "output_type": "display_data"
    }
   ],
   "source": [
    "import warnings\n",
    "warnings.filterwarnings('ignore')\n",
    "from sklearn.ensemble import RandomForestRegressor\n",
    "\n",
    "# Con grid search buscamos el óptimo\n",
    "maxDepth = range(1, 15) \n",
    "# Probando veo que está entre estos valores los que mejor resultado dan, lo acoto para que no tarde tanto en cargar.\n",
    "tuned_parameters = {'max_depth': maxDepth}\n",
    "\n",
    "grid = GridSearchCV(RandomForestRegressor(random_state=0, n_estimators=200, max_features='sqrt'), param_grid=tuned_parameters,cv=10) \n",
    "grid.fit(X_train, y_train) # Al no ponerle Scoring lo hacemos con accuracy\n",
    "\n",
    "print(\"best mean cross-validation score: {:.3f}\".format(grid.best_score_))\n",
    "print(\"best parameters: {}\".format(grid.best_params_))\n",
    "\n",
    "scores = np.array(grid.cv_results_['mean_test_score'])\n",
    "plt.plot(maxDepth,scores,'-o')\n",
    "plt.xlabel('max_depth')\n",
    "plt.ylabel('10-fold ACC')\n",
    "\n",
    "plt.show()"
   ]
  },
  {
   "cell_type": "code",
   "execution_count": 422,
   "metadata": {},
   "outputs": [
    {
     "name": "stdout",
     "output_type": "stream",
     "text": [
      "Train:  0.4187221157284833\n",
      "Test:  0.24729676436960804\n"
     ]
    }
   ],
   "source": [
    "maxDepthOptimo = 12 #grid.best_params_['max_depth'] # Cogemos 12 para reducir complejidad\n",
    "bagModel = RandomForestRegressor(max_depth=maxDepthOptimo,n_estimators=200,max_features='sqrt').fit(X_train,y_train)\n",
    "\n",
    "print(\"Train: \",bagModel.score(X_train,y_train))\n",
    "print(\"Test: \",bagModel.score(X_test,y_test))\n",
    "# Mejoramos respecto a Lasso"
   ]
  },
  {
   "cell_type": "code",
   "execution_count": 423,
   "metadata": {},
   "outputs": [
    {
     "name": "stdout",
     "output_type": "stream",
     "text": [
      "0.7816010436600821\n",
      "0.783853878499502\n"
     ]
    }
   ],
   "source": [
    "y_predict_bagModel=bagModel.predict(X_test)\n",
    "print(y_predict_bagModel.mean())\n",
    "print(df['Tipo_vehiculo'].mean()) \n",
    "# Vemos que las medias del precio salen muy parecidas, estaríamos prediciendo muy bien."
   ]
  },
  {
   "cell_type": "code",
   "execution_count": 424,
   "metadata": {},
   "outputs": [
    {
     "data": {
      "image/png": "[encoded data removed]",
      "text/plain": [
       "<Figure size 720x720 with 1 Axes>"
      ]
     },
     "metadata": {
      "needs_background": "light"
     },
     "output_type": "display_data"
    }
   ],
   "source": [
    "# Vamos a comprobar las variables que son importantes para valorar nuestro modelo\n",
    "features = df.columns.drop(['Tipo_vehiculo'])\n",
    "\n",
    "importances = bagModel.feature_importances_\n",
    "importances = importances / np.max(importances)\n",
    "\n",
    "indices = np.argsort(importances)[::-1]\n",
    "\n",
    "plt.figure(figsize=(10,10))\n",
    "plt.barh(range(X_train.shape[1]),importances[indices])\n",
    "plt.yticks(range(X_train.shape[1]),features[indices])\n",
    "plt.show()"
   ]
  },
  {
   "cell_type": "code",
   "execution_count": 432,
   "metadata": {},
   "outputs": [],
   "source": [
    "# Vemos que las variables que le da más importancia con Random Forest son algo diferentes a las que nos da Lasso.\n",
    "# Vamos a dropear las columnas hasta Dia a ver si mejoramos:\n",
    "# Copio los data frames para dropear columnas sin afectar a mis data frames originales\n",
    "df_Forest = df.copy()\n",
    "df_test_Forest = df_test.copy()"
   ]
  },
  {
   "cell_type": "code",
   "execution_count": 433,
   "metadata": {},
   "outputs": [],
   "source": [
    "df_Forest.drop(['Condiciones_adversas','Lejania_radares', 'Dia_habil',\n",
    "                'Lejania_ocio', 'Dia_semana',  'Year','Mes', 'Dia'], axis=1, inplace=True)"
   ]
  },
  {
   "cell_type": "code",
   "execution_count": 434,
   "metadata": {},
   "outputs": [],
   "source": [
    "df_test_Forest.drop(['Condiciones_adversas','Lejania_radares', 'Dia_habil',\n",
    "                'Lejania_ocio', 'Dia_semana',  'Year','Mes', 'Dia'], axis=1, inplace=True)"
   ]
  },
  {
   "cell_type": "code",
   "execution_count": 435,
   "metadata": {},
   "outputs": [],
   "source": [
    "# Cargamos el dataframe con nuestras columnas dropeadas\n",
    "from sklearn import preprocessing\n",
    "data = df_Forest.values\n",
    "y_train = data[:,0:1]     # nos quedamos con la 1ª columna, Tipo vehiculo\n",
    "X_train = data[:,1:]      # nos quedamos con el resto\n",
    "feature_names = df_Forest.columns[1:]\n",
    "# Escalamos (con los datos de train)\n",
    "scaler = preprocessing.StandardScaler().fit(X_train)\n",
    "XtrainScaled = scaler.transform(X_train)"
   ]
  },
  {
   "cell_type": "code",
   "execution_count": 436,
   "metadata": {},
   "outputs": [],
   "source": [
    "# Lo preparamos para realizar las pruebas\n",
    "data_test = df_test_Forest.values\n",
    "y_test = data_test[:,0:1]     # nos quedamos con la 1ª columna, Tipo vehiculo\n",
    "X_test = data_test[:,1:]      # nos quedamos con el resto\n",
    "feature_names_test = df_test_Forest.columns[1:]\n",
    "\n",
    "XtestScaled = scaler.transform(X_test) "
   ]
  },
  {
   "cell_type": "code",
   "execution_count": 437,
   "metadata": {},
   "outputs": [],
   "source": [
    "features = df_Forest.columns.drop(['Tipo_vehiculo'])"
   ]
  },
  {
   "cell_type": "code",
   "execution_count": 438,
   "metadata": {},
   "outputs": [
    {
     "name": "stdout",
     "output_type": "stream",
     "text": [
      "best mean cross-validation score: 0.353\n",
      "best parameters: {'max_depth': 13}\n"
     ]
    },
    {
     "data": {
      "image/png": "[encoded data removed]",
      "text/plain": [
       "<Figure size 432x288 with 1 Axes>"
      ]
     },
     "metadata": {
      "needs_background": "light"
     },
     "output_type": "display_data"
    }
   ],
   "source": [
    "import warnings\n",
    "warnings.filterwarnings('ignore')\n",
    "from sklearn.ensemble import RandomForestRegressor\n",
    "\n",
    "# grid search\n",
    "maxDepth = range(1, 15) \n",
    "# Probando veo que está entre estos valores los que mejor resultado dan, lo acoto para que no tarde tanto en cargar.\n",
    "tuned_parameters = {'max_depth': maxDepth}\n",
    "\n",
    "grid = GridSearchCV(RandomForestRegressor(random_state=0, n_estimators=200, max_features='sqrt'), param_grid=tuned_parameters,cv=10) \n",
    "grid.fit(X_train, y_train)\n",
    "\n",
    "print(\"best mean cross-validation score: {:.3f}\".format(grid.best_score_))\n",
    "print(\"best parameters: {}\".format(grid.best_params_))\n",
    "\n",
    "scores = np.array(grid.cv_results_['mean_test_score'])\n",
    "plt.plot(maxDepth,scores,'-o')\n",
    "plt.xlabel('max_depth')\n",
    "plt.ylabel('10-fold ACC')\n",
    "\n",
    "plt.show()"
   ]
  },
  {
   "cell_type": "code",
   "execution_count": 440,
   "metadata": {},
   "outputs": [
    {
     "name": "stdout",
     "output_type": "stream",
     "text": [
      "Train:  0.4425102838699697\n",
      "Test:  0.2433415398909775\n"
     ]
    }
   ],
   "source": [
    "maxDepthOptimo = grid.best_params_['max_depth']\n",
    "bagModel = RandomForestRegressor(max_depth=maxDepthOptimo,n_estimators=200,max_features='sqrt').fit(X_train,y_train)\n",
    "\n",
    "print(\"Train: \",bagModel.score(X_train,y_train))\n",
    "print(\"Test: \",bagModel.score(X_test,y_test))"
   ]
  },
  {
   "cell_type": "code",
   "execution_count": 443,
   "metadata": {},
   "outputs": [
    {
     "name": "stdout",
     "output_type": "stream",
     "text": [
      "0.7817850771089183\n",
      "0.783853878499502\n"
     ]
    }
   ],
   "source": [
    "y_predict_bagModel=bagModel.predict(X_test)\n",
    "print(y_predict_bagModel.mean())\n",
    "print(df['Tipo_vehiculo'].mean()) \n",
    "# Vemos que las medias del precio salen muy parecidas, estaríamos prediciendo muy bien."
   ]
  },
  {
   "cell_type": "markdown",
   "metadata": {},
   "source": [
    "### Boosted Tree"
   ]
  },
  {
   "cell_type": "code",
   "execution_count": 425,
   "metadata": {},
   "outputs": [
    {
     "name": "stdout",
     "output_type": "stream",
     "text": [
      "best mean cross-validation score: 0.339\n",
      "best parameters: {'learning_rate': 0.05, 'n_estimators': 250}\n"
     ]
    }
   ],
   "source": [
    "from sklearn.ensemble import GradientBoostingRegressor\n",
    "cv = 5\n",
    "\n",
    "Niterations = [200, 250, 500,1000] \n",
    "learningRate = [0.1,0.05]\n",
    "# mantenemos max_depth estático: max_depth=3\n",
    "\n",
    "param_grid = {'n_estimators': Niterations,'learning_rate':learningRate }\n",
    "grid = GridSearchCV(GradientBoostingRegressor(random_state=0, max_depth=3), param_grid=param_grid, cv = cv, n_jobs=4)\n",
    "grid.fit(X_train, y_train)\n",
    "print(\"best mean cross-validation score: {:.3f}\".format(grid.best_score_))\n",
    "print(\"best parameters: {}\".format(grid.best_params_))"
   ]
  },
  {
   "cell_type": "code",
   "execution_count": 426,
   "metadata": {},
   "outputs": [
    {
     "data": {
      "image/png": "[encoded data removed]",
      "text/plain": [
       "<Figure size 432x288 with 1 Axes>"
      ]
     },
     "metadata": {
      "needs_background": "light"
     },
     "output_type": "display_data"
    }
   ],
   "source": [
    "lrOptimo = grid.best_params_['learning_rate']\n",
    "neOptimo = grid.best_params_['n_estimators']\n",
    "bt = GradientBoostingRegressor(random_state=0, max_depth=6,learning_rate=lrOptimo, n_estimators=neOptimo)\n",
    "bt.fit(X_train,y_train)\n",
    "\n",
    "error = 1-grid.cv_results_['mean_test_score'].reshape(len(learningRate),len(Niterations))\n",
    "colors = ['r','b','g','k','m']\n",
    "for i,lr in enumerate(learningRate):    \n",
    "    plt.plot(Niterations,error[i,:],colors[i] + '--o',label='lr = %g'%lr)\n",
    "\n",
    "plt.legend()\n",
    "plt.xlabel('# iteraciones')\n",
    "plt.ylabel('5-fold CV Error')\n",
    "plt.title('train: %0.3f\\ntest:  %0.3f'%(bt.score(X_train,y_train),bt.score(X_test,y_test)))\n",
    "plt.grid()\n",
    "plt.show()"
   ]
  },
  {
   "cell_type": "code",
   "execution_count": 428,
   "metadata": {},
   "outputs": [
    {
     "name": "stdout",
     "output_type": "stream",
     "text": [
      "0.7853253879235372\n",
      "0.783853878499502\n"
     ]
    }
   ],
   "source": [
    "y_predict_boosted=bt.predict(X_test)\n",
    "print(y_predict_boosted.mean())\n",
    "print(df['Tipo_vehiculo'].mean()) \n",
    "# Vemos que las medias salen muy parecidas. Con boosted Tree obtenemos una buena predicción."
   ]
  },
  {
   "cell_type": "code",
   "execution_count": 429,
   "metadata": {},
   "outputs": [
    {
     "name": "stdout",
     "output_type": "stream",
     "text": [
      "Train:  0.4298063835455457\n",
      "Test:  0.24162791774370507\n"
     ]
    }
   ],
   "source": [
    "boostedModel = GradientBoostingRegressor(max_depth=7).fit(X_train,y_train)\n",
    "\n",
    "print(\"Train: \",boostedModel.score(X_train,y_train))\n",
    "print(\"Test: \",boostedModel.score(X_test,y_test))"
   ]
  },
  {
   "cell_type": "code",
   "execution_count": 430,
   "metadata": {},
   "outputs": [
    {
     "data": {
      "image/png": "[encoded data removed]",
      "text/plain": [
       "<Figure size 720x720 with 1 Axes>"
      ]
     },
     "metadata": {
      "needs_background": "light"
     },
     "output_type": "display_data"
    }
   ],
   "source": [
    "importances = bt.feature_importances_\n",
    "importances = importances / np.max(importances)\n",
    "\n",
    "indices = np.argsort(importances)[::-1]\n",
    "\n",
    "plt.figure(figsize=(10,10))\n",
    "plt.barh(range(X_train.shape[1]),importances[indices])\n",
    "plt.yticks(range(X_train.shape[1]),feature_names[indices])\n",
    "plt.show()"
   ]
  },
  {
   "cell_type": "code",
   "execution_count": 444,
   "metadata": {},
   "outputs": [],
   "source": [
    "# Copio los data frames para dropear columnas sin afectar a mis data frames originales\n",
    "df_Boosted = df.copy()\n",
    "df_test_Boosted = df_test.copy()"
   ]
  },
  {
   "cell_type": "code",
   "execution_count": 446,
   "metadata": {},
   "outputs": [],
   "source": [
    "# Vamos a quitar columnas según el gráfico de arriba hasta Distancia_ocio_km incluido.\n",
    "df_Boosted.drop(['Lejania_radares', 'Lejania_ocio', 'Condiciones_adversas',\n",
    "                 'Dia_habil', 'Mes', 'Year', 'Dia_semana', 'Distrito',\n",
    "                 'Dia', 'Distancia_radares_km','Distancia_ocio_km'], axis=1, inplace=True)"
   ]
  },
  {
   "cell_type": "code",
   "execution_count": 447,
   "metadata": {},
   "outputs": [],
   "source": [
    "df_test_Boosted.drop(['Lejania_radares', 'Lejania_ocio', 'Condiciones_adversas',\n",
    "                 'Dia_habil', 'Mes', 'Year', 'Dia_semana', 'Distrito',\n",
    "                 'Dia', 'Distancia_radares_km','Distancia_ocio_km'], axis=1, inplace=True)"
   ]
  },
  {
   "cell_type": "code",
   "execution_count": 448,
   "metadata": {},
   "outputs": [],
   "source": [
    "# Lo preparamos para realizar las pruebas\n",
    "from sklearn import preprocessing\n",
    "data = df_Boosted.values\n",
    "y_train = data[:,0:1]     # nos quedamos con la 1ª columna, Tipo vehiculo\n",
    "X_train = data[:,1:]      # nos quedamos con el resto\n",
    "feature_names = df_Boosted.columns[1:]\n",
    "# Escalamos (con los datos de train)\n",
    "scaler = preprocessing.StandardScaler().fit(X_train)\n",
    "XtrainScaled = scaler.transform(X_train)"
   ]
  },
  {
   "cell_type": "code",
   "execution_count": 449,
   "metadata": {},
   "outputs": [],
   "source": [
    "# Lo preparamos para realizar las pruebas\n",
    "data_test = df_test_Boosted.values\n",
    "y_test = data_test[:,0:1]     # nos quedamos con la 1ª columna, Tipo vehiculo\n",
    "X_test = data_test[:,1:]      # nos quedamos con el resto\n",
    "feature_names_test = df_test_Boosted.columns[1:]\n",
    "\n",
    "XtestScaled = scaler.transform(X_test) "
   ]
  },
  {
   "cell_type": "code",
   "execution_count": 450,
   "metadata": {},
   "outputs": [
    {
     "name": "stdout",
     "output_type": "stream",
     "text": [
      "best mean cross-validation score: 0.357\n",
      "best parameters: {'learning_rate': 0.05, 'n_estimators': 2000}\n"
     ]
    }
   ],
   "source": [
    "import warnings\n",
    "warnings.filterwarnings('ignore')\n",
    "\n",
    "from sklearn.ensemble import GradientBoostingRegressor\n",
    "\n",
    "Niterations = [1500,2000, 2500]\n",
    "learningRate = [0.1,0.05]\n",
    "# mantenemos max_depth estático: max_depth=3\n",
    "\n",
    "param_grid = {'n_estimators': Niterations,'learning_rate':learningRate }\n",
    "grid = GridSearchCV(GradientBoostingRegressor(random_state=0, max_depth=3), param_grid=param_grid, cv = 5)\n",
    "grid.fit(X_train, y_train)\n",
    "print(\"best mean cross-validation score: {:.3f}\".format(grid.best_score_))\n",
    "print(\"best parameters: {}\".format(grid.best_params_))"
   ]
  },
  {
   "cell_type": "code",
   "execution_count": 451,
   "metadata": {},
   "outputs": [
    {
     "data": {
      "image/png": "[encoded data removed]",
      "text/plain": [
       "<Figure size 432x288 with 1 Axes>"
      ]
     },
     "metadata": {
      "needs_background": "light"
     },
     "output_type": "display_data"
    }
   ],
   "source": [
    "lrOptimo = grid.best_params_['learning_rate']\n",
    "neOptimo = grid.best_params_['n_estimators']\n",
    "bt = GradientBoostingRegressor(random_state=0, max_depth=8,learning_rate=lrOptimo, n_estimators=neOptimo)\n",
    "bt.fit(X_train,y_train)\n",
    "\n",
    "error = 1-grid.cv_results_['mean_test_score'].reshape(len(learningRate),len(Niterations))\n",
    "colors = ['r','b','g','k','m']\n",
    "for i,lr in enumerate(learningRate):    \n",
    "    plt.plot(Niterations,error[i,:],colors[i] + '--o',label='lr = %g'%lr)\n",
    "\n",
    "plt.legend()\n",
    "plt.xlabel('# iteraciones')\n",
    "plt.ylabel('5-fold CV Error')\n",
    "plt.title('train: %0.3f\\ntest:  %0.3f'%(bt.score(X_train,y_train),bt.score(X_test,y_test)))\n",
    "plt.grid()\n",
    "plt.show()\n",
    "# Vemos que empeoran los resultados de test."
   ]
  },
  {
   "cell_type": "code",
   "execution_count": 454,
   "metadata": {},
   "outputs": [
    {
     "name": "stdout",
     "output_type": "stream",
     "text": [
      "0.7905223969656208\n",
      "0.783853878499502\n"
     ]
    }
   ],
   "source": [
    "y_predict_boosted=bt.predict(X_test)\n",
    "print(y_predict_boosted.mean())\n",
    "print(df['Tipo_vehiculo'].mean()) \n",
    "# Vemos que las medias salen muy parecidas. Con boosted Tree obtenemos una buena predicción."
   ]
  },
  {
   "cell_type": "code",
   "execution_count": 455,
   "metadata": {},
   "outputs": [
    {
     "name": "stdout",
     "output_type": "stream",
     "text": [
      "Train:  0.4120274575346735\n",
      "Test:  0.2315560939005894\n"
     ]
    }
   ],
   "source": [
    "boostedModel = GradientBoostingRegressor(max_depth=7).fit(X_train,y_train)\n",
    "\n",
    "print(\"Train: \",boostedModel.score(X_train,y_train))\n",
    "print(\"Test: \",boostedModel.score(X_test,y_test))"
   ]
  },
  {
   "cell_type": "code",
   "execution_count": null,
   "metadata": {},
   "outputs": [],
   "source": []
  },
  {
   "cell_type": "code",
   "execution_count": null,
   "metadata": {},
   "outputs": [],
   "source": []
  },
  {
   "cell_type": "code",
   "execution_count": null,
   "metadata": {},
   "outputs": [],
   "source": []
  },
  {
   "cell_type": "code",
   "execution_count": null,
   "metadata": {},
   "outputs": [],
   "source": []
  }
 ],
 "metadata": {
  "kernelspec": {
   "display_name": "Python 3",
   "language": "python",
   "name": "python3"
  },
  "language_info": {
   "codemirror_mode": {
    "name": "ipython",
    "version": 3
   },
   "file_extension": ".py",
   "mimetype": "text/x-python",
   "name": "python",
   "nbconvert_exporter": "python",
   "pygments_lexer": "ipython3",
   "version": "3.7.6"
  }
 },
 "nbformat": 4,
 "nbformat_minor": 4
}
