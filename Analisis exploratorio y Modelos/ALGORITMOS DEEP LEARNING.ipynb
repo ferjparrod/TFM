{
 "cells": [
  {
   "cell_type": "markdown",
   "metadata": {},
   "source": [
    "A continuación vamos a hacer un trabajo similar al hecho para ML con algoritmos de DL, buscando mejorar todo lo posible nuestro score para la predicción de clase sobre la lesividad de un accidente futuro (IL,HL,HG,MT)\n"
   ]
  },
  {
   "cell_type": "code",
   "execution_count": 1,
   "metadata": {},
   "outputs": [],
   "source": [
    "import tensorflow as tf\n",
    "physical_devices = tf.config.list_physical_devices('GPU') \n",
    "tf.config.experimental.set_memory_growth(physical_devices[0], True)"
   ]
  },
  {
   "cell_type": "code",
   "execution_count": 2,
   "metadata": {},
   "outputs": [
    {
     "name": "stdout",
     "output_type": "stream",
     "text": [
      "Dimensiones del dataset de training: (144069, 24)\n",
      "Dimensiones del dataset de test: (35959, 24)\n"
     ]
    }
   ],
   "source": [
    "import pandas as pd\n",
    "df = pd.read_csv('./trainREADY.csv', sep=';', decimal='.')\n",
    "df_test = pd.read_csv('./testREADY.csv', sep=';', decimal='.')\n",
    "print(f'Dimensiones del dataset de training: {df.shape}')\n",
    "print(f'Dimensiones del dataset de test: {df_test.shape}')\n"
   ]
  },
  {
   "cell_type": "markdown",
   "metadata": {},
   "source": [
    "Importamos los datasets y todas las librerías necesarias para nuestro trabajo:"
   ]
  },
  {
   "cell_type": "code",
   "execution_count": 3,
   "metadata": {},
   "outputs": [
    {
     "name": "stderr",
     "output_type": "stream",
     "text": [
      "Using TensorFlow backend.\n"
     ]
    }
   ],
   "source": [
    "from sklearn.preprocessing import LabelBinarizer\n",
    "from sklearn import preprocessing\n",
    "from sklearn.preprocessing import MinMaxScaler\n",
    "from tensorflow.keras.optimizers import Adam\n",
    "from tensorflow.keras.models import Sequential, Model\n",
    "from tensorflow.keras.layers import BatchNormalization, Conv2D, MaxPooling2D, Activation, Dropout, Dense, Flatten, Input\n",
    "from keras.regularizers import l2\n",
    "import pandas as pd\n",
    "import numpy as np\n",
    "import glob\n",
    "import os\n",
    "data1 = df.values\n",
    "y_train = data1[:,0:1]       # nos quedamos con la 1ª columna, price\n",
    "X_train = data1[:,1:]      # nos quedamos con el resto\n",
    "feature_names = df.columns[1:]\n",
    "# Escalamos (con los datos de train)\n",
    "scaler = preprocessing.StandardScaler().fit(X_train)\n",
    "XtrainScaled = scaler.transform(X_train)"
   ]
  },
  {
   "cell_type": "code",
   "execution_count": 4,
   "metadata": {},
   "outputs": [],
   "source": [
    "data2 = df_test.values\n",
    "y_test = data2[:,0:1]     # nos quedamos con la 1ª columna, price\n",
    "X_test = data2[:,1:]      # nos quedamos con el resto\n",
    "feature_names_test = df_test.columns[1:]\n",
    "\n",
    "XtestScaled = scaler.transform(X_test)"
   ]
  },
  {
   "cell_type": "markdown",
   "metadata": {},
   "source": [
    "A continuación vamos a crear algunos modelos de DL con las consignas aprendidas en clase. En el primero, tenemos 5 capas, la primera con un regularizador L2 y una capa de activación \"sofmax\" al ser clasificación. Cabe recordar que nuestros \"outputs\" son 4 (IL,HL,HG,MT) de ahí que la última capa tenga 4 neuronas"
   ]
  },
  {
   "cell_type": "code",
   "execution_count": 5,
   "metadata": {},
   "outputs": [],
   "source": [
    "def create_mlp(data,regress =False):\n",
    "    model=Sequential()\n",
    "    model.add(Dense(256, input_dim=data, activation=\"relu\",kernel_regularizer=l2(0.01)))\n",
    "    model.add(Dense(96, input_dim=data, activation=\"relu\"))\n",
    "    model.add(Dense(48, input_dim=data, activation=\"relu\"))\n",
    "    model.add(Dense(12, input_dim=data, activation=\"relu\"))\n",
    "    model.add(Dense(4, input_dim=data, activation=\"softmax\"))\n",
    "\t# check to see if the regression node should be added\n",
    "    if regress:\n",
    "        model.add(Dense(1, activation=\"linear\"))\n",
    "\t# return our model\n",
    "    return model"
   ]
  },
  {
   "cell_type": "code",
   "execution_count": 6,
   "metadata": {},
   "outputs": [
    {
     "name": "stdout",
     "output_type": "stream",
     "text": [
      "[INFO] training model...\n",
      "Train on 144069 samples, validate on 35959 samples\n",
      "Epoch 1/100\n",
      "144069/144069 [==============================] - 138s 956us/sample - loss: 0.6160 - accuracy: 0.7254 - val_loss: 0.6753 - val_accuracy: 0.6822\n",
      "Epoch 2/100\n",
      "144069/144069 [==============================] - 133s 923us/sample - loss: 0.5942 - accuracy: 0.7292 - val_loss: 0.7050 - val_accuracy: 0.6773\n",
      "Epoch 3/100\n",
      "144069/144069 [==============================] - 139s 966us/sample - loss: 0.5910 - accuracy: 0.7311 - val_loss: 0.6923 - val_accuracy: 0.6791\n",
      "Epoch 4/100\n",
      "144069/144069 [==============================] - 142s 985us/sample - loss: 0.5899 - accuracy: 0.7312 - val_loss: 0.6911 - val_accuracy: 0.6814\n",
      "Epoch 5/100\n",
      "144069/144069 [==============================] - 139s 965us/sample - loss: 0.5887 - accuracy: 0.7312 - val_loss: 0.6986 - val_accuracy: 0.6882\n",
      "Epoch 6/100\n",
      "144069/144069 [==============================] - 137s 950us/sample - loss: 0.5879 - accuracy: 0.7316 - val_loss: 0.7168 - val_accuracy: 0.6755\n",
      "Epoch 7/100\n",
      "144069/144069 [==============================] - 136s 942us/sample - loss: 0.5880 - accuracy: 0.7313 - val_loss: 0.7246 - val_accuracy: 0.6730\n",
      "Epoch 8/100\n",
      "144069/144069 [==============================] - 136s 946us/sample - loss: 0.5873 - accuracy: 0.7322 - val_loss: 0.6999 - val_accuracy: 0.6782\n",
      "Epoch 9/100\n",
      "144069/144069 [==============================] - 131s 912us/sample - loss: 0.5874 - accuracy: 0.7326 - val_loss: 0.6873 - val_accuracy: 0.6901\n",
      "Epoch 10/100\n",
      "144069/144069 [==============================] - 144s 997us/sample - loss: 0.5866 - accuracy: 0.7328 - val_loss: 0.6889 - val_accuracy: 0.6811\n",
      "Epoch 11/100\n",
      "144069/144069 [==============================] - 138s 961us/sample - loss: 0.5868 - accuracy: 0.7326 - val_loss: 0.7306 - val_accuracy: 0.6786\n",
      "Epoch 12/100\n",
      "144069/144069 [==============================] - 138s 956us/sample - loss: 0.5855 - accuracy: 0.7324 - val_loss: 0.7554 - val_accuracy: 0.6801\n",
      "Epoch 13/100\n",
      "144069/144069 [==============================] - 138s 960us/sample - loss: 0.5855 - accuracy: 0.7329 - val_loss: 0.7043 - val_accuracy: 0.6801\n",
      "Epoch 14/100\n",
      "144069/144069 [==============================] - 142s 985us/sample - loss: 0.5862 - accuracy: 0.7334 - val_loss: 0.6948 - val_accuracy: 0.6854\n",
      "Epoch 15/100\n",
      "144069/144069 [==============================] - 131s 908us/sample - loss: 0.5849 - accuracy: 0.7324 - val_loss: 0.6991 - val_accuracy: 0.6812\n",
      "Epoch 16/100\n",
      "144069/144069 [==============================] - 138s 955us/sample - loss: 0.5855 - accuracy: 0.7333 - val_loss: 0.7101 - val_accuracy: 0.6807\n",
      "Epoch 17/100\n",
      "144069/144069 [==============================] - 137s 949us/sample - loss: 0.5851 - accuracy: 0.7336 - val_loss: 0.7213 - val_accuracy: 0.6794\n",
      "Epoch 18/100\n",
      "144069/144069 [==============================] - 131s 906us/sample - loss: 0.5851 - accuracy: 0.7331 - val_loss: 0.7230 - val_accuracy: 0.6767\n",
      "Epoch 19/100\n",
      "144069/144069 [==============================] - 130s 905us/sample - loss: 0.5845 - accuracy: 0.7332 - val_loss: 0.7484 - val_accuracy: 0.6834\n",
      "Epoch 20/100\n",
      "144069/144069 [==============================] - 127s 885us/sample - loss: 0.5849 - accuracy: 0.7323 - val_loss: 0.7132 - val_accuracy: 0.6801\n",
      "Epoch 21/100\n",
      "144069/144069 [==============================] - 132s 917us/sample - loss: 0.5851 - accuracy: 0.7332 - val_loss: 0.7219 - val_accuracy: 0.6812\n",
      "Epoch 22/100\n",
      "144069/144069 [==============================] - 73s 508us/sample - loss: 0.5857 - accuracy: 0.7327 - val_loss: 0.7199 - val_accuracy: 0.6782\n",
      "Epoch 23/100\n",
      "144069/144069 [==============================] - 59s 410us/sample - loss: 0.5863 - accuracy: 0.7329 - val_loss: 0.7119 - val_accuracy: 0.6805\n",
      "Epoch 24/100\n",
      "144069/144069 [==============================] - 59s 413us/sample - loss: 0.5854 - accuracy: 0.7338 - val_loss: 0.7052 - val_accuracy: 0.6804\n",
      "Epoch 25/100\n",
      "144069/144069 [==============================] - 60s 413us/sample - loss: 0.5853 - accuracy: 0.7340 - val_loss: 0.7169 - val_accuracy: 0.6819\n",
      "Epoch 26/100\n",
      "144069/144069 [==============================] - 69s 478us/sample - loss: 0.5843 - accuracy: 0.7341 - val_loss: 0.7377 - val_accuracy: 0.6809\n",
      "Epoch 27/100\n",
      "144069/144069 [==============================] - 102s 710us/sample - loss: 0.5853 - accuracy: 0.7334 - val_loss: 0.7322 - val_accuracy: 0.6777\n",
      "Epoch 28/100\n",
      "144069/144069 [==============================] - 103s 714us/sample - loss: 0.5860 - accuracy: 0.7323 - val_loss: 0.7117 - val_accuracy: 0.6806\n",
      "Epoch 29/100\n",
      "144069/144069 [==============================] - 103s 713us/sample - loss: 0.5860 - accuracy: 0.7331 - val_loss: 0.7470 - val_accuracy: 0.6779\n",
      "Epoch 30/100\n",
      "144069/144069 [==============================] - 104s 723us/sample - loss: 0.5884 - accuracy: 0.7343 - val_loss: 0.7006 - val_accuracy: 0.6857\n",
      "Epoch 31/100\n",
      "144069/144069 [==============================] - 104s 720us/sample - loss: 0.5851 - accuracy: 0.7335 - val_loss: 0.7292 - val_accuracy: 0.6833\n",
      "Epoch 32/100\n",
      "144069/144069 [==============================] - 103s 716us/sample - loss: 0.5852 - accuracy: 0.7336 - val_loss: 0.7376 - val_accuracy: 0.6729\n",
      "Epoch 33/100\n",
      "144069/144069 [==============================] - 102s 705us/sample - loss: 0.5865 - accuracy: 0.7331 - val_loss: 0.6946 - val_accuracy: 0.6778\n",
      "Epoch 34/100\n",
      "144069/144069 [==============================] - 103s 715us/sample - loss: 0.5860 - accuracy: 0.7328 - val_loss: 0.7003 - val_accuracy: 0.6852\n",
      "Epoch 35/100\n",
      "144069/144069 [==============================] - 104s 719us/sample - loss: 0.5849 - accuracy: 0.7327 - val_loss: 0.7372 - val_accuracy: 0.6788\n",
      "Epoch 36/100\n",
      "144069/144069 [==============================] - 104s 725us/sample - loss: 0.5855 - accuracy: 0.7326 - val_loss: 0.7550 - val_accuracy: 0.6745\n",
      "Epoch 37/100\n",
      "144069/144069 [==============================] - 103s 714us/sample - loss: 0.5848 - accuracy: 0.7328 - val_loss: 0.7034 - val_accuracy: 0.6827\n",
      "Epoch 38/100\n",
      "144069/144069 [==============================] - 104s 720us/sample - loss: 0.5853 - accuracy: 0.7335 - val_loss: 0.6942 - val_accuracy: 0.6825\n",
      "Epoch 39/100\n",
      "144069/144069 [==============================] - 103s 718us/sample - loss: 0.5851 - accuracy: 0.7333 - val_loss: 0.7304 - val_accuracy: 0.6796\n",
      "Epoch 40/100\n",
      "144069/144069 [==============================] - 103s 712us/sample - loss: 0.5852 - accuracy: 0.7334 - val_loss: 0.7422 - val_accuracy: 0.6805\n",
      "Epoch 41/100\n",
      "144069/144069 [==============================] - 105s 728us/sample - loss: 0.5852 - accuracy: 0.7326 - val_loss: 0.7832 - val_accuracy: 0.6778\n",
      "Epoch 42/100\n",
      "144069/144069 [==============================] - 33406s 232ms/sample - loss: 0.5849 - accuracy: 0.7336 - val_loss: 0.7105 - val_accuracy: 0.6842\n",
      "Epoch 43/100\n",
      "144069/144069 [==============================] - 63s 434us/sample - loss: 0.5848 - accuracy: 0.7330 - val_loss: 0.7109 - val_accuracy: 0.6809\n",
      "Epoch 44/100\n",
      "144069/144069 [==============================] - 89s 615us/sample - loss: 0.5848 - accuracy: 0.7326 - val_loss: 0.7072 - val_accuracy: 0.6818\n",
      "Epoch 45/100\n",
      "144069/144069 [==============================] - 75s 521us/sample - loss: 0.5844 - accuracy: 0.7328 - val_loss: 0.7299 - val_accuracy: 0.6808\n",
      "Epoch 46/100\n",
      "144069/144069 [==============================] - 58s 400us/sample - loss: 0.5845 - accuracy: 0.7333 - val_loss: 0.7533 - val_accuracy: 0.6797\n",
      "Epoch 47/100\n",
      "144069/144069 [==============================] - 63s 438us/sample - loss: 0.5847 - accuracy: 0.7334 - val_loss: 0.7187 - val_accuracy: 0.6834\n",
      "Epoch 48/100\n",
      "144069/144069 [==============================] - 62s 428us/sample - loss: 0.5858 - accuracy: 0.7329 - val_loss: 0.7313 - val_accuracy: 0.6799\n",
      "Epoch 49/100\n",
      "144069/144069 [==============================] - 61s 424us/sample - loss: 0.5846 - accuracy: 0.7324 - val_loss: 0.7671 - val_accuracy: 0.6786\n",
      "Epoch 50/100\n",
      "144069/144069 [==============================] - 63s 436us/sample - loss: 0.5860 - accuracy: 0.7321 - val_loss: 0.7297 - val_accuracy: 0.6781\n",
      "Epoch 51/100\n",
      "144069/144069 [==============================] - 59s 409us/sample - loss: 0.5852 - accuracy: 0.7337 - val_loss: 0.7034 - val_accuracy: 0.6850\n",
      "Epoch 52/100\n",
      "144069/144069 [==============================] - 82s 569us/sample - loss: 0.5851 - accuracy: 0.7336 - val_loss: 0.7061 - val_accuracy: 0.6867\n",
      "Epoch 53/100\n",
      "144069/144069 [==============================] - 103s 717us/sample - loss: 0.5853 - accuracy: 0.7330 - val_loss: 0.7951 - val_accuracy: 0.6769\n",
      "Epoch 54/100\n",
      "144069/144069 [==============================] - 104s 722us/sample - loss: 0.5848 - accuracy: 0.7336 - val_loss: 0.7651 - val_accuracy: 0.6778\n",
      "Epoch 55/100\n",
      "144069/144069 [==============================] - 104s 720us/sample - loss: 0.5854 - accuracy: 0.7333 - val_loss: 0.7140 - val_accuracy: 0.6777\n",
      "Epoch 56/100\n",
      "144069/144069 [==============================] - 108s 750us/sample - loss: 0.5853 - accuracy: 0.7335 - val_loss: 0.7022 - val_accuracy: 0.6813\n",
      "Epoch 57/100\n",
      "144069/144069 [==============================] - 103s 712us/sample - loss: 0.5850 - accuracy: 0.7334 - val_loss: 0.7371 - val_accuracy: 0.6767\n",
      "Epoch 58/100\n",
      "144069/144069 [==============================] - 103s 716us/sample - loss: 0.5862 - accuracy: 0.7330 - val_loss: 0.7121 - val_accuracy: 0.6752\n",
      "Epoch 59/100\n",
      "144069/144069 [==============================] - 103s 713us/sample - loss: 0.5847 - accuracy: 0.7330 - val_loss: 0.7211 - val_accuracy: 0.6791\n",
      "Epoch 60/100\n",
      "144069/144069 [==============================] - 102s 708us/sample - loss: 0.5851 - accuracy: 0.7327 - val_loss: 0.7583 - val_accuracy: 0.6793\n",
      "Epoch 61/100\n",
      "144069/144069 [==============================] - 104s 725us/sample - loss: 0.5851 - accuracy: 0.7334 - val_loss: 0.7579 - val_accuracy: 0.6844\n",
      "Epoch 62/100\n",
      "144069/144069 [==============================] - 104s 725us/sample - loss: 0.5846 - accuracy: 0.7332 - val_loss: 0.7249 - val_accuracy: 0.6795\n",
      "Epoch 63/100\n",
      "144069/144069 [==============================] - 103s 716us/sample - loss: 0.5844 - accuracy: 0.7331 - val_loss: 0.7631 - val_accuracy: 0.6839\n",
      "Epoch 64/100\n",
      "144069/144069 [==============================] - 110s 763us/sample - loss: 0.5844 - accuracy: 0.7325 - val_loss: 0.7482 - val_accuracy: 0.6831\n",
      "Epoch 65/100\n",
      "144069/144069 [==============================] - 104s 723us/sample - loss: 0.5852 - accuracy: 0.7327 - val_loss: 0.7257 - val_accuracy: 0.6819\n",
      "Epoch 66/100\n",
      "144069/144069 [==============================] - 103s 716us/sample - loss: 0.5847 - accuracy: 0.7328 - val_loss: 0.8250 - val_accuracy: 0.6746\n",
      "Epoch 67/100\n",
      "144069/144069 [==============================] - 103s 716us/sample - loss: 0.5844 - accuracy: 0.7330 - val_loss: 0.8108 - val_accuracy: 0.6800\n",
      "Epoch 68/100\n",
      "144069/144069 [==============================] - 103s 714us/sample - loss: 0.5884 - accuracy: 0.7329 - val_loss: 0.8017 - val_accuracy: 0.6819\n",
      "Epoch 69/100\n",
      "144069/144069 [==============================] - 103s 716us/sample - loss: 0.5846 - accuracy: 0.7324 - val_loss: 0.7412 - val_accuracy: 0.6785\n",
      "Epoch 70/100\n",
      "144069/144069 [==============================] - 754s 5ms/sample - loss: 0.5847 - accuracy: 0.7329 - val_loss: 0.6987 - val_accuracy: 0.6868\n",
      "Epoch 71/100\n",
      "144069/144069 [==============================] - 58s 403us/sample - loss: 0.5856 - accuracy: 0.7340 - val_loss: 0.7691 - val_accuracy: 0.6789\n",
      "Epoch 72/100\n",
      "144069/144069 [==============================] - 62s 428us/sample - loss: 0.5847 - accuracy: 0.7324 - val_loss: 0.7321 - val_accuracy: 0.6851\n",
      "Epoch 73/100\n",
      "144069/144069 [==============================] - 63s 437us/sample - loss: 0.5848 - accuracy: 0.7331 - val_loss: 0.7417 - val_accuracy: 0.6771\n",
      "Epoch 74/100\n",
      "144069/144069 [==============================] - 77s 533us/sample - loss: 0.5849 - accuracy: 0.7333 - val_loss: 0.7339 - val_accuracy: 0.6795\n",
      "Epoch 75/100\n",
      "144069/144069 [==============================] - 108s 750us/sample - loss: 0.5842 - accuracy: 0.7334 - val_loss: 0.7351 - val_accuracy: 0.6836\n",
      "Epoch 76/100\n",
      "144069/144069 [==============================] - 119s 824us/sample - loss: 0.5852 - accuracy: 0.7326 - val_loss: 0.7527 - val_accuracy: 0.6742\n",
      "Epoch 77/100\n",
      "144069/144069 [==============================] - 106s 735us/sample - loss: 0.5862 - accuracy: 0.7325 - val_loss: 0.7376 - val_accuracy: 0.6809\n",
      "Epoch 78/100\n",
      "144069/144069 [==============================] - 116s 805us/sample - loss: 0.5856 - accuracy: 0.7327 - val_loss: 0.7310 - val_accuracy: 0.6787\n",
      "Epoch 79/100\n",
      "144069/144069 [==============================] - 107s 740us/sample - loss: 0.5849 - accuracy: 0.7331 - val_loss: 0.7844 - val_accuracy: 0.6798\n",
      "Epoch 80/100\n",
      "144069/144069 [==============================] - 104s 725us/sample - loss: 0.5849 - accuracy: 0.7327 - val_loss: 0.7588 - val_accuracy: 0.6774\n",
      "Epoch 81/100\n",
      "144069/144069 [==============================] - 112s 779us/sample - loss: 0.5852 - accuracy: 0.7327 - val_loss: 0.7265 - val_accuracy: 0.6862\n",
      "Epoch 82/100\n",
      "144069/144069 [==============================] - 107s 742us/sample - loss: 0.5847 - accuracy: 0.7320 - val_loss: 0.7225 - val_accuracy: 0.6813\n",
      "Epoch 83/100\n",
      "144069/144069 [==============================] - 114s 792us/sample - loss: 0.5851 - accuracy: 0.7336 - val_loss: 0.7416 - val_accuracy: 0.6819\n",
      "Epoch 84/100\n",
      "144069/144069 [==============================] - 106s 736us/sample - loss: 0.5856 - accuracy: 0.7321 - val_loss: 0.7254 - val_accuracy: 0.6824\n",
      "Epoch 85/100\n",
      "144069/144069 [==============================] - 103s 714us/sample - loss: 0.5853 - accuracy: 0.7334 - val_loss: 0.6841 - val_accuracy: 0.6867\n",
      "Epoch 86/100\n",
      "144069/144069 [==============================] - 108s 749us/sample - loss: 0.5850 - accuracy: 0.7326 - val_loss: 0.7939 - val_accuracy: 0.6773\n",
      "Epoch 87/100\n",
      "144069/144069 [==============================] - 103s 713us/sample - loss: 0.5852 - accuracy: 0.7325 - val_loss: 0.7566 - val_accuracy: 0.6794\n",
      "Epoch 88/100\n",
      "144069/144069 [==============================] - 104s 719us/sample - loss: 0.5848 - accuracy: 0.7322 - val_loss: 0.7598 - val_accuracy: 0.6784\n",
      "Epoch 89/100\n",
      "144069/144069 [==============================] - 104s 724us/sample - loss: 0.5857 - accuracy: 0.7322 - val_loss: 0.8089 - val_accuracy: 0.6772\n",
      "Epoch 90/100\n",
      "144069/144069 [==============================] - 103s 718us/sample - loss: 0.5851 - accuracy: 0.7323 - val_loss: 0.7245 - val_accuracy: 0.6789\n",
      "Epoch 91/100\n",
      "144069/144069 [==============================] - 103s 714us/sample - loss: 0.5850 - accuracy: 0.7335 - val_loss: 0.7415 - val_accuracy: 0.6821\n",
      "Epoch 92/100\n",
      "144069/144069 [==============================] - 101s 698us/sample - loss: 0.5844 - accuracy: 0.7329 - val_loss: 0.7563 - val_accuracy: 0.6810\n",
      "Epoch 93/100\n",
      "144069/144069 [==============================] - 101s 702us/sample - loss: 0.5853 - accuracy: 0.7328 - val_loss: 0.8979 - val_accuracy: 0.6765\n",
      "Epoch 94/100\n",
      "144069/144069 [==============================] - 104s 723us/sample - loss: 0.5866 - accuracy: 0.7326 - val_loss: 0.7413 - val_accuracy: 0.6774\n",
      "Epoch 95/100\n",
      "144069/144069 [==============================] - 104s 724us/sample - loss: 0.5859 - accuracy: 0.7314 - val_loss: 0.7507 - val_accuracy: 0.6767\n",
      "Epoch 96/100\n",
      "144069/144069 [==============================] - 103s 714us/sample - loss: 0.5853 - accuracy: 0.7329 - val_loss: 0.7522 - val_accuracy: 0.6771\n",
      "Epoch 97/100\n",
      "144069/144069 [==============================] - 103s 717us/sample - loss: 0.5850 - accuracy: 0.7330 - val_loss: 0.8577 - val_accuracy: 0.6803\n",
      "Epoch 98/100\n",
      "144069/144069 [==============================] - 104s 724us/sample - loss: 0.5864 - accuracy: 0.7328 - val_loss: 0.9366 - val_accuracy: 0.6757\n",
      "Epoch 99/100\n",
      "144069/144069 [==============================] - 104s 721us/sample - loss: 0.5851 - accuracy: 0.7324 - val_loss: 0.9581 - val_accuracy: 0.6760\n",
      "Epoch 100/100\n",
      "144069/144069 [==============================] - 104s 719us/sample - loss: 0.5850 - accuracy: 0.7324 - val_loss: 0.7580 - val_accuracy: 0.6848\n"
     ]
    }
   ],
   "source": [
    "model = create_mlp(XtrainScaled.shape[1], regress=False)\n",
    "opt = Adam(lr=0.001)\n",
    "model.compile(loss=\"sparse_categorical_crossentropy\", optimizer=opt, metrics = ['accuracy'])\n",
    "print(\"[INFO] training model...\")\n",
    "history=model.fit(x=XtrainScaled, y=y_train, \n",
    "validation_data=(XtestScaled, y_test),\n",
    "epochs=50, batch_size=8)"
   ]
  },
  {
   "cell_type": "code",
   "execution_count": 3,
   "metadata": {},
   "outputs": [
    {
     "name": "stdout",
     "output_type": "stream",
     "text": [
      "El mejor resultado obtenido es:Epoch 9/100  loss: 0.5874 - accuracy: 0.7326 - val_loss: 0.6873 - val_accuracy: 0.6901 \n"
     ]
    }
   ],
   "source": [
    "print ('El mejor resultado obtenido es:Epoch 9/100  loss: 0.5874 - accuracy: 0.7326 - val_loss: 0.6873 - val_accuracy: 0.6901 ')"
   ]
  },
  {
   "cell_type": "code",
   "execution_count": 24,
   "metadata": {},
   "outputs": [
    {
     "name": "stdout",
     "output_type": "stream",
     "text": [
      "0.25\n",
      "0.0007633761982905111\n"
     ]
    }
   ],
   "source": [
    "preds = model.predict(XtestScaled)\n",
    "print(preds.mean())\n",
    "\n",
    "print(XtestScaled.mean())"
   ]
  },
  {
   "cell_type": "markdown",
   "metadata": {},
   "source": [
    "En este segundo modelo introducimos como novedades una capa con Dropout(0.5), otro valor del regularizar L2 y una capa menos para ver si los resultados mejoran:"
   ]
  },
  {
   "cell_type": "code",
   "execution_count": 7,
   "metadata": {},
   "outputs": [],
   "source": [
    "def create_mlp2(data,regress =False):\n",
    "    model=Sequential()\n",
    "    model.add(Dense(128, input_dim=data, activation=\"relu\",kernel_regularizer=l2(0.01)))\n",
    "    model.add(Dropout(0.5))\n",
    "    model.add(Dense(48, input_dim=data, activation=\"relu\"))\n",
    "    model.add(Dense(12, input_dim=data, activation=\"relu\"))\n",
    "    model.add(Dense(4, input_dim=data, activation=\"softmax\"))\n",
    "\t# check to see if the regression node should be added\n",
    "    if regress:\n",
    "        model.add(Dense(1, activation=\"linear\"))\n",
    "\t# return our model\n",
    "    return model"
   ]
  },
  {
   "cell_type": "code",
   "execution_count": 8,
   "metadata": {},
   "outputs": [
    {
     "name": "stdout",
     "output_type": "stream",
     "text": [
      "[INFO] training model...\n",
      "Train on 144069 samples, validate on 35959 samples\n",
      "Epoch 1/100\n",
      "144069/144069 [==============================] - 24s 168us/sample - loss: 0.6474 - accuracy: 0.7169 - val_loss: 0.6824 - val_accuracy: 0.6806\n",
      "Epoch 2/100\n",
      "144069/144069 [==============================] - 28s 197us/sample - loss: 0.6328 - accuracy: 0.7196 - val_loss: 0.7147 - val_accuracy: 0.6734\n",
      "Epoch 3/100\n",
      "144069/144069 [==============================] - 28s 197us/sample - loss: 0.6306 - accuracy: 0.7207 - val_loss: 0.7029 - val_accuracy: 0.6728\n",
      "Epoch 4/100\n",
      "144069/144069 [==============================] - 28s 197us/sample - loss: 0.6296 - accuracy: 0.7218 - val_loss: 0.7015 - val_accuracy: 0.6741\n",
      "Epoch 5/100\n",
      "144069/144069 [==============================] - 29s 201us/sample - loss: 0.6295 - accuracy: 0.7207 - val_loss: 0.7020 - val_accuracy: 0.6779\n",
      "Epoch 6/100\n",
      "144069/144069 [==============================] - 36s 251us/sample - loss: 0.6283 - accuracy: 0.7201 - val_loss: 0.6978 - val_accuracy: 0.6731\n",
      "Epoch 7/100\n",
      "144069/144069 [==============================] - 50s 350us/sample - loss: 0.6287 - accuracy: 0.7194 - val_loss: 0.6791 - val_accuracy: 0.6836\n",
      "Epoch 8/100\n",
      "144069/144069 [==============================] - 51s 352us/sample - loss: 0.6277 - accuracy: 0.7205 - val_loss: 0.6884 - val_accuracy: 0.6767\n",
      "Epoch 9/100\n",
      "144069/144069 [==============================] - 51s 353us/sample - loss: 0.6265 - accuracy: 0.7211 - val_loss: 0.6840 - val_accuracy: 0.6785\n",
      "Epoch 10/100\n",
      "144069/144069 [==============================] - 50s 347us/sample - loss: 0.6270 - accuracy: 0.7210 - val_loss: 0.6860 - val_accuracy: 0.6744\n",
      "Epoch 11/100\n",
      "144069/144069 [==============================] - 50s 349us/sample - loss: 0.6264 - accuracy: 0.7208 - val_loss: 0.6927 - val_accuracy: 0.6767\n",
      "Epoch 12/100\n",
      "144069/144069 [==============================] - 51s 351us/sample - loss: 0.6268 - accuracy: 0.7218 - val_loss: 0.6908 - val_accuracy: 0.6767\n",
      "Epoch 13/100\n",
      "144069/144069 [==============================] - 50s 350us/sample - loss: 0.6270 - accuracy: 0.7202 - val_loss: 0.6766 - val_accuracy: 0.6864\n",
      "Epoch 14/100\n",
      "144069/144069 [==============================] - 50s 346us/sample - loss: 0.6272 - accuracy: 0.7197 - val_loss: 0.6906 - val_accuracy: 0.6732\n",
      "Epoch 15/100\n",
      "144069/144069 [==============================] - 50s 349us/sample - loss: 0.6272 - accuracy: 0.7208 - val_loss: 0.7038 - val_accuracy: 0.6730\n",
      "Epoch 16/100\n",
      "144069/144069 [==============================] - 51s 352us/sample - loss: 0.6269 - accuracy: 0.7210 - val_loss: 0.6929 - val_accuracy: 0.6770\n",
      "Epoch 17/100\n",
      "144069/144069 [==============================] - 51s 352us/sample - loss: 0.6276 - accuracy: 0.7196 - val_loss: 0.7028 - val_accuracy: 0.6741\n",
      "Epoch 18/100\n",
      "144069/144069 [==============================] - 51s 352us/sample - loss: 0.6261 - accuracy: 0.7213 - val_loss: 0.6977 - val_accuracy: 0.6741\n",
      "Epoch 19/100\n",
      "144069/144069 [==============================] - 51s 351us/sample - loss: 0.6258 - accuracy: 0.7209 - val_loss: 0.6900 - val_accuracy: 0.6700\n",
      "Epoch 20/100\n",
      "144069/144069 [==============================] - 51s 352us/sample - loss: 0.6267 - accuracy: 0.7202 - val_loss: 0.7229 - val_accuracy: 0.6655\n",
      "Epoch 21/100\n",
      "144069/144069 [==============================] - 51s 353us/sample - loss: 0.6260 - accuracy: 0.7207 - val_loss: 0.6772 - val_accuracy: 0.6816\n",
      "Epoch 22/100\n",
      "144069/144069 [==============================] - 51s 353us/sample - loss: 0.6256 - accuracy: 0.7216 - val_loss: 0.6742 - val_accuracy: 0.6854\n",
      "Epoch 23/100\n",
      "144069/144069 [==============================] - 50s 347us/sample - loss: 0.6264 - accuracy: 0.7208 - val_loss: 0.6824 - val_accuracy: 0.6782\n",
      "Epoch 24/100\n",
      "144069/144069 [==============================] - 50s 345us/sample - loss: 0.6257 - accuracy: 0.7209 - val_loss: 0.6874 - val_accuracy: 0.6751\n",
      "Epoch 25/100\n",
      "144069/144069 [==============================] - 51s 351us/sample - loss: 0.6258 - accuracy: 0.7207 - val_loss: 0.6986 - val_accuracy: 0.6736\n",
      "Epoch 26/100\n",
      "144069/144069 [==============================] - 51s 356us/sample - loss: 0.6247 - accuracy: 0.7216 - val_loss: 0.6857 - val_accuracy: 0.6761\n",
      "Epoch 27/100\n",
      "144069/144069 [==============================] - 51s 352us/sample - loss: 0.6260 - accuracy: 0.7211 - val_loss: 0.6829 - val_accuracy: 0.6791\n",
      "Epoch 28/100\n",
      "144069/144069 [==============================] - 50s 349us/sample - loss: 0.6266 - accuracy: 0.7209 - val_loss: 0.6767 - val_accuracy: 0.6864\n",
      "Epoch 29/100\n",
      "144069/144069 [==============================] - 60s 413us/sample - loss: 0.6255 - accuracy: 0.7217 - val_loss: 0.6743 - val_accuracy: 0.6780\n",
      "Epoch 30/100\n",
      "144069/144069 [==============================] - 55s 383us/sample - loss: 0.6268 - accuracy: 0.7198 - val_loss: 0.7075 - val_accuracy: 0.6725\n",
      "Epoch 31/100\n",
      "144069/144069 [==============================] - 51s 352us/sample - loss: 0.6264 - accuracy: 0.7205 - val_loss: 0.6678 - val_accuracy: 0.6879\n",
      "Epoch 32/100\n",
      "144069/144069 [==============================] - 49s 343us/sample - loss: 0.6265 - accuracy: 0.7199 - val_loss: 0.6913 - val_accuracy: 0.6765\n",
      "Epoch 33/100\n",
      "144069/144069 [==============================] - 51s 353us/sample - loss: 0.6255 - accuracy: 0.7207 - val_loss: 0.6751 - val_accuracy: 0.6817\n",
      "Epoch 34/100\n",
      "144069/144069 [==============================] - 51s 356us/sample - loss: 0.6259 - accuracy: 0.7198 - val_loss: 0.6851 - val_accuracy: 0.6796\n",
      "Epoch 35/100\n",
      "144069/144069 [==============================] - 52s 363us/sample - loss: 0.6236 - accuracy: 0.7216 - val_loss: 0.6853 - val_accuracy: 0.6754\n",
      "Epoch 36/100\n",
      "144069/144069 [==============================] - 50s 347us/sample - loss: 0.6250 - accuracy: 0.7209 - val_loss: 0.6843 - val_accuracy: 0.6757\n",
      "Epoch 37/100\n",
      "144069/144069 [==============================] - 52s 358us/sample - loss: 0.6248 - accuracy: 0.7215 - val_loss: 0.6886 - val_accuracy: 0.6752\n",
      "Epoch 38/100\n",
      "144069/144069 [==============================] - 51s 351us/sample - loss: 0.6243 - accuracy: 0.7212 - val_loss: 0.6822 - val_accuracy: 0.6771\n",
      "Epoch 39/100\n",
      "144069/144069 [==============================] - 55s 381us/sample - loss: 0.6235 - accuracy: 0.7213 - val_loss: 0.6832 - val_accuracy: 0.6795\n",
      "Epoch 40/100\n",
      "144069/144069 [==============================] - 51s 351us/sample - loss: 0.6245 - accuracy: 0.7198 - val_loss: 0.7005 - val_accuracy: 0.6730\n",
      "Epoch 41/100\n",
      "144069/144069 [==============================] - 51s 353us/sample - loss: 0.6256 - accuracy: 0.7225 - val_loss: 0.6903 - val_accuracy: 0.6722\n",
      "Epoch 42/100\n",
      "144069/144069 [==============================] - 78s 541us/sample - loss: 0.6306 - accuracy: 0.7204 - val_loss: 0.6923 - val_accuracy: 0.6745\n",
      "Epoch 43/100\n",
      "144069/144069 [==============================] - 114s 788us/sample - loss: 0.6238 - accuracy: 0.7204 - val_loss: 0.6843 - val_accuracy: 0.6778\n",
      "Epoch 44/100\n",
      "144069/144069 [==============================] - 100s 696us/sample - loss: 0.6233 - accuracy: 0.7214 - val_loss: 0.6935 - val_accuracy: 0.6757\n",
      "Epoch 45/100\n",
      "144069/144069 [==============================] - 115s 797us/sample - loss: 0.6260 - accuracy: 0.7199 - val_loss: 0.6779 - val_accuracy: 0.6809\n",
      "Epoch 46/100\n",
      "144069/144069 [==============================] - 111s 774us/sample - loss: 0.6234 - accuracy: 0.7205 - val_loss: 0.6872 - val_accuracy: 0.6780\n",
      "Epoch 47/100\n",
      "144069/144069 [==============================] - 125s 864us/sample - loss: 0.6250 - accuracy: 0.7208 - val_loss: 0.6757 - val_accuracy: 0.6828\n",
      "Epoch 48/100\n",
      "144069/144069 [==============================] - 108s 750us/sample - loss: 0.6241 - accuracy: 0.7196 - val_loss: 0.6916 - val_accuracy: 0.6714\n",
      "Epoch 49/100\n",
      "144069/144069 [==============================] - 97s 673us/sample - loss: 0.6232 - accuracy: 0.7198 - val_loss: 0.6715 - val_accuracy: 0.6817\n",
      "Epoch 50/100\n",
      "144069/144069 [==============================] - 70s 483us/sample - loss: 0.6225 - accuracy: 0.7221 - val_loss: 0.6952 - val_accuracy: 0.6683\n",
      "Epoch 51/100\n",
      "144069/144069 [==============================] - 113s 787us/sample - loss: 0.6236 - accuracy: 0.7206 - val_loss: 0.6962 - val_accuracy: 0.6690\n",
      "Epoch 52/100\n",
      "144069/144069 [==============================] - 107s 743us/sample - loss: 0.6228 - accuracy: 0.7202 - val_loss: 0.6798 - val_accuracy: 0.6737\n",
      "Epoch 53/100\n",
      "144069/144069 [==============================] - 128s 889us/sample - loss: 0.6228 - accuracy: 0.7224 - val_loss: 0.6898 - val_accuracy: 0.6619\n",
      "Epoch 54/100\n",
      "144069/144069 [==============================] - 121s 837us/sample - loss: 0.6232 - accuracy: 0.7208 - val_loss: 0.7053 - val_accuracy: 0.6502\n",
      "Epoch 55/100\n",
      "144069/144069 [==============================] - 136s 944us/sample - loss: 0.6246 - accuracy: 0.7203 - val_loss: 0.6924 - val_accuracy: 0.6624\n",
      "Epoch 56/100\n",
      "144069/144069 [==============================] - 177s 1ms/sample - loss: 0.6240 - accuracy: 0.7207 - val_loss: 0.7248 - val_accuracy: 0.6378\n",
      "Epoch 57/100\n",
      "144069/144069 [==============================] - 121s 839us/sample - loss: 0.6244 - accuracy: 0.7196 - val_loss: 0.6994 - val_accuracy: 0.6591\n",
      "Epoch 58/100\n",
      "144069/144069 [==============================] - 128s 886us/sample - loss: 0.6230 - accuracy: 0.7202 - val_loss: 0.7024 - val_accuracy: 0.6518\n",
      "Epoch 59/100\n",
      "144069/144069 [==============================] - 164s 1ms/sample - loss: 0.6221 - accuracy: 0.7216 - val_loss: 0.7112 - val_accuracy: 0.6371\n",
      "Epoch 60/100\n",
      "144069/144069 [==============================] - 172s 1ms/sample - loss: 0.6223 - accuracy: 0.7215 - val_loss: 0.7237 - val_accuracy: 0.6194\n",
      "Epoch 61/100\n",
      "144069/144069 [==============================] - 131s 911us/sample - loss: 0.6222 - accuracy: 0.7217 - val_loss: 0.7219 - val_accuracy: 0.6275\n",
      "Epoch 62/100\n",
      "144069/144069 [==============================] - 169s 1ms/sample - loss: 0.6245 - accuracy: 0.7200 - val_loss: 0.7152 - val_accuracy: 0.6351\n",
      "Epoch 63/100\n",
      "144069/144069 [==============================] - 159s 1ms/sample - loss: 0.6228 - accuracy: 0.7211 - val_loss: 0.7132 - val_accuracy: 0.6415\n",
      "Epoch 64/100\n",
      "144069/144069 [==============================] - 117s 811us/sample - loss: 0.6227 - accuracy: 0.7205 - val_loss: 0.7627 - val_accuracy: 0.6025\n",
      "Epoch 65/100\n",
      "144069/144069 [==============================] - 119s 825us/sample - loss: 0.6227 - accuracy: 0.7203 - val_loss: 0.7248 - val_accuracy: 0.6014\n",
      "Epoch 66/100\n",
      "144069/144069 [==============================] - 160s 1ms/sample - loss: 0.6224 - accuracy: 0.7214 - val_loss: 0.7046 - val_accuracy: 0.6433\n",
      "Epoch 67/100\n",
      "144069/144069 [==============================] - 92s 638us/sample - loss: 0.6227 - accuracy: 0.7215 - val_loss: 0.7253 - val_accuracy: 0.6152\n",
      "Epoch 68/100\n",
      "144069/144069 [==============================] - 90s 623us/sample - loss: 0.6222 - accuracy: 0.7211 - val_loss: 0.7359 - val_accuracy: 0.6114\n",
      "Epoch 69/100\n",
      "144069/144069 [==============================] - 55s 381us/sample - loss: 0.6228 - accuracy: 0.7205 - val_loss: 0.7330 - val_accuracy: 0.6251\n",
      "Epoch 70/100\n",
      "144069/144069 [==============================] - 53s 370us/sample - loss: 0.6228 - accuracy: 0.7219 - val_loss: 0.7533 - val_accuracy: 0.6060\n",
      "Epoch 71/100\n",
      "144069/144069 [==============================] - 54s 374us/sample - loss: 0.6227 - accuracy: 0.7208 - val_loss: 0.7605 - val_accuracy: 0.5632\n",
      "Epoch 72/100\n",
      "144069/144069 [==============================] - 52s 360us/sample - loss: 0.6219 - accuracy: 0.7209 - val_loss: 0.7543 - val_accuracy: 0.5977\n",
      "Epoch 73/100\n",
      "144069/144069 [==============================] - 55s 380us/sample - loss: 0.6218 - accuracy: 0.7210 - val_loss: 0.7456 - val_accuracy: 0.5975\n",
      "Epoch 74/100\n",
      "144069/144069 [==============================] - 51s 353us/sample - loss: 0.6232 - accuracy: 0.7216 - val_loss: 0.7251 - val_accuracy: 0.6266\n",
      "Epoch 75/100\n",
      "144069/144069 [==============================] - 52s 359us/sample - loss: 0.6224 - accuracy: 0.7205 - val_loss: 0.7250 - val_accuracy: 0.6129\n",
      "Epoch 76/100\n",
      "144069/144069 [==============================] - 51s 356us/sample - loss: 0.6237 - accuracy: 0.7220 - val_loss: 0.7733 - val_accuracy: 0.5629\n",
      "Epoch 77/100\n",
      "144069/144069 [==============================] - 51s 353us/sample - loss: 0.6221 - accuracy: 0.7210 - val_loss: 0.7335 - val_accuracy: 0.6134\n",
      "Epoch 78/100\n",
      "144069/144069 [==============================] - 50s 346us/sample - loss: 0.6229 - accuracy: 0.7214 - val_loss: 0.7657 - val_accuracy: 0.5480\n",
      "Epoch 79/100\n",
      "144069/144069 [==============================] - 53s 366us/sample - loss: 0.6243 - accuracy: 0.7207 - val_loss: 0.7350 - val_accuracy: 0.5918\n",
      "Epoch 80/100\n",
      "144069/144069 [==============================] - 51s 355us/sample - loss: 0.6220 - accuracy: 0.7221 - val_loss: 0.7717 - val_accuracy: 0.5553\n",
      "Epoch 81/100\n",
      "144069/144069 [==============================] - 50s 345us/sample - loss: 0.6217 - accuracy: 0.7215 - val_loss: 0.7490 - val_accuracy: 0.5573\n",
      "Epoch 82/100\n",
      "144069/144069 [==============================] - 50s 349us/sample - loss: 0.6213 - accuracy: 0.7222 - val_loss: 0.7654 - val_accuracy: 0.5691\n",
      "Epoch 83/100\n",
      "144069/144069 [==============================] - 50s 349us/sample - loss: 0.6209 - accuracy: 0.7216 - val_loss: 0.7918 - val_accuracy: 0.5481\n",
      "Epoch 84/100\n",
      "144069/144069 [==============================] - 50s 349us/sample - loss: 0.6214 - accuracy: 0.7215 - val_loss: 0.7648 - val_accuracy: 0.5716\n",
      "Epoch 85/100\n",
      "144069/144069 [==============================] - 50s 347us/sample - loss: 0.6211 - accuracy: 0.7215 - val_loss: 0.8019 - val_accuracy: 0.5513\n",
      "Epoch 86/100\n",
      "144069/144069 [==============================] - 51s 357us/sample - loss: 0.6209 - accuracy: 0.7216 - val_loss: 0.7794 - val_accuracy: 0.5653\n",
      "Epoch 87/100\n",
      "144069/144069 [==============================] - 50s 344us/sample - loss: 0.6215 - accuracy: 0.7218 - val_loss: 0.8013 - val_accuracy: 0.5618\n",
      "Epoch 88/100\n",
      "144069/144069 [==============================] - 50s 346us/sample - loss: 0.6200 - accuracy: 0.7220 - val_loss: 0.7760 - val_accuracy: 0.5698\n",
      "Epoch 89/100\n",
      "144069/144069 [==============================] - 49s 342us/sample - loss: 0.6225 - accuracy: 0.7208 - val_loss: 0.7638 - val_accuracy: 0.5735\n",
      "Epoch 90/100\n",
      "144069/144069 [==============================] - 50s 346us/sample - loss: 0.6204 - accuracy: 0.7211 - val_loss: 0.8306 - val_accuracy: 0.5321\n",
      "Epoch 91/100\n",
      "144069/144069 [==============================] - 51s 355us/sample - loss: 0.6197 - accuracy: 0.7215 - val_loss: 0.8470 - val_accuracy: 0.5292\n",
      "Epoch 92/100\n",
      "144069/144069 [==============================] - 52s 361us/sample - loss: 0.6206 - accuracy: 0.7211 - val_loss: 0.8210 - val_accuracy: 0.5341\n",
      "Epoch 93/100\n",
      "144069/144069 [==============================] - 52s 358us/sample - loss: 0.6209 - accuracy: 0.7215 - val_loss: 0.7989 - val_accuracy: 0.5414\n",
      "Epoch 94/100\n",
      "144069/144069 [==============================] - 51s 355us/sample - loss: 0.6204 - accuracy: 0.7221 - val_loss: 0.8336 - val_accuracy: 0.5336\n",
      "Epoch 95/100\n",
      "144069/144069 [==============================] - 51s 355us/sample - loss: 0.6204 - accuracy: 0.7205 - val_loss: 0.8257 - val_accuracy: 0.5407\n",
      "Epoch 96/100\n",
      "144069/144069 [==============================] - 50s 351us/sample - loss: 0.6203 - accuracy: 0.7217 - val_loss: 0.7955 - val_accuracy: 0.5398\n",
      "Epoch 97/100\n",
      "144069/144069 [==============================] - 52s 361us/sample - loss: 0.6201 - accuracy: 0.7223 - val_loss: 0.8272 - val_accuracy: 0.5282\n",
      "Epoch 98/100\n",
      "144069/144069 [==============================] - 52s 361us/sample - loss: 0.6219 - accuracy: 0.7214 - val_loss: 0.8133 - val_accuracy: 0.5326\n",
      "Epoch 99/100\n",
      "144069/144069 [==============================] - 51s 351us/sample - loss: 0.6205 - accuracy: 0.7215 - val_loss: 0.8188 - val_accuracy: 0.5377\n",
      "Epoch 100/100\n",
      "144069/144069 [==============================] - 52s 358us/sample - loss: 0.6203 - accuracy: 0.7213 - val_loss: 0.8830 - val_accuracy: 0.5222\n"
     ]
    }
   ],
   "source": [
    "model = create_mlp2(XtrainScaled.shape[1], regress=False)\n",
    "opt = Adam(lr=0.002)\n",
    "model.compile(loss=\"sparse_categorical_crossentropy\", optimizer=opt, metrics = ['accuracy'])\n",
    "print(\"[INFO] training model...\")\n",
    "history=model.fit(x=XtrainScaled, y=y_train, \n",
    "validation_data=(XtestScaled, y_test),\n",
    "epochs=50, batch_size=16)"
   ]
  },
  {
   "cell_type": "code",
   "execution_count": 4,
   "metadata": {},
   "outputs": [
    {
     "name": "stdout",
     "output_type": "stream",
     "text": [
      "El mejor resultado obtenido es: Epoch 13/100 - 50s 350us/sample - loss: 0.6270 - accuracy: 0.7202 - val_loss: 0.6766 - val_accuracy: 0.6864\n"
     ]
    }
   ],
   "source": [
    "print ('El mejor resultado obtenido es: Epoch 13/100 - 50s 350us/sample - loss: 0.6270 - accuracy: 0.7202 - val_loss: 0.6766 - val_accuracy: 0.6864')"
   ]
  },
  {
   "cell_type": "code",
   "execution_count": 13,
   "metadata": {},
   "outputs": [
    {
     "name": "stdout",
     "output_type": "stream",
     "text": [
      "dict_keys(['loss', 'accuracy', 'val_loss', 'val_accuracy'])\n"
     ]
    }
   ],
   "source": [
    "history_dict = history.history\n",
    "print(history_dict.keys())"
   ]
  },
  {
   "cell_type": "code",
   "execution_count": 16,
   "metadata": {},
   "outputs": [
    {
     "name": "stderr",
     "output_type": "stream",
     "text": [
      "No handles with labels found to put in legend.\n"
     ]
    },
    {
     "data": {
      "text/plain": [
       "<Figure size 432x288 with 0 Axes>"
      ]
     },
     "execution_count": 16,
     "metadata": {},
     "output_type": "execute_result"
    },
    {
     "data": {
      "image/png": "[encoded data removed]",
      "text/plain": [
       "<Figure size 432x288 with 1 Axes>"
      ]
     },
     "metadata": {
      "needs_background": "light"
     },
     "output_type": "display_data"
    },
    {
     "data": {
      "image/png": "[encoded data removed]",
      "text/plain": [
       "<Figure size 432x288 with 1 Axes>"
      ]
     },
     "metadata": {
      "needs_background": "light"
     },
     "output_type": "display_data"
    },
    {
     "data": {
      "text/plain": [
       "<Figure size 432x288 with 0 Axes>"
      ]
     },
     "metadata": {},
     "output_type": "display_data"
    }
   ],
   "source": [
    "%matplotlib inline\n",
    "\n",
    "import matplotlib.image as mpimg\n",
    "import matplotlib.pyplot as plt\n",
    "\n",
    "\n",
    "acc      = history.history[     'accuracy' ]\n",
    "val_acc  = history.history[ 'val_accuracy' ]\n",
    "loss     = history.history[    'loss' ]\n",
    "val_loss = history.history['val_loss' ]\n",
    "\n",
    "epochs   = range(1,len(acc)+1,1)\n",
    "\n",
    "plt.plot ( epochs,     acc, 'r--', label='Training acc'  )\n",
    "plt.plot ( epochs, val_acc,  'b', label='Validation acc')\n",
    "plt.title ('Training and validation accuracy')\n",
    "plt.ylabel('accuracy')\n",
    "plt.xlabel('epochs')\n",
    "\n",
    "plt.legend()\n",
    "plt.figure()\n",
    "\n",
    "plt.plot ( epochs,     loss, 'r--' )\n",
    "plt.plot ( epochs, val_loss ,  'b' )\n",
    "plt.title ('Training and validation loss'   )\n",
    "plt.ylabel('accuracy')\n",
    "plt.xlabel('epochs')\n",
    "\n",
    "plt.legend()\n",
    "plt.figure()"
   ]
  },
  {
   "cell_type": "markdown",
   "metadata": {},
   "source": [
    "Vemos como a partir de la época 50 baja la accuracy y aumenta el valor de la función de pérdidas, por lo que los resultados ya no nos serían útiles .\n",
    "\n"
   ]
  },
  {
   "cell_type": "code",
   "execution_count": null,
   "metadata": {},
   "outputs": [],
   "source": []
  }
 ],
 "metadata": {
  "kernelspec": {
   "display_name": "Python 3",
   "language": "python",
   "name": "python3"
  },
  "language_info": {
   "codemirror_mode": {
    "name": "ipython",
    "version": 3
   },
   "file_extension": ".py",
   "mimetype": "text/x-python",
   "name": "python",
   "nbconvert_exporter": "python",
   "pygments_lexer": "ipython3",
   "version": "3.7.6"
  }
 },
 "nbformat": 4,
 "nbformat_minor": 4
}
