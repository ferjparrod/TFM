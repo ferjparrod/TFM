{
 "cells": [
  {
   "cell_type": "markdown",
   "metadata": {
    "colab_type": "text",
    "id": "Ouqt_ZEKonD7"
   },
   "source": [
    "# ALGORITMO FINAL"
   ]
  },
  {
   "cell_type": "markdown",
   "metadata": {
    "colab_type": "text",
    "id": "sMle9i7sonD8"
   },
   "source": [
    "Una vez hemos probado en otros notebooks varios modelos de ML y de DL, cargamos de nuevo los datos ya preparados para,simplemente,predecir con el modelo más óptimo y predecir, dando con ello mayor rapidez:"
   ]
  },
  {
   "cell_type": "code",
   "execution_count": 1,
   "metadata": {
    "colab": {
     "base_uri": "https://localhost:8080/",
     "height": 505
    },
    "colab_type": "code",
    "executionInfo": {
     "elapsed": 1439,
     "status": "error",
     "timestamp": 1596986929517,
     "user": {
      "displayName": "Luis Bastos Aleman",
      "photoUrl": "https://lh3.googleusercontent.com/a-/AOh14Gj9w6DwO2tkGF1A1y_luCICGD72hYJHodOM9NeO1Q=s64",
      "userId": "11881157712997506448"
     },
     "user_tz": -60
    },
    "id": "PDIymBRnonD9",
    "outputId": "f270151b-243b-4351-e105-b395ee245a95"
   },
   "outputs": [
    {
     "name": "stdout",
     "output_type": "stream",
     "text": [
      "Dimensiones del dataset de training: (144069, 24)\n",
      "Dimensiones del dataset de test: (35959, 24)\n"
     ]
    }
   ],
   "source": [
    "import numpy as np\n",
    "import pandas as pd\n",
    "import seaborn as sns\n",
    "import matplotlib.pyplot as plt\n",
    "from matplotlib.colors import ListedColormap\n",
    "%matplotlib inline\n",
    "\n",
    "\n",
    "from sklearn.model_selection import train_test_split\n",
    "#Cargar el dataset para train y test\n",
    "\n",
    "\n",
    "df = pd.read_csv('./trainREADY.csv', sep=';', decimal='.')\n",
    "df_test = pd.read_csv('./testREADY.csv', sep=';', decimal='.')\n",
    "print(f'Dimensiones del dataset de training: {df.shape}')\n",
    "print(f'Dimensiones del dataset de test: {df_test.shape}')"
   ]
  },
  {
   "cell_type": "code",
   "execution_count": 2,
   "metadata": {
    "colab": {},
    "colab_type": "code",
    "id": "O7FsOr13onEA"
   },
   "outputs": [],
   "source": [
    "from sklearn.model_selection import GridSearchCV\n",
    "from sklearn.tree import DecisionTreeClassifier,DecisionTreeRegressor\n",
    "from sklearn.metrics import accuracy_score\n",
    "from sklearn.linear_model import Lasso\n",
    "#Preparamos los datos\n",
    "\n",
    "from sklearn import preprocessing\n",
    "data1 = df.values\n",
    "y_train = data1[:,0:1]     # nos quedamos con la 1ª columna, price\n",
    "X_train = data1[:,1:]      # nos quedamos con el resto\n",
    "feature_names = df.columns[1:]\n",
    "# Escalamos (con los datos de train)\n",
    "scaler = preprocessing.StandardScaler().fit(X_train)\n",
    "XtrainScaled = scaler.transform(X_train)\n"
   ]
  },
  {
   "cell_type": "code",
   "execution_count": 3,
   "metadata": {
    "colab": {},
    "colab_type": "code",
    "id": "iUzTOvazonEC"
   },
   "outputs": [],
   "source": [
    "data_test2 = df_test.values\n",
    "y_test = data_test2[:,0:1]     # nos quedamos con la 1ª columna, price\n",
    "X_test = data_test2[:,1:]      # nos quedamos con el resto\n",
    "feature_names_test = df_test.columns[1:]\n",
    "\n",
    "XtestScaled = scaler.transform(X_test)"
   ]
  },
  {
   "cell_type": "markdown",
   "metadata": {
    "colab_type": "text",
    "id": "n8RlwSJronEF"
   },
   "source": [
    "El modelo elegido es RandomForestClassifier, consiguiendo un score de 0.68"
   ]
  },
  {
   "cell_type": "code",
   "execution_count": 4,
   "metadata": {
    "colab": {},
    "colab_type": "code",
    "id": "b7H0nI0ConEF",
    "outputId": "4c7e3c2a-04a3-4669-c74b-adf734982eed"
   },
   "outputs": [
    {
     "name": "stderr",
     "output_type": "stream",
     "text": [
      "C:\\Users\\juanc\\anaconda3\\lib\\site-packages\\ipykernel_launcher.py:8: DataConversionWarning: A column-vector y was passed when a 1d array was expected. Please change the shape of y to (n_samples,), for example using ravel().\n",
      "  \n"
     ]
    },
    {
     "name": "stdout",
     "output_type": "stream",
     "text": [
      "Train:  0.7330237594485975\n",
      "Test:  0.7018826997413721\n"
     ]
    },
    {
     "name": "stderr",
     "output_type": "stream",
     "text": [
      "C:\\Users\\juanc\\anaconda3\\lib\\site-packages\\ipykernel_launcher.py:13: DataConversionWarning: A column-vector y was passed when a 1d array was expected. Please change the shape of y to (n_samples,), for example using ravel().\n",
      "  del sys.path[0]\n"
     ]
    },
    {
     "name": "stdout",
     "output_type": "stream",
     "text": [
      "Precisión Random Forest: 0.6834172251731139\n"
     ]
    }
   ],
   "source": [
    "from sklearn.model_selection import train_test_split\n",
    "from sklearn.linear_model import LogisticRegression\n",
    "from sklearn.svm import SVC\n",
    "from sklearn.neighbors import KNeighborsClassifier\n",
    "from sklearn.ensemble import RandomForestClassifier\n",
    "\n",
    "\n",
    "bagModel = RandomForestClassifier(max_depth=7,n_estimators=50,max_features='sqrt').fit(X_train,y_train)\n",
    "\n",
    "print(\"Train: \",bagModel.score(X_train,y_train))\n",
    "print(\"Test: \",bagModel.score(X_test,y_test))\n",
    "algoritmo=RandomForestClassifier()\n",
    "algoritmo.fit(X_train,y_train)\n",
    "Y_pred_RF = algoritmo.predict(X_test)\n",
    "\n",
    "print('Precisión Random Forest: {}'.format(algoritmo.score(X_test, y_test)))"
   ]
  },
  {
   "cell_type": "code",
   "execution_count": 5,
   "metadata": {
    "colab": {},
    "colab_type": "code",
    "id": "XYl4TkxSonEH"
   },
   "outputs": [],
   "source": [
    "array=(X_test)[14]"
   ]
  },
  {
   "cell_type": "markdown",
   "metadata": {
    "colab_type": "text",
    "id": "qDj9hr70onEJ"
   },
   "source": [
    "Vemos que predice bien:"
   ]
  },
  {
   "cell_type": "code",
   "execution_count": 6,
   "metadata": {
    "colab": {},
    "colab_type": "code",
    "id": "-sVLKy9ponEK",
    "outputId": "b686c8d9-9432-4ddf-b355-8588c96cd58b"
   },
   "outputs": [
    {
     "data": {
      "text/plain": [
       "array([0.])"
      ]
     },
     "execution_count": 6,
     "metadata": {},
     "output_type": "execute_result"
    }
   ],
   "source": [
    "algoritmo.predict(array.reshape(1,-1))"
   ]
  },
  {
   "cell_type": "markdown",
   "metadata": {
    "colab_type": "text",
    "id": "aLU_MR6RonEM"
   },
   "source": [
    "Queremos que el cliente sólo intriduzca ciertos datos como input, por lo que el resto de features tienen que darse por defecto, por ello decidimos \"rellenar\" esos inputs con las medias para test:"
   ]
  },
  {
   "cell_type": "code",
   "execution_count": 7,
   "metadata": {
    "colab": {},
    "colab_type": "code",
    "id": "GeuD--IWonEN"
   },
   "outputs": [],
   "source": [
    "lug_acc=df['Lugar_accidente'].mean()\n",
    "hielo=df['Hielo'].mean()\n",
    "seco=df['Seco'].mean()\n",
    "seca_limpia=df['Seca_limpia'].mean()\n",
    "tipo_acc=df['Tipo_accidente'].mean()\n",
    "latitud=df['Latitud'].mean()\n",
    "longitud=df['Longitud'].mean()\n",
    "dist_ocio_km=df['Distancia_ocio_km'].mean()\n",
    "lej_ocio=df['Lejania_ocio'].mean()\n",
    "dist_radar_km=df['Distancia_radares_km'].mean()\n",
    "lej_radar=df['Lejania_radares'].mean()\n",
    "anno=df['Anno'].mean()\n",
    "mes=df['Mes'].mean()\n",
    "dia=df['Dia'].mean()\n",
    "dia_habil=df['Dia_habil'].mean()\n",
    "cond_adv_calz=df['Condiciones_adversas_calzada'].mean()\n"
   ]
  },
  {
   "cell_type": "markdown",
   "metadata": {
    "colab_type": "text",
    "id": "Hc3nMChsonEP"
   },
   "source": [
    "Creamos los inputs a introducir por el usuario:"
   ]
  },
  {
   "cell_type": "code",
   "execution_count": 17,
   "metadata": {
    "colab": {},
    "colab_type": "code",
    "id": "yWKCOS53onEP",
    "outputId": "367cb104-9ef5-44a2-99ba-bc6a84369621"
   },
   "outputs": [
    {
     "name": "stdout",
     "output_type": "stream",
     "text": [
      "Escriba la hora: 33\n",
      "Escriba el dia: domingo\n",
      "Escriba el distrito: latina\n",
      "Escriba el tipo de vehículo: moto\n",
      "Escriba el tipo de persona: viajero\n",
      "Escriba su sexo: hombre\n",
      "Escriba la edad: 22\n"
     ]
    }
   ],
   "source": [
    "rango_horario = int(input(\"Escriba la hora: \"))\n",
    "dia_semana = input(\"Escriba el dia: \")\n",
    "distrito = input(\"Escriba el distrito: \")\n",
    "tipo_vehiculo = input(\"Escriba el tipo de vehículo: \")\n",
    "tipo_persona = input(\"Escriba el tipo de persona: \")\n",
    "sexo = input(\"Escriba su sexo: \")\n",
    "tramo_edad = int(input(\"Escriba la edad: \"))\n",
    "\n"
   ]
  },
  {
   "cell_type": "markdown",
   "metadata": {
    "colab_type": "text",
    "id": "Y71vgKOSonER"
   },
   "source": [
    "A coninuación hacemos que los inputs introducidos por el usuario se codifiquen con nuestro encoding del EDA:"
   ]
  },
  {
   "cell_type": "code",
   "execution_count": 18,
   "metadata": {
    "colab": {},
    "colab_type": "code",
    "id": "bley1pOgonES"
   },
   "outputs": [],
   "source": [
    "if distrito=='CHAMARTIN':\n",
    "    distrito=0.538136 \n",
    "elif distrito=='SALAMANCA':\n",
    "    distrito=0.52661\n",
    "elif distrito=='CENTRO':\n",
    "    distrito=0.520044\n",
    "elif distrito=='CIUDAD LINEAL':\n",
    "    distrito=0.542599\n",
    "elif distrito=='PUENTE DE VALLECAS':\n",
    "    distrito=0.528020\n",
    "elif distrito=='CARABANCHEL':\n",
    "    distrito=0.529012 \n",
    "elif distrito=='CHAMBERI':\n",
    "    distrito=0.539454\n",
    "elif distrito=='RETIRO':\n",
    "    distrito=0.542946\n",
    "elif distrito=='FUENCARRAL-EL PARDO':\n",
    "    distrito=0.559222\n",
    "elif distrito=='TETUAN':\n",
    "    distrito=0.544002 \n",
    "elif distrito=='MONCLOA-ARAVACA':\n",
    "    distrito=0.562741\n",
    "elif distrito=='ARGANZUELA':\n",
    "    distrito=0.527174\n",
    "elif distrito=='SAN BLAS':\n",
    "    distrito=0.537926\n",
    "elif distrito=='LATINA':\n",
    "    distrito=0.535205\n",
    "elif distrito=='USERA':\n",
    "    distrito=0.514768 \n",
    "elif distrito=='HORTALEZA':\n",
    "    distrito=0.552982 \n",
    "elif distrito=='VILLAVERDE':\n",
    "    distrito=0.537729 \n",
    "elif distrito=='MORATALAZ':\n",
    "    distrito=0.546963\n",
    "elif distrito=='VILLA DE VALLECAS':\n",
    "    distrito=0.541587\n",
    "elif distrito=='VICALVARO':\n",
    "    distrito=0.573143\n",
    "elif distrito=='BARAJAS':\n",
    "    distrito=0.543067\n",
    "\n",
    "else:\n",
    "    distrito=0.545455 \n",
    "    "
   ]
  },
  {
   "cell_type": "code",
   "execution_count": 19,
   "metadata": {
    "colab": {},
    "colab_type": "code",
    "id": "9gKqXZDmonEU"
   },
   "outputs": [],
   "source": [
    "if tipo_vehiculo=='TURISMO':\n",
    "    tipo_vehiculo=0.932760\n",
    "elif tipo_vehiculo=='MOTOCICLETA':\n",
    "    tipo_vehiculo=1.035363\n",
    "elif tipo_vehiculo=='FURGONETA':\n",
    "    tipo_vehiculo=0.291403\n",
    "elif tipo_vehiculo=='AUTO-TAXI':\n",
    "    tipo_vehiculo=0.390084\n",
    "elif tipo_vehiculo=='AUTOBUS-AUTOCAR':\n",
    "    tipo_vehiculo=0.501497   \n",
    "elif tipo_vehiculo=='CICLOMOTOR':\n",
    "    tipo_vehiculo=1.018205\n",
    "elif tipo_vehiculo=='BICICLETA':\n",
    "    tipo_vehiculo=1.017821\n",
    "elif tipo_vehiculo=='CAMION':\n",
    "    tipo_vehiculo=0.166977 \n",
    "elif tipo_vehiculo=='AMBULANCIA':\n",
    "    tipo_vehiculo=0.507205\n",
    "elif tipo_vehiculo=='VEH.3 RUEDAS':\n",
    "    tipo_vehiculo=1.121212    \n",
    "else:\n",
    "    tipo_vehiculo=0.50"
   ]
  },
  {
   "cell_type": "code",
   "execution_count": 20,
   "metadata": {
    "colab": {},
    "colab_type": "code",
    "id": "g-fiM68ronEW"
   },
   "outputs": [],
   "source": [
    "if dia_semana=='LUNES':\n",
    "    dia_semana=1\n",
    "elif dia_semana=='MARTES':\n",
    "    dia_semana=2\n",
    "elif dia_semana=='MIERCOLESS':\n",
    "    dia_semana=3\n",
    "elif dia_semana=='JUEVES':\n",
    "    dia_semana=4\n",
    "elif dia_semana=='VIERNES':\n",
    "    dia_semana=5\n",
    "elif dia_semana=='SABADO':\n",
    "    dia_semana=6\n",
    "else:\n",
    "    dia_semana=7"
   ]
  },
  {
   "cell_type": "code",
   "execution_count": 21,
   "metadata": {
    "colab": {},
    "colab_type": "code",
    "id": "tvd_v996onEY"
   },
   "outputs": [],
   "source": [
    "if tipo_persona=='CONDUCTOR':\n",
    "    tipo_persona=0.523581\n",
    "elif tipo_persona=='VIAJERO':\n",
    "    tipo_persona=0.584713 \n",
    "else:\n",
    "    tipo_persona=1.333333   "
   ]
  },
  {
   "cell_type": "code",
   "execution_count": 22,
   "metadata": {
    "colab": {},
    "colab_type": "code",
    "id": "YrURHIyWonEa"
   },
   "outputs": [],
   "source": [
    "if sexo=='HOMBRE':\n",
    "    sexo=1\n",
    "else:\n",
    "    sexo=0"
   ]
  },
  {
   "cell_type": "markdown",
   "metadata": {
    "colab_type": "text",
    "id": "jEpeByFTonEc"
   },
   "source": [
    "Ahora reflejamos la predicción propiamente dicha:"
   ]
  },
  {
   "cell_type": "code",
   "execution_count": 23,
   "metadata": {
    "colab": {},
    "colab_type": "code",
    "id": "CoJBOIYqonEc"
   },
   "outputs": [],
   "source": [
    "inputs=[rango_horario,dia_semana,distrito,lug_acc,hielo,seco,seca_limpia,tipo_acc,tipo_vehiculo,tipo_persona,sexo,tramo_edad,latitud,longitud,dist_ocio_km,lej_ocio,dist_radar_km,lej_radar,anno,mes,dia,dia_habil,cond_adv_calz]\n"
   ]
  },
  {
   "cell_type": "code",
   "execution_count": 24,
   "metadata": {
    "colab": {},
    "colab_type": "code",
    "id": "Em2FG2jKonEe"
   },
   "outputs": [],
   "source": [
    "new_inputs = np.array([inputs])"
   ]
  },
  {
   "cell_type": "code",
   "execution_count": 25,
   "metadata": {
    "colab": {},
    "colab_type": "code",
    "id": "n2qUnZ-8onEf",
    "outputId": "2a3572c1-28ca-4c49-d0df-f9e3a6f5539e"
   },
   "outputs": [
    {
     "name": "stdout",
     "output_type": "stream",
     "text": [
      "Su lesividad sería: HERIDO LEVE [1.]\n"
     ]
    }
   ],
   "source": [
    "a=algoritmo.predict(new_inputs)\n",
    "if a==0:\n",
    "    print(\"Su lesividad sería: ILESO\",a)\n",
    "elif a==1:\n",
    "    print(\"Su lesividad sería: HERIDO LEVE\",a)\n",
    "elif a==2:\n",
    "    print(\"Su lesividad sería: HERIDO GRAVE\",a)\n",
    "else:\n",
    "    print(\"Su lesividad sería: FALLECIDO\",a)\n",
    "    "
   ]
  },
  {
   "cell_type": "code",
   "execution_count": null,
   "metadata": {},
   "outputs": [],
   "source": []
  },
  {
   "cell_type": "code",
   "execution_count": null,
   "metadata": {},
   "outputs": [],
   "source": []
  },
  {
   "cell_type": "code",
   "execution_count": null,
   "metadata": {},
   "outputs": [],
   "source": []
  }
 ],
 "metadata": {
  "colab": {
   "name": "PRUEBA CON MODELO DEFINITIVO.ipynb",
   "provenance": []
  },
  "kernelspec": {
   "display_name": "Python 3",
   "language": "python",
   "name": "python3"
  },
  "language_info": {
   "codemirror_mode": {
    "name": "ipython",
    "version": 3
   },
   "file_extension": ".py",
   "mimetype": "text/x-python",
   "name": "python",
   "nbconvert_exporter": "python",
   "pygments_lexer": "ipython3",
   "version": "3.7.6"
  }
 },
 "nbformat": 4,
 "nbformat_minor": 1
}
